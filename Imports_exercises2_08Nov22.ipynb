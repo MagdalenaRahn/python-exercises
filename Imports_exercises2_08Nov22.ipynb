{
 "cells": [
  {
   "cell_type": "code",
   "execution_count": 84,
   "id": "d13e4494",
   "metadata": {},
   "outputs": [],
   "source": [
    "'''\n",
    "\n",
    "1/ Import and test 3 of the functions from your functions exercise file. Import each function in a different way:\n",
    "\n",
    "   a/  Run an interactive python session and import the module. Call the is_vowel function using the . syntax.\n",
    "   b/  Create a file named import_exericses.py. Within this file, use from to import the calculate_tip function \n",
    "        directly. Call this function with values you choose and print the result.\n",
    "   c/ Create a jupyter notebook named import_exercises.ipynb. Use from to import the get_letter_grade function \n",
    "    and give it an alias. Test this function in your notebook.\n",
    "\n",
    "Make sure your code that tests the function imports is run from the same directory that your functions \n",
    "exercise file is in.\n",
    "\n",
    "'''\n",
    "\n",
    "import itertools as itt\n",
    "\n",
    "# 1\n",
    "import functions_exercises as fe"
   ]
  },
  {
   "cell_type": "code",
   "execution_count": 85,
   "id": "243f8d2a",
   "metadata": {},
   "outputs": [
    {
     "data": {
      "text/plain": [
       "True"
      ]
     },
     "execution_count": 85,
     "metadata": {},
     "output_type": "execute_result"
    }
   ],
   "source": [
    "# 1a\n",
    "fe.is_vowel('a')\n"
   ]
  },
  {
   "cell_type": "code",
   "execution_count": 82,
   "id": "5f2eb67e",
   "metadata": {},
   "outputs": [],
   "source": [
    "# 1b\n",
    "from functions_exercises import apply_discount"
   ]
  },
  {
   "cell_type": "code",
   "execution_count": 83,
   "id": "36cff721",
   "metadata": {},
   "outputs": [],
   "source": [
    "# 1c\n",
    "from import_exercises import is_letter_grade"
   ]
  },
  {
   "cell_type": "code",
   "execution_count": 81,
   "id": "7343fd29",
   "metadata": {},
   "outputs": [
    {
     "name": "stdout",
     "output_type": "stream",
     "text": [
      "('a', 'b', 'c', '1', '3', '2') ('a', 'b', 'c', '2', '1', '3') ('a', 'b', 'c', '2', '3', '1') ('a', 'b', 'c', '3', '1', '2') ('a', 'b', 'c', '3', '2', '1') ('a', 'b', '1', 'c', '2', '3') ('a', 'b', '1', 'c', '3', '2') ('a', 'b', '1', '2', 'c', '3') ('a', 'b', '1', '2', '3', 'c') ('a', 'b', '1', '3', 'c', '2') ('a', 'b', '1', '3', '2', 'c') ('a', 'b', '2', 'c', '1', '3') ('a', 'b', '2', 'c', '3', '1') ('a', 'b', '2', '1', 'c', '3') ('a', 'b', '2', '1', '3', 'c') ('a', 'b', '2', '3', 'c', '1') ('a', 'b', '2', '3', '1', 'c') ('a', 'b', '3', 'c', '1', '2') ('a', 'b', '3', 'c', '2', '1') ('a', 'b', '3', '1', 'c', '2') ('a', 'b', '3', '1', '2', 'c') ('a', 'b', '3', '2', 'c', '1') ('a', 'b', '3', '2', '1', 'c') ('a', 'c', 'b', '1', '2', '3') ('a', 'c', 'b', '1', '3', '2') ('a', 'c', 'b', '2', '1', '3') ('a', 'c', 'b', '2', '3', '1') ('a', 'c', 'b', '3', '1', '2') ('a', 'c', 'b', '3', '2', '1') ('a', 'c', '1', 'b', '2', '3') ('a', 'c', '1', 'b', '3', '2') ('a', 'c', '1', '2', 'b', '3') ('a', 'c', '1', '2', '3', 'b') ('a', 'c', '1', '3', 'b', '2') ('a', 'c', '1', '3', '2', 'b') ('a', 'c', '2', 'b', '1', '3') ('a', 'c', '2', 'b', '3', '1') ('a', 'c', '2', '1', 'b', '3') ('a', 'c', '2', '1', '3', 'b') ('a', 'c', '2', '3', 'b', '1') ('a', 'c', '2', '3', '1', 'b') ('a', 'c', '3', 'b', '1', '2') ('a', 'c', '3', 'b', '2', '1') ('a', 'c', '3', '1', 'b', '2') ('a', 'c', '3', '1', '2', 'b') ('a', 'c', '3', '2', 'b', '1') ('a', 'c', '3', '2', '1', 'b') ('a', '1', 'b', 'c', '2', '3') ('a', '1', 'b', 'c', '3', '2') ('a', '1', 'b', '2', 'c', '3') ('a', '1', 'b', '2', '3', 'c') ('a', '1', 'b', '3', 'c', '2') ('a', '1', 'b', '3', '2', 'c') ('a', '1', 'c', 'b', '2', '3') ('a', '1', 'c', 'b', '3', '2') ('a', '1', 'c', '2', 'b', '3') ('a', '1', 'c', '2', '3', 'b') ('a', '1', 'c', '3', 'b', '2') ('a', '1', 'c', '3', '2', 'b') ('a', '1', '2', 'b', 'c', '3') ('a', '1', '2', 'b', '3', 'c') ('a', '1', '2', 'c', 'b', '3') ('a', '1', '2', 'c', '3', 'b') ('a', '1', '2', '3', 'b', 'c') ('a', '1', '2', '3', 'c', 'b') ('a', '1', '3', 'b', 'c', '2') ('a', '1', '3', 'b', '2', 'c') ('a', '1', '3', 'c', 'b', '2') ('a', '1', '3', 'c', '2', 'b') ('a', '1', '3', '2', 'b', 'c') ('a', '1', '3', '2', 'c', 'b') ('a', '2', 'b', 'c', '1', '3') ('a', '2', 'b', 'c', '3', '1') ('a', '2', 'b', '1', 'c', '3') ('a', '2', 'b', '1', '3', 'c') ('a', '2', 'b', '3', 'c', '1') ('a', '2', 'b', '3', '1', 'c') ('a', '2', 'c', 'b', '1', '3') ('a', '2', 'c', 'b', '3', '1') ('a', '2', 'c', '1', 'b', '3') ('a', '2', 'c', '1', '3', 'b') ('a', '2', 'c', '3', 'b', '1') ('a', '2', 'c', '3', '1', 'b') ('a', '2', '1', 'b', 'c', '3') ('a', '2', '1', 'b', '3', 'c') ('a', '2', '1', 'c', 'b', '3') ('a', '2', '1', 'c', '3', 'b') ('a', '2', '1', '3', 'b', 'c') ('a', '2', '1', '3', 'c', 'b') ('a', '2', '3', 'b', 'c', '1') ('a', '2', '3', 'b', '1', 'c') ('a', '2', '3', 'c', 'b', '1') ('a', '2', '3', 'c', '1', 'b') ('a', '2', '3', '1', 'b', 'c') ('a', '2', '3', '1', 'c', 'b') ('a', '3', 'b', 'c', '1', '2') ('a', '3', 'b', 'c', '2', '1') ('a', '3', 'b', '1', 'c', '2') ('a', '3', 'b', '1', '2', 'c') ('a', '3', 'b', '2', 'c', '1') ('a', '3', 'b', '2', '1', 'c') ('a', '3', 'c', 'b', '1', '2') ('a', '3', 'c', 'b', '2', '1') ('a', '3', 'c', '1', 'b', '2') ('a', '3', 'c', '1', '2', 'b') ('a', '3', 'c', '2', 'b', '1') ('a', '3', 'c', '2', '1', 'b') ('a', '3', '1', 'b', 'c', '2') ('a', '3', '1', 'b', '2', 'c') ('a', '3', '1', 'c', 'b', '2') ('a', '3', '1', 'c', '2', 'b') ('a', '3', '1', '2', 'b', 'c') ('a', '3', '1', '2', 'c', 'b') ('a', '3', '2', 'b', 'c', '1') ('a', '3', '2', 'b', '1', 'c') ('a', '3', '2', 'c', 'b', '1') ('a', '3', '2', 'c', '1', 'b') ('a', '3', '2', '1', 'b', 'c') ('a', '3', '2', '1', 'c', 'b') ('b', 'a', 'c', '1', '2', '3') ('b', 'a', 'c', '1', '3', '2') ('b', 'a', 'c', '2', '1', '3') ('b', 'a', 'c', '2', '3', '1') ('b', 'a', 'c', '3', '1', '2') ('b', 'a', 'c', '3', '2', '1') ('b', 'a', '1', 'c', '2', '3') ('b', 'a', '1', 'c', '3', '2') ('b', 'a', '1', '2', 'c', '3') ('b', 'a', '1', '2', '3', 'c') ('b', 'a', '1', '3', 'c', '2') ('b', 'a', '1', '3', '2', 'c') ('b', 'a', '2', 'c', '1', '3') ('b', 'a', '2', 'c', '3', '1') ('b', 'a', '2', '1', 'c', '3') ('b', 'a', '2', '1', '3', 'c') ('b', 'a', '2', '3', 'c', '1') ('b', 'a', '2', '3', '1', 'c') ('b', 'a', '3', 'c', '1', '2') ('b', 'a', '3', 'c', '2', '1') ('b', 'a', '3', '1', 'c', '2') ('b', 'a', '3', '1', '2', 'c') ('b', 'a', '3', '2', 'c', '1') ('b', 'a', '3', '2', '1', 'c') ('b', 'c', 'a', '1', '2', '3') ('b', 'c', 'a', '1', '3', '2') ('b', 'c', 'a', '2', '1', '3') ('b', 'c', 'a', '2', '3', '1') ('b', 'c', 'a', '3', '1', '2') ('b', 'c', 'a', '3', '2', '1') ('b', 'c', '1', 'a', '2', '3') ('b', 'c', '1', 'a', '3', '2') ('b', 'c', '1', '2', 'a', '3') ('b', 'c', '1', '2', '3', 'a') ('b', 'c', '1', '3', 'a', '2') ('b', 'c', '1', '3', '2', 'a') ('b', 'c', '2', 'a', '1', '3') ('b', 'c', '2', 'a', '3', '1') ('b', 'c', '2', '1', 'a', '3') ('b', 'c', '2', '1', '3', 'a') ('b', 'c', '2', '3', 'a', '1') ('b', 'c', '2', '3', '1', 'a') ('b', 'c', '3', 'a', '1', '2') ('b', 'c', '3', 'a', '2', '1') ('b', 'c', '3', '1', 'a', '2') ('b', 'c', '3', '1', '2', 'a') ('b', 'c', '3', '2', 'a', '1') ('b', 'c', '3', '2', '1', 'a') ('b', '1', 'a', 'c', '2', '3') ('b', '1', 'a', 'c', '3', '2') ('b', '1', 'a', '2', 'c', '3') ('b', '1', 'a', '2', '3', 'c') ('b', '1', 'a', '3', 'c', '2') ('b', '1', 'a', '3', '2', 'c') ('b', '1', 'c', 'a', '2', '3') ('b', '1', 'c', 'a', '3', '2') ('b', '1', 'c', '2', 'a', '3') ('b', '1', 'c', '2', '3', 'a') ('b', '1', 'c', '3', 'a', '2') ('b', '1', 'c', '3', '2', 'a') ('b', '1', '2', 'a', 'c', '3') ('b', '1', '2', 'a', '3', 'c') ('b', '1', '2', 'c', 'a', '3') ('b', '1', '2', 'c', '3', 'a') ('b', '1', '2', '3', 'a', 'c') ('b', '1', '2', '3', 'c', 'a') ('b', '1', '3', 'a', 'c', '2') ('b', '1', '3', 'a', '2', 'c') ('b', '1', '3', 'c', 'a', '2') ('b', '1', '3', 'c', '2', 'a') ('b', '1', '3', '2', 'a', 'c') ('b', '1', '3', '2', 'c', 'a') ('b', '2', 'a', 'c', '1', '3') ('b', '2', 'a', 'c', '3', '1') ('b', '2', 'a', '1', 'c', '3') ('b', '2', 'a', '1', '3', 'c') ('b', '2', 'a', '3', 'c', '1') ('b', '2', 'a', '3', '1', 'c') ('b', '2', 'c', 'a', '1', '3') ('b', '2', 'c', 'a', '3', '1') ('b', '2', 'c', '1', 'a', '3') ('b', '2', 'c', '1', '3', 'a') ('b', '2', 'c', '3', 'a', '1') ('b', '2', 'c', '3', '1', 'a') ('b', '2', '1', 'a', 'c', '3') ('b', '2', '1', 'a', '3', 'c') ('b', '2', '1', 'c', 'a', '3') ('b', '2', '1', 'c', '3', 'a') ('b', '2', '1', '3', 'a', 'c') ('b', '2', '1', '3', 'c', 'a') ('b', '2', '3', 'a', 'c', '1') ('b', '2', '3', 'a', '1', 'c') ('b', '2', '3', 'c', 'a', '1') ('b', '2', '3', 'c', '1', 'a') ('b', '2', '3', '1', 'a', 'c') ('b', '2', '3', '1', 'c', 'a') ('b', '3', 'a', 'c', '1', '2') ('b', '3', 'a', 'c', '2', '1') ('b', '3', 'a', '1', 'c', '2') ('b', '3', 'a', '1', '2', 'c') ('b', '3', 'a', '2', 'c', '1') ('b', '3', 'a', '2', '1', 'c') ('b', '3', 'c', 'a', '1', '2') ('b', '3', 'c', 'a', '2', '1') ('b', '3', 'c', '1', 'a', '2') ('b', '3', 'c', '1', '2', 'a') ('b', '3', 'c', '2', 'a', '1') ('b', '3', 'c', '2', '1', 'a') ('b', '3', '1', 'a', 'c', '2') ('b', '3', '1', 'a', '2', 'c') ('b', '3', '1', 'c', 'a', '2') ('b', '3', '1', 'c', '2', 'a') ('b', '3', '1', '2', 'a', 'c') ('b', '3', '1', '2', 'c', 'a') ('b', '3', '2', 'a', 'c', '1') ('b', '3', '2', 'a', '1', 'c') ('b', '3', '2', 'c', 'a', '1') ('b', '3', '2', 'c', '1', 'a') ('b', '3', '2', '1', 'a', 'c') ('b', '3', '2', '1', 'c', 'a') ('c', 'a', 'b', '1', '2', '3') ('c', 'a', 'b', '1', '3', '2') ('c', 'a', 'b', '2', '1', '3') ('c', 'a', 'b', '2', '3', '1') ('c', 'a', 'b', '3', '1', '2') ('c', 'a', 'b', '3', '2', '1') ('c', 'a', '1', 'b', '2', '3') ('c', 'a', '1', 'b', '3', '2') ('c', 'a', '1', '2', 'b', '3') ('c', 'a', '1', '2', '3', 'b') ('c', 'a', '1', '3', 'b', '2') ('c', 'a', '1', '3', '2', 'b') ('c', 'a', '2', 'b', '1', '3') ('c', 'a', '2', 'b', '3', '1') ('c', 'a', '2', '1', 'b', '3') ('c', 'a', '2', '1', '3', 'b') ('c', 'a', '2', '3', 'b', '1') ('c', 'a', '2', '3', '1', 'b') ('c', 'a', '3', 'b', '1', '2') ('c', 'a', '3', 'b', '2', '1') ('c', 'a', '3', '1', 'b', '2') ('c', 'a', '3', '1', '2', 'b') ('c', 'a', '3', '2', 'b', '1') ('c', 'a', '3', '2', '1', 'b') ('c', 'b', 'a', '1', '2', '3') ('c', 'b', 'a', '1', '3', '2') ('c', 'b', 'a', '2', '1', '3') ('c', 'b', 'a', '2', '3', '1') ('c', 'b', 'a', '3', '1', '2') ('c', 'b', 'a', '3', '2', '1') ('c', 'b', '1', 'a', '2', '3') ('c', 'b', '1', 'a', '3', '2') ('c', 'b', '1', '2', 'a', '3') ('c', 'b', '1', '2', '3', 'a') ('c', 'b', '1', '3', 'a', '2') ('c', 'b', '1', '3', '2', 'a') ('c', 'b', '2', 'a', '1', '3') ('c', 'b', '2', 'a', '3', '1') ('c', 'b', '2', '1', 'a', '3') ('c', 'b', '2', '1', '3', 'a') ('c', 'b', '2', '3', 'a', '1') ('c', 'b', '2', '3', '1', 'a') ('c', 'b', '3', 'a', '1', '2') ('c', 'b', '3', 'a', '2', '1') ('c', 'b', '3', '1', 'a', '2') ('c', 'b', '3', '1', '2', 'a') ('c', 'b', '3', '2', 'a', '1') ('c', 'b', '3', '2', '1', 'a') ('c', '1', 'a', 'b', '2', '3') ('c', '1', 'a', 'b', '3', '2') ('c', '1', 'a', '2', 'b', '3') ('c', '1', 'a', '2', '3', 'b') ('c', '1', 'a', '3', 'b', '2') ('c', '1', 'a', '3', '2', 'b') ('c', '1', 'b', 'a', '2', '3') ('c', '1', 'b', 'a', '3', '2') ('c', '1', 'b', '2', 'a', '3') ('c', '1', 'b', '2', '3', 'a') ('c', '1', 'b', '3', 'a', '2') ('c', '1', 'b', '3', '2', 'a') ('c', '1', '2', 'a', 'b', '3') ('c', '1', '2', 'a', '3', 'b') ('c', '1', '2', 'b', 'a', '3') ('c', '1', '2', 'b', '3', 'a') ('c', '1', '2', '3', 'a', 'b') ('c', '1', '2', '3', 'b', 'a') ('c', '1', '3', 'a', 'b', '2') ('c', '1', '3', 'a', '2', 'b') ('c', '1', '3', 'b', 'a', '2') ('c', '1', '3', 'b', '2', 'a') ('c', '1', '3', '2', 'a', 'b') ('c', '1', '3', '2', 'b', 'a') ('c', '2', 'a', 'b', '1', '3') ('c', '2', 'a', 'b', '3', '1') ('c', '2', 'a', '1', 'b', '3') ('c', '2', 'a', '1', '3', 'b') ('c', '2', 'a', '3', 'b', '1') ('c', '2', 'a', '3', '1', 'b') ('c', '2', 'b', 'a', '1', '3') ('c', '2', 'b', 'a', '3', '1') ('c', '2', 'b', '1', 'a', '3') ('c', '2', 'b', '1', '3', 'a') ('c', '2', 'b', '3', 'a', '1') ('c', '2', 'b', '3', '1', 'a') ('c', '2', '1', 'a', 'b', '3') ('c', '2', '1', 'a', '3', 'b') ('c', '2', '1', 'b', 'a', '3') ('c', '2', '1', 'b', '3', 'a') ('c', '2', '1', '3', 'a', 'b') ('c', '2', '1', '3', 'b', 'a') ('c', '2', '3', 'a', 'b', '1') ('c', '2', '3', 'a', '1', 'b') ('c', '2', '3', 'b', 'a', '1') ('c', '2', '3', 'b', '1', 'a') ('c', '2', '3', '1', 'a', 'b') ('c', '2', '3', '1', 'b', 'a') ('c', '3', 'a', 'b', '1', '2') ('c', '3', 'a', 'b', '2', '1') ('c', '3', 'a', '1', 'b', '2') ('c', '3', 'a', '1', '2', 'b') ('c', '3', 'a', '2', 'b', '1') ('c', '3', 'a', '2', '1', 'b') ('c', '3', 'b', 'a', '1', '2') ('c', '3', 'b', 'a', '2', '1') ('c', '3', 'b', '1', 'a', '2') ('c', '3', 'b', '1', '2', 'a') ('c', '3', 'b', '2', 'a', '1') ('c', '3', 'b', '2', '1', 'a') ('c', '3', '1', 'a', 'b', '2') ('c', '3', '1', 'a', '2', 'b') ('c', '3', '1', 'b', 'a', '2') ('c', '3', '1', 'b', '2', 'a') ('c', '3', '1', '2', 'a', 'b') ('c', '3', '1', '2', 'b', 'a') ('c', '3', '2', 'a', 'b', '1') ('c', '3', '2', 'a', '1', 'b') ('c', '3', '2', 'b', 'a', '1') ('c', '3', '2', 'b', '1', 'a') ('c', '3', '2', '1', 'a', 'b') ('c', '3', '2', '1', 'b', 'a') ('1', 'a', 'b', 'c', '2', '3') ('1', 'a', 'b', 'c', '3', '2') ('1', 'a', 'b', '2', 'c', '3') ('1', 'a', 'b', '2', '3', 'c') ('1', 'a', 'b', '3', 'c', '2') ('1', 'a', 'b', '3', '2', 'c') ('1', 'a', 'c', 'b', '2', '3') ('1', 'a', 'c', 'b', '3', '2') ('1', 'a', 'c', '2', 'b', '3') ('1', 'a', 'c', '2', '3', 'b') ('1', 'a', 'c', '3', 'b', '2') ('1', 'a', 'c', '3', '2', 'b') ('1', 'a', '2', 'b', 'c', '3') ('1', 'a', '2', 'b', '3', 'c') ('1', 'a', '2', 'c', 'b', '3') ('1', 'a', '2', 'c', '3', 'b') ('1', 'a', '2', '3', 'b', 'c') ('1', 'a', '2', '3', 'c', 'b') ('1', 'a', '3', 'b', 'c', '2') ('1', 'a', '3', 'b', '2', 'c') ('1', 'a', '3', 'c', 'b', '2') ('1', 'a', '3', 'c', '2', 'b') ('1', 'a', '3', '2', 'b', 'c') ('1', 'a', '3', '2', 'c', 'b') ('1', 'b', 'a', 'c', '2', '3') ('1', 'b', 'a', 'c', '3', '2') ('1', 'b', 'a', '2', 'c', '3') ('1', 'b', 'a', '2', '3', 'c') ('1', 'b', 'a', '3', 'c', '2') ('1', 'b', 'a', '3', '2', 'c') ('1', 'b', 'c', 'a', '2', '3') ('1', 'b', 'c', 'a', '3', '2') ('1', 'b', 'c', '2', 'a', '3') ('1', 'b', 'c', '2', '3', 'a') ('1', 'b', 'c', '3', 'a', '2') ('1', 'b', 'c', '3', '2', 'a') ('1', 'b', '2', 'a', 'c', '3') ('1', 'b', '2', 'a', '3', 'c') ('1', 'b', '2', 'c', 'a', '3') ('1', 'b', '2', 'c', '3', 'a') ('1', 'b', '2', '3', 'a', 'c') ('1', 'b', '2', '3', 'c', 'a') ('1', 'b', '3', 'a', 'c', '2') ('1', 'b', '3', 'a', '2', 'c') ('1', 'b', '3', 'c', 'a', '2') ('1', 'b', '3', 'c', '2', 'a') ('1', 'b', '3', '2', 'a', 'c') ('1', 'b', '3', '2', 'c', 'a') ('1', 'c', 'a', 'b', '2', '3') ('1', 'c', 'a', 'b', '3', '2') ('1', 'c', 'a', '2', 'b', '3') ('1', 'c', 'a', '2', '3', 'b') ('1', 'c', 'a', '3', 'b', '2') ('1', 'c', 'a', '3', '2', 'b') ('1', 'c', 'b', 'a', '2', '3') ('1', 'c', 'b', 'a', '3', '2') ('1', 'c', 'b', '2', 'a', '3') ('1', 'c', 'b', '2', '3', 'a') ('1', 'c', 'b', '3', 'a', '2') ('1', 'c', 'b', '3', '2', 'a') ('1', 'c', '2', 'a', 'b', '3') ('1', 'c', '2', 'a', '3', 'b') ('1', 'c', '2', 'b', 'a', '3') ('1', 'c', '2', 'b', '3', 'a') ('1', 'c', '2', '3', 'a', 'b') ('1', 'c', '2', '3', 'b', 'a') ('1', 'c', '3', 'a', 'b', '2') ('1', 'c', '3', 'a', '2', 'b') ('1', 'c', '3', 'b', 'a', '2') ('1', 'c', '3', 'b', '2', 'a') ('1', 'c', '3', '2', 'a', 'b') ('1', 'c', '3', '2', 'b', 'a') ('1', '2', 'a', 'b', 'c', '3') ('1', '2', 'a', 'b', '3', 'c') ('1', '2', 'a', 'c', 'b', '3') ('1', '2', 'a', 'c', '3', 'b') ('1', '2', 'a', '3', 'b', 'c') ('1', '2', 'a', '3', 'c', 'b') ('1', '2', 'b', 'a', 'c', '3') ('1', '2', 'b', 'a', '3', 'c') ('1', '2', 'b', 'c', 'a', '3') ('1', '2', 'b', 'c', '3', 'a') ('1', '2', 'b', '3', 'a', 'c') ('1', '2', 'b', '3', 'c', 'a') ('1', '2', 'c', 'a', 'b', '3') ('1', '2', 'c', 'a', '3', 'b') ('1', '2', 'c', 'b', 'a', '3') ('1', '2', 'c', 'b', '3', 'a') ('1', '2', 'c', '3', 'a', 'b') ('1', '2', 'c', '3', 'b', 'a') ('1', '2', '3', 'a', 'b', 'c') ('1', '2', '3', 'a', 'c', 'b') ('1', '2', '3', 'b', 'a', 'c') ('1', '2', '3', 'b', 'c', 'a') ('1', '2', '3', 'c', 'a', 'b') ('1', '2', '3', 'c', 'b', 'a') ('1', '3', 'a', 'b', 'c', '2') ('1', '3', 'a', 'b', '2', 'c') ('1', '3', 'a', 'c', 'b', '2') ('1', '3', 'a', 'c', '2', 'b') ('1', '3', 'a', '2', 'b', 'c') ('1', '3', 'a', '2', 'c', 'b') ('1', '3', 'b', 'a', 'c', '2') ('1', '3', 'b', 'a', '2', 'c') ('1', '3', 'b', 'c', 'a', '2') ('1', '3', 'b', 'c', '2', 'a') ('1', '3', 'b', '2', 'a', 'c') ('1', '3', 'b', '2', 'c', 'a') ('1', '3', 'c', 'a', 'b', '2') ('1', '3', 'c', 'a', '2', 'b') ('1', '3', 'c', 'b', 'a', '2') ('1', '3', 'c', 'b', '2', 'a') ('1', '3', 'c', '2', 'a', 'b') ('1', '3', 'c', '2', 'b', 'a') ('1', '3', '2', 'a', 'b', 'c') ('1', '3', '2', 'a', 'c', 'b') ('1', '3', '2', 'b', 'a', 'c') ('1', '3', '2', 'b', 'c', 'a') ('1', '3', '2', 'c', 'a', 'b') ('1', '3', '2', 'c', 'b', 'a') ('2', 'a', 'b', 'c', '1', '3') ('2', 'a', 'b', 'c', '3', '1') ('2', 'a', 'b', '1', 'c', '3') ('2', 'a', 'b', '1', '3', 'c') ('2', 'a', 'b', '3', 'c', '1') ('2', 'a', 'b', '3', '1', 'c') ('2', 'a', 'c', 'b', '1', '3') ('2', 'a', 'c', 'b', '3', '1') ('2', 'a', 'c', '1', 'b', '3') ('2', 'a', 'c', '1', '3', 'b') ('2', 'a', 'c', '3', 'b', '1') ('2', 'a', 'c', '3', '1', 'b') ('2', 'a', '1', 'b', 'c', '3') ('2', 'a', '1', 'b', '3', 'c') ('2', 'a', '1', 'c', 'b', '3') ('2', 'a', '1', 'c', '3', 'b') ('2', 'a', '1', '3', 'b', 'c') ('2', 'a', '1', '3', 'c', 'b') ('2', 'a', '3', 'b', 'c', '1') ('2', 'a', '3', 'b', '1', 'c') ('2', 'a', '3', 'c', 'b', '1') ('2', 'a', '3', 'c', '1', 'b') ('2', 'a', '3', '1', 'b', 'c') ('2', 'a', '3', '1', 'c', 'b') ('2', 'b', 'a', 'c', '1', '3') ('2', 'b', 'a', 'c', '3', '1') ('2', 'b', 'a', '1', 'c', '3') ('2', 'b', 'a', '1', '3', 'c') ('2', 'b', 'a', '3', 'c', '1') ('2', 'b', 'a', '3', '1', 'c') ('2', 'b', 'c', 'a', '1', '3') ('2', 'b', 'c', 'a', '3', '1') ('2', 'b', 'c', '1', 'a', '3') ('2', 'b', 'c', '1', '3', 'a') ('2', 'b', 'c', '3', 'a', '1') ('2', 'b', 'c', '3', '1', 'a') ('2', 'b', '1', 'a', 'c', '3') ('2', 'b', '1', 'a', '3', 'c') ('2', 'b', '1', 'c', 'a', '3') ('2', 'b', '1', 'c', '3', 'a') ('2', 'b', '1', '3', 'a', 'c') ('2', 'b', '1', '3', 'c', 'a') ('2', 'b', '3', 'a', 'c', '1') ('2', 'b', '3', 'a', '1', 'c') ('2', 'b', '3', 'c', 'a', '1') ('2', 'b', '3', 'c', '1', 'a') ('2', 'b', '3', '1', 'a', 'c') ('2', 'b', '3', '1', 'c', 'a') ('2', 'c', 'a', 'b', '1', '3') ('2', 'c', 'a', 'b', '3', '1') ('2', 'c', 'a', '1', 'b', '3') ('2', 'c', 'a', '1', '3', 'b') ('2', 'c', 'a', '3', 'b', '1') ('2', 'c', 'a', '3', '1', 'b') ('2', 'c', 'b', 'a', '1', '3') ('2', 'c', 'b', 'a', '3', '1') ('2', 'c', 'b', '1', 'a', '3') ('2', 'c', 'b', '1', '3', 'a') ('2', 'c', 'b', '3', 'a', '1') ('2', 'c', 'b', '3', '1', 'a') ('2', 'c', '1', 'a', 'b', '3') ('2', 'c', '1', 'a', '3', 'b') ('2', 'c', '1', 'b', 'a', '3') ('2', 'c', '1', 'b', '3', 'a') ('2', 'c', '1', '3', 'a', 'b') ('2', 'c', '1', '3', 'b', 'a') ('2', 'c', '3', 'a', 'b', '1') ('2', 'c', '3', 'a', '1', 'b') ('2', 'c', '3', 'b', 'a', '1') ('2', 'c', '3', 'b', '1', 'a') ('2', 'c', '3', '1', 'a', 'b') ('2', 'c', '3', '1', 'b', 'a') ('2', '1', 'a', 'b', 'c', '3') ('2', '1', 'a', 'b', '3', 'c') ('2', '1', 'a', 'c', 'b', '3') ('2', '1', 'a', 'c', '3', 'b') ('2', '1', 'a', '3', 'b', 'c') ('2', '1', 'a', '3', 'c', 'b') ('2', '1', 'b', 'a', 'c', '3') ('2', '1', 'b', 'a', '3', 'c') ('2', '1', 'b', 'c', 'a', '3') ('2', '1', 'b', 'c', '3', 'a') ('2', '1', 'b', '3', 'a', 'c') ('2', '1', 'b', '3', 'c', 'a') ('2', '1', 'c', 'a', 'b', '3') ('2', '1', 'c', 'a', '3', 'b') ('2', '1', 'c', 'b', 'a', '3') ('2', '1', 'c', 'b', '3', 'a') ('2', '1', 'c', '3', 'a', 'b') ('2', '1', 'c', '3', 'b', 'a') ('2', '1', '3', 'a', 'b', 'c') ('2', '1', '3', 'a', 'c', 'b') ('2', '1', '3', 'b', 'a', 'c') ('2', '1', '3', 'b', 'c', 'a') ('2', '1', '3', 'c', 'a', 'b') ('2', '1', '3', 'c', 'b', 'a') ('2', '3', 'a', 'b', 'c', '1') ('2', '3', 'a', 'b', '1', 'c') ('2', '3', 'a', 'c', 'b', '1') ('2', '3', 'a', 'c', '1', 'b') ('2', '3', 'a', '1', 'b', 'c') ('2', '3', 'a', '1', 'c', 'b') ('2', '3', 'b', 'a', 'c', '1') ('2', '3', 'b', 'a', '1', 'c') ('2', '3', 'b', 'c', 'a', '1') ('2', '3', 'b', 'c', '1', 'a') ('2', '3', 'b', '1', 'a', 'c') ('2', '3', 'b', '1', 'c', 'a') ('2', '3', 'c', 'a', 'b', '1') ('2', '3', 'c', 'a', '1', 'b') ('2', '3', 'c', 'b', 'a', '1') ('2', '3', 'c', 'b', '1', 'a') ('2', '3', 'c', '1', 'a', 'b') ('2', '3', 'c', '1', 'b', 'a') ('2', '3', '1', 'a', 'b', 'c') ('2', '3', '1', 'a', 'c', 'b') ('2', '3', '1', 'b', 'a', 'c') ('2', '3', '1', 'b', 'c', 'a') ('2', '3', '1', 'c', 'a', 'b') ('2', '3', '1', 'c', 'b', 'a') ('3', 'a', 'b', 'c', '1', '2') ('3', 'a', 'b', 'c', '2', '1') ('3', 'a', 'b', '1', 'c', '2') ('3', 'a', 'b', '1', '2', 'c') ('3', 'a', 'b', '2', 'c', '1') ('3', 'a', 'b', '2', '1', 'c') ('3', 'a', 'c', 'b', '1', '2') ('3', 'a', 'c', 'b', '2', '1') ('3', 'a', 'c', '1', 'b', '2') ('3', 'a', 'c', '1', '2', 'b') ('3', 'a', 'c', '2', 'b', '1') ('3', 'a', 'c', '2', '1', 'b') ('3', 'a', '1', 'b', 'c', '2') ('3', 'a', '1', 'b', '2', 'c') ('3', 'a', '1', 'c', 'b', '2') ('3', 'a', '1', 'c', '2', 'b') ('3', 'a', '1', '2', 'b', 'c') ('3', 'a', '1', '2', 'c', 'b') ('3', 'a', '2', 'b', 'c', '1') ('3', 'a', '2', 'b', '1', 'c') ('3', 'a', '2', 'c', 'b', '1') ('3', 'a', '2', 'c', '1', 'b') ('3', 'a', '2', '1', 'b', 'c') ('3', 'a', '2', '1', 'c', 'b') ('3', 'b', 'a', 'c', '1', '2') ('3', 'b', 'a', 'c', '2', '1') ('3', 'b', 'a', '1', 'c', '2') ('3', 'b', 'a', '1', '2', 'c') ('3', 'b', 'a', '2', 'c', '1') ('3', 'b', 'a', '2', '1', 'c') ('3', 'b', 'c', 'a', '1', '2') ('3', 'b', 'c', 'a', '2', '1') ('3', 'b', 'c', '1', 'a', '2') ('3', 'b', 'c', '1', '2', 'a') ('3', 'b', 'c', '2', 'a', '1') ('3', 'b', 'c', '2', '1', 'a') ('3', 'b', '1', 'a', 'c', '2') ('3', 'b', '1', 'a', '2', 'c') ('3', 'b', '1', 'c', 'a', '2') ('3', 'b', '1', 'c', '2', 'a') ('3', 'b', '1', '2', 'a', 'c') ('3', 'b', '1', '2', 'c', 'a') ('3', 'b', '2', 'a', 'c', '1') ('3', 'b', '2', 'a', '1', 'c') ('3', 'b', '2', 'c', 'a', '1') ('3', 'b', '2', 'c', '1', 'a') ('3', 'b', '2', '1', 'a', 'c') ('3', 'b', '2', '1', 'c', 'a') ('3', 'c', 'a', 'b', '1', '2') ('3', 'c', 'a', 'b', '2', '1') ('3', 'c', 'a', '1', 'b', '2') ('3', 'c', 'a', '1', '2', 'b') ('3', 'c', 'a', '2', 'b', '1') ('3', 'c', 'a', '2', '1', 'b') ('3', 'c', 'b', 'a', '1', '2') ('3', 'c', 'b', 'a', '2', '1') ('3', 'c', 'b', '1', 'a', '2') ('3', 'c', 'b', '1', '2', 'a') ('3', 'c', 'b', '2', 'a', '1') ('3', 'c', 'b', '2', '1', 'a') ('3', 'c', '1', 'a', 'b', '2') ('3', 'c', '1', 'a', '2', 'b') ('3', 'c', '1', 'b', 'a', '2') ('3', 'c', '1', 'b', '2', 'a') ('3', 'c', '1', '2', 'a', 'b') ('3', 'c', '1', '2', 'b', 'a') ('3', 'c', '2', 'a', 'b', '1') ('3', 'c', '2', 'a', '1', 'b') ('3', 'c', '2', 'b', 'a', '1') ('3', 'c', '2', 'b', '1', 'a') ('3', 'c', '2', '1', 'a', 'b') ('3', 'c', '2', '1', 'b', 'a') ('3', '1', 'a', 'b', 'c', '2') ('3', '1', 'a', 'b', '2', 'c') ('3', '1', 'a', 'c', 'b', '2') ('3', '1', 'a', 'c', '2', 'b') ('3', '1', 'a', '2', 'b', 'c') ('3', '1', 'a', '2', 'c', 'b') ('3', '1', 'b', 'a', 'c', '2') ('3', '1', 'b', 'a', '2', 'c') ('3', '1', 'b', 'c', 'a', '2') ('3', '1', 'b', 'c', '2', 'a') ('3', '1', 'b', '2', 'a', 'c') ('3', '1', 'b', '2', 'c', 'a') ('3', '1', 'c', 'a', 'b', '2') ('3', '1', 'c', 'a', '2', 'b') ('3', '1', 'c', 'b', 'a', '2') ('3', '1', 'c', 'b', '2', 'a') ('3', '1', 'c', '2', 'a', 'b') ('3', '1', 'c', '2', 'b', 'a') ('3', '1', '2', 'a', 'b', 'c') ('3', '1', '2', 'a', 'c', 'b') ('3', '1', '2', 'b', 'a', 'c') ('3', '1', '2', 'b', 'c', 'a') ('3', '1', '2', 'c', 'a', 'b') ('3', '1', '2', 'c', 'b', 'a') ('3', '2', 'a', 'b', 'c', '1') ('3', '2', 'a', 'b', '1', 'c') ('3', '2', 'a', 'c', 'b', '1') ('3', '2', 'a', 'c', '1', 'b') ('3', '2', 'a', '1', 'b', 'c') ('3', '2', 'a', '1', 'c', 'b') ('3', '2', 'b', 'a', 'c', '1') ('3', '2', 'b', 'a', '1', 'c') ('3', '2', 'b', 'c', 'a', '1') ('3', '2', 'b', 'c', '1', 'a') ('3', '2', 'b', '1', 'a', 'c') ('3', '2', 'b', '1', 'c', 'a') ('3', '2', 'c', 'a', 'b', '1') ('3', '2', 'c', 'a', '1', 'b') ('3', '2', 'c', 'b', 'a', '1') ('3', '2', 'c', 'b', '1', 'a') ('3', '2', 'c', '1', 'a', 'b') ('3', '2', 'c', '1', 'b', 'a') ('3', '2', '1', 'a', 'b', 'c') ('3', '2', '1', 'a', 'c', 'b') ('3', '2', '1', 'b', 'a', 'c') ('3', '2', '1', 'b', 'c', 'a') ('3', '2', '1', 'c', 'a', 'b') ('3', '2', '1', 'c', 'b', 'a')\n"
     ]
    }
   ],
   "source": [
    "# 2a\n",
    "# How many different ways can you combine the letters from \"abc\" with the numbers 1, 2, and 3?\n",
    "\n",
    "string = 'abc123'\n",
    "perm = itt.permutations(string)\n",
    "for value in perm:\n",
    "    print(*perm)\n",
    "    \n",
    "\n",
    "# https://docs.python.org/3/library/itertools.html\n",
    "\n"
   ]
  },
  {
   "cell_type": "code",
   "execution_count": 87,
   "id": "56b5aaff",
   "metadata": {},
   "outputs": [
    {
     "data": {
      "text/plain": [
       "[('a', 1),\n",
       " ('a', 2),\n",
       " ('a', 3),\n",
       " ('b', 1),\n",
       " ('b', 2),\n",
       " ('b', 3),\n",
       " ('c', 1),\n",
       " ('c', 2),\n",
       " ('c', 3)]"
      ]
     },
     "execution_count": 87,
     "metadata": {},
     "output_type": "execute_result"
    }
   ],
   "source": [
    "list(itt.product('abc', [1,2,3]))\n",
    "\n",
    "# this tells itertools to make a list of these combinations\n"
   ]
  },
  {
   "cell_type": "code",
   "execution_count": 90,
   "id": "b3b7274d",
   "metadata": {},
   "outputs": [
    {
     "data": {
      "text/plain": [
       "9"
      ]
     },
     "execution_count": 90,
     "metadata": {},
     "output_type": "execute_result"
    }
   ],
   "source": [
    "len(list(itt.product('abc', [1,2,3])))\n",
    "\n",
    "# this tells itt to give the total possible co"
   ]
  },
  {
   "cell_type": "code",
   "execution_count": 27,
   "id": "e3c106b4",
   "metadata": {},
   "outputs": [
    {
     "name": "stdout",
     "output_type": "stream",
     "text": [
      "('a', 'c') ('a', 'd') ('b', 'c') ('b', 'd') ('c', 'd')\n"
     ]
    }
   ],
   "source": [
    "# 2b \n",
    "# How many different combinations are there of 2 letters from \"abcd\"?\n",
    "\n",
    "string = 'abcd'\n",
    "combi = itt.combinations(string, 2)\n",
    "for value in combi:\n",
    "    print(*combi)"
   ]
  },
  {
   "cell_type": "code",
   "execution_count": 91,
   "id": "f564026f",
   "metadata": {},
   "outputs": [
    {
     "data": {
      "text/plain": [
       "[('a', 'b'), ('a', 'c'), ('a', 'd'), ('b', 'c'), ('b', 'd'), ('c', 'd')]"
      ]
     },
     "execution_count": 91,
     "metadata": {},
     "output_type": "execute_result"
    }
   ],
   "source": [
    "# 2b in-class\n",
    "\n",
    "list(itt.combinations('abcd',2))"
   ]
  },
  {
   "cell_type": "code",
   "execution_count": 94,
   "id": "9638689b",
   "metadata": {},
   "outputs": [
    {
     "data": {
      "text/plain": [
       "6"
      ]
     },
     "execution_count": 94,
     "metadata": {},
     "output_type": "execute_result"
    }
   ],
   "source": [
    "len(list(itt.combinations('abcd',2)))"
   ]
  },
  {
   "cell_type": "code",
   "execution_count": 28,
   "id": "c8620aa7",
   "metadata": {},
   "outputs": [
    {
     "name": "stdout",
     "output_type": "stream",
     "text": [
      "('a', 'c') ('a', 'd') ('b', 'a') ('b', 'c') ('b', 'd') ('c', 'a') ('c', 'b') ('c', 'd') ('d', 'a') ('d', 'b') ('d', 'c')\n"
     ]
    }
   ],
   "source": [
    "# 2c\n",
    "# How many different permutations are there of 2 letters from \"abcd\"?\n",
    "\n",
    "string = 'abcd'\n",
    "permu = itt.permutations(string, 2)\n",
    "for value in permu:\n",
    "    print(*permu)"
   ]
  },
  {
   "cell_type": "code",
   "execution_count": 92,
   "id": "8beb0e42",
   "metadata": {},
   "outputs": [
    {
     "data": {
      "text/plain": [
       "[('a', 'b'),\n",
       " ('a', 'c'),\n",
       " ('a', 'd'),\n",
       " ('b', 'a'),\n",
       " ('b', 'c'),\n",
       " ('b', 'd'),\n",
       " ('c', 'a'),\n",
       " ('c', 'b'),\n",
       " ('c', 'd'),\n",
       " ('d', 'a'),\n",
       " ('d', 'b'),\n",
       " ('d', 'c')]"
      ]
     },
     "execution_count": 92,
     "metadata": {},
     "output_type": "execute_result"
    }
   ],
   "source": [
    "# # 2c in-class\n",
    "list(itt.permutations('abcd',2))"
   ]
  },
  {
   "cell_type": "code",
   "execution_count": 93,
   "id": "cc9d702d",
   "metadata": {},
   "outputs": [
    {
     "data": {
      "text/plain": [
       "12"
      ]
     },
     "execution_count": 93,
     "metadata": {},
     "output_type": "execute_result"
    }
   ],
   "source": [
    "# 2c in-class\n",
    "\n",
    "len(list(itt.permutations('abcd',2)))"
   ]
  },
  {
   "cell_type": "code",
   "execution_count": 8,
   "id": "29fbff84",
   "metadata": {},
   "outputs": [],
   "source": [
    "# 3\n",
    "\n",
    "import json\n",
    "\n",
    "json_profile = json.load(open('profiles.json'))\n",
    "\n"
   ]
  },
  {
   "cell_type": "code",
   "execution_count": 9,
   "id": "a60cd14a",
   "metadata": {},
   "outputs": [
    {
     "name": "stdout",
     "output_type": "stream",
     "text": [
      "{'_id': '54e23c3e46ab53a440b580e8', 'index': 0, 'guid': '9962b468-ef3e-4993-b677-617469bc3008', 'isActive': False, 'balance': '$2,097.02', 'picture': 'http://placehold.it/32x32', 'age': 39, 'eyeColor': 'blue', 'name': 'Hebert Estes', 'gender': 'male', 'company': 'ANDRYX', 'email': 'hebertestes@andryx.com', 'phone': '+1 (866) 456-2268', 'address': '121 Emmons Avenue, Klondike, Kentucky, 5975', 'about': 'Sit cillum deserunt irure laboris tempor fugiat laboris. Amet commodo amet est incididunt. Dolore qui fugiat cillum pariatur dolore excepteur elit ipsum.\\r\\n', 'registered': '2014-11-10T01:44:03 +06:00', 'latitude': -80.157843, 'longitude': 161.93016, 'tags': ['sit', 'occaecat', 'non', 'ea', 'sit', 'laboris', 'exercitation'], 'friends': [{'id': 0, 'name': 'Tanisha Leonard'}, {'id': 1, 'name': 'Dennis Wilson'}, {'id': 2, 'name': 'Lupe Howe'}], 'greeting': 'Hello, Hebert Estes! You have 4 unread messages.', 'favoriteFruit': 'strawberry'}\n"
     ]
    }
   ],
   "source": [
    "# 3\n",
    "\n",
    "print(json_profile[0])\n",
    "\n"
   ]
  },
  {
   "cell_type": "code",
   "execution_count": 10,
   "id": "bf285669",
   "metadata": {},
   "outputs": [
    {
     "name": "stdout",
     "output_type": "stream",
     "text": [
      "{'_id': '54e23c3e46ab53a440b580e8', 'index': 0, 'guid': '9962b468-ef3e-4993-b677-617469bc3008', 'isActive': False, 'balance': '$2,097.02', 'picture': 'http://placehold.it/32x32', 'age': 39, 'eyeColor': 'blue', 'name': 'Hebert Estes', 'gender': 'male', 'company': 'ANDRYX', 'email': 'hebertestes@andryx.com', 'phone': '+1 (866) 456-2268', 'address': '121 Emmons Avenue, Klondike, Kentucky, 5975', 'about': 'Sit cillum deserunt irure laboris tempor fugiat laboris. Amet commodo amet est incididunt. Dolore qui fugiat cillum pariatur dolore excepteur elit ipsum.\\r\\n', 'registered': '2014-11-10T01:44:03 +06:00', 'latitude': -80.157843, 'longitude': 161.93016, 'tags': ['sit', 'occaecat', 'non', 'ea', 'sit', 'laboris', 'exercitation'], 'friends': [{'id': 0, 'name': 'Tanisha Leonard'}, {'id': 1, 'name': 'Dennis Wilson'}, {'id': 2, 'name': 'Lupe Howe'}], 'greeting': 'Hello, Hebert Estes! You have 4 unread messages.', 'favoriteFruit': 'strawberry'}\n",
      "--------------------------------------------- \n",
      "\n",
      "{'_id': '54e23c3ef5cc0d250968c212', 'index': 1, 'guid': '905f849d-49bf-4a57-b4f3-5d6e4bf1b04c', 'isActive': False, 'balance': '$3,654.02', 'picture': 'http://placehold.it/32x32', 'age': 30, 'eyeColor': 'green', 'name': 'Allison Wynn', 'gender': 'male', 'company': 'PHARMACON', 'email': 'allisonwynn@pharmacon.com', 'phone': '+1 (926) 525-3131', 'address': '724 Brevoort Place, Lodoga, Indiana, 3880', 'about': 'Esse quis cillum sunt occaecat ad et eu incididunt aliquip dolor. Adipisicing labore magna anim cillum nisi. Elit mollit consequat velit nulla cillum excepteur elit ullamco deserunt. Anim aliquip Lorem excepteur ad veniam et labore in qui ullamco. Occaecat sit do incididunt voluptate id magna ea amet.\\r\\n', 'registered': '2014-06-10T13:41:26 +05:00', 'latitude': 55.737207, 'longitude': -167.177561, 'tags': ['enim', 'officia', 'laboris', 'irure', 'veniam', 'occaecat', 'pariatur'], 'friends': [{'id': 0, 'name': 'Curry Cox'}, {'id': 1, 'name': 'Alma Dale'}, {'id': 2, 'name': 'Barbara Mayo'}], 'greeting': 'Hello, Allison Wynn! You have 19 unread messages.', 'favoriteFruit': 'apple'}\n",
      "--------------------------------------------- \n",
      "\n",
      "{'_id': '54e23c3e09cc6875638cd36b', 'index': 2, 'guid': '1b042d48-9cfa-4db5-8b60-4104165591c3', 'isActive': True, 'balance': '$1,536.02', 'picture': 'http://placehold.it/32x32', 'age': 31, 'eyeColor': 'brown', 'name': 'Jacobs Floyd', 'gender': 'male', 'company': 'QUONK', 'email': 'jacobsfloyd@quonk.com', 'phone': '+1 (853) 537-3315', 'address': '941 Cox Place, Bluffview, Georgia, 5882', 'about': 'Deserunt adipisicing proident exercitation cillum anim consectetur labore exercitation. Commodo reprehenderit laborum enim exercitation. Ullamco nulla culpa aliqua nisi fugiat consectetur deserunt nostrud in eu.\\r\\n', 'registered': '2014-07-30T03:17:32 +05:00', 'latitude': 30.215667, 'longitude': 68.831905, 'tags': ['est', 'aute', 'laborum', 'sint', 'anim', 'sit', 'consectetur'], 'friends': [{'id': 0, 'name': 'Robles Chan'}, {'id': 1, 'name': 'Whitfield Strickland'}, {'id': 2, 'name': 'Lina Melton'}], 'greeting': 'Hello, Jacobs Floyd! You have 5 unread messages.', 'favoriteFruit': 'banana'}\n",
      "--------------------------------------------- \n",
      "\n",
      "{'_id': '54e23c3e54e4094147a3b1da', 'index': 3, 'guid': '69eb3454-8acc-46f1-a636-c6df00dfb542', 'isActive': False, 'balance': '$3,919.64', 'picture': 'http://placehold.it/32x32', 'age': 20, 'eyeColor': 'green', 'name': 'Fay Hammond', 'gender': 'female', 'company': 'INRT', 'email': 'fayhammond@inrt.com', 'phone': '+1 (922) 429-2592', 'address': '518 Randolph Street, Whitestone, Arizona, 8189', 'about': 'Aliqua sunt exercitation quis cupidatat fugiat nulla laboris occaecat ut reprehenderit qui incididunt. Amet excepteur qui amet mollit sint enim velit est dolor eu. Velit labore ea aute ipsum consequat culpa cupidatat excepteur aliqua. Sit commodo id est deserunt commodo. Labore sit deserunt enim in dolore incididunt. Officia qui est veniam cillum consequat minim duis Lorem esse magna culpa cupidatat cupidatat enim. Amet eiusmod elit qui reprehenderit commodo quis.\\r\\n', 'registered': '2015-01-30T08:05:38 +06:00', 'latitude': 33.825844, 'longitude': -65.969538, 'tags': ['aliqua', 'esse', 'sint', 'pariatur', 'commodo', 'do', 'anim'], 'friends': [{'id': 0, 'name': 'Dudley Booker'}, {'id': 1, 'name': 'Esmeralda Tyler'}, {'id': 2, 'name': 'Rosa Hampton'}], 'greeting': 'Hello, Fay Hammond! You have 10 unread messages.', 'favoriteFruit': 'banana'}\n",
      "--------------------------------------------- \n",
      "\n",
      "{'_id': '54e23c3e177caf5567ba87ac', 'index': 4, 'guid': '97962c85-7700-4ffa-a01e-2fcbc147fd81', 'isActive': False, 'balance': '$3,681.39', 'picture': 'http://placehold.it/32x32', 'age': 39, 'eyeColor': 'green', 'name': 'Chasity Marsh', 'gender': 'female', 'company': 'WAZZU', 'email': 'chasitymarsh@wazzu.com', 'phone': '+1 (976) 425-2362', 'address': '604 Just Court, Eastvale, Federated States Of Micronesia, 8644', 'about': 'Irure excepteur consequat esse qui tempor deserunt nulla fugiat. Ut excepteur do veniam dolore dolor proident sunt voluptate ad ipsum nisi. Lorem proident deserunt Lorem cupidatat dolor nulla qui id aliqua. Et nulla laborum deserunt tempor ad culpa. Ullamco occaecat adipisicing dolore laborum laborum duis aliqua nisi irure ex. Incididunt tempor Lorem quis dolore.\\r\\n', 'registered': '2014-07-31T06:03:19 +05:00', 'latitude': -31.660978, 'longitude': 37.559095, 'tags': ['aliquip', 'duis', 'irure', 'amet', 'aliquip', 'dolore', 'esse'], 'friends': [{'id': 0, 'name': 'Kristina Glover'}, {'id': 1, 'name': 'Ora Christian'}, {'id': 2, 'name': 'Jacklyn Joseph'}], 'greeting': 'Hello, Chasity Marsh! You have 9 unread messages.', 'favoriteFruit': 'apple'}\n",
      "--------------------------------------------- \n",
      "\n",
      "{'_id': '54e23c3eaffbb506aa15ec1c', 'index': 5, 'guid': 'fc3e04d1-44c2-449e-891a-d4f8053d14a4', 'isActive': True, 'balance': '$1,694.42', 'picture': 'http://placehold.it/32x32', 'age': 30, 'eyeColor': 'brown', 'name': 'Camacho Cortez', 'gender': 'male', 'company': 'EARTHWAX', 'email': 'camachocortez@earthwax.com', 'phone': '+1 (869) 528-2019', 'address': '101 Haring Street, Nicut, Louisiana, 1473', 'about': 'Qui ad commodo elit voluptate cupidatat exercitation amet ea laborum sunt aliquip nisi irure. Veniam voluptate eiusmod sint aliquip ea. Voluptate voluptate Lorem nulla laborum eiusmod occaecat et nostrud sint in cillum reprehenderit magna nulla. Lorem id fugiat laborum qui mollit amet. Culpa officia ipsum nisi culpa in. Fugiat quis eu cupidatat non culpa in ea velit pariatur non in excepteur.\\r\\n', 'registered': '2014-03-17T12:04:00 +05:00', 'latitude': 74.434627, 'longitude': 69.527088, 'tags': ['et', 'sit', 'in', 'id', 'ullamco', 'elit', 'laborum'], 'friends': [{'id': 0, 'name': 'Sexton Tillman'}, {'id': 1, 'name': 'Boone Steele'}, {'id': 2, 'name': 'Elvia Ward'}], 'greeting': 'Hello, Camacho Cortez! You have 19 unread messages.', 'favoriteFruit': 'apple'}\n",
      "--------------------------------------------- \n",
      "\n",
      "{'_id': '54e23c3e0fd8074c2ca52667', 'index': 6, 'guid': 'af8d9a03-fde9-4039-b20c-c4708d4cfc3c', 'isActive': False, 'balance': '$1,214.10', 'picture': 'http://placehold.it/32x32', 'age': 35, 'eyeColor': 'green', 'name': 'Avery Flynn', 'gender': 'male', 'company': 'TERSANKI', 'email': 'averyflynn@tersanki.com', 'phone': '+1 (966) 404-2471', 'address': '569 Oakland Place, Beyerville, Puerto Rico, 2395', 'about': 'Minim consequat anim ad et tempor et pariatur cillum ut. Ea Lorem consectetur sunt aliquip ea minim minim id dolore incididunt qui magna. Magna velit labore dolore voluptate ut aliquip esse qui est ipsum cupidatat duis enim. Sunt esse eiusmod cupidatat duis quis sunt anim dolore adipisicing enim dolore aliqua mollit. Commodo sit ad eiusmod reprehenderit.\\r\\n', 'registered': '2014-04-13T10:25:03 +05:00', 'latitude': -89.879409, 'longitude': 143.441709, 'tags': ['quis', 'esse', 'Lorem', 'minim', 'nostrud', 'voluptate', 'laborum'], 'friends': [{'id': 0, 'name': 'Ball Henson'}, {'id': 1, 'name': 'Dalton Mccoy'}, {'id': 2, 'name': 'Carolina Sharp'}], 'greeting': 'Hello, Avery Flynn! You have 13 unread messages.', 'favoriteFruit': 'banana'}\n",
      "--------------------------------------------- \n",
      "\n",
      "{'_id': '54e23c3eb112d96e4204914d', 'index': 7, 'guid': '95f1c020-f9eb-4a29-b236-e766759d89d0', 'isActive': False, 'balance': '$2,930.31', 'picture': 'http://placehold.it/32x32', 'age': 23, 'eyeColor': 'blue', 'name': 'Michael Cash', 'gender': 'male', 'company': 'ORBIXTAR', 'email': 'michaelcash@orbixtar.com', 'phone': '+1 (996) 439-3660', 'address': '808 Duryea Court, Downsville, Northern Mariana Islands, 2154', 'about': 'Minim proident minim consectetur nostrud dolor reprehenderit. Ea est proident non do cillum eu est dolor Lorem id. Tempor enim incididunt consequat voluptate nulla ipsum voluptate id. Incididunt enim laboris nostrud in exercitation est culpa nulla velit.\\r\\n', 'registered': '2014-05-24T17:56:54 +05:00', 'latitude': -86.621367, 'longitude': -4.06197, 'tags': ['eu', 'sit', 'dolore', 'culpa', 'Lorem', 'in', 'esse'], 'friends': [{'id': 0, 'name': 'Rodgers Nolan'}, {'id': 1, 'name': 'Jewel Marks'}, {'id': 2, 'name': 'Sue Mejia'}], 'greeting': 'Hello, Michael Cash! You have 17 unread messages.', 'favoriteFruit': 'strawberry'}\n",
      "--------------------------------------------- \n",
      "\n",
      "{'_id': '54e23c3ef30f14d0e5afddf3', 'index': 8, 'guid': 'bde2d56f-2488-40d0-a7d2-21019ee8a18b', 'isActive': False, 'balance': '$1,944.15', 'picture': 'http://placehold.it/32x32', 'age': 25, 'eyeColor': 'green', 'name': 'Madeleine Bray', 'gender': 'female', 'company': 'KIDSTOCK', 'email': 'madeleinebray@kidstock.com', 'phone': '+1 (820) 541-2969', 'address': '684 Stratford Road, Rosine, District Of Columbia, 7177', 'about': 'Ullamco ea esse ullamco commodo quis amet ut ad. Sint eiusmod ullamco minim nostrud amet in ex adipisicing velit cillum Lorem enim nostrud. Deserunt esse incididunt eiusmod commodo ullamco id pariatur tempor duis laboris Lorem. Laboris magna Lorem quis laborum ullamco. Dolor minim magna ut occaecat in consequat consequat in commodo pariatur voluptate pariatur dolore. Quis exercitation cillum labore cillum laborum. Dolore est reprehenderit anim reprehenderit consectetur sit quis ea ut veniam.\\r\\n', 'registered': '2014-08-11T08:54:06 +05:00', 'latitude': 45.118798, 'longitude': -7.698707, 'tags': ['id', 'magna', 'excepteur', 'excepteur', 'excepteur', 'duis', 'excepteur'], 'friends': [{'id': 0, 'name': 'Herrera Doyle'}, {'id': 1, 'name': 'Berger Fisher'}, {'id': 2, 'name': 'Chang Coffey'}], 'greeting': 'Hello, Madeleine Bray! You have 2 unread messages.', 'favoriteFruit': 'strawberry'}\n",
      "--------------------------------------------- \n",
      "\n",
      "{'_id': '54e23c3ebd80e9c26b057fa3', 'index': 9, 'guid': '75991ca5-05ed-499e-bbb5-f057f86d05d7', 'isActive': True, 'balance': '$2,839.22', 'picture': 'http://placehold.it/32x32', 'age': 37, 'eyeColor': 'blue', 'name': 'Corine French', 'gender': 'female', 'company': 'INTRAWEAR', 'email': 'corinefrench@intrawear.com', 'phone': '+1 (987) 573-3164', 'address': '964 Clara Street, Snyderville, Oklahoma, 3627', 'about': 'Sint cillum laborum labore duis fugiat voluptate adipisicing. Ad culpa et et ea incididunt nulla excepteur officia. Cillum veniam amet ipsum reprehenderit do eiusmod aliqua aute nisi Lorem consectetur esse in incididunt.\\r\\n', 'registered': '2014-06-25T20:17:13 +05:00', 'latitude': -37.637422, 'longitude': 154.195523, 'tags': ['laboris', 'in', 'dolore', 'mollit', 'velit', 'laboris', 'excepteur'], 'friends': [{'id': 0, 'name': 'Greta Hill'}, {'id': 1, 'name': 'Cline Curry'}, {'id': 2, 'name': 'Branch Sawyer'}], 'greeting': 'Hello, Corine French! You have 18 unread messages.', 'favoriteFruit': 'banana'}\n",
      "--------------------------------------------- \n",
      "\n",
      "{'_id': '54e23c3e6d89c09f5507e7dd', 'index': 10, 'guid': '87cffc18-3acf-40c5-8708-1bb93f1b68de', 'isActive': True, 'balance': '$2,467.31', 'picture': 'http://placehold.it/32x32', 'age': 29, 'eyeColor': 'blue', 'name': 'Trudy Cummings', 'gender': 'female', 'company': 'SPLINX', 'email': 'trudycummings@splinx.com', 'phone': '+1 (925) 403-2797', 'address': '558 Charles Place, Tedrow, California, 9832', 'about': 'Non id adipisicing deserunt non magna ex adipisicing sint esse sint. Laborum ea nostrud Lorem voluptate quis proident eu nisi exercitation in. Consequat occaecat proident officia anim.\\r\\n', 'registered': '2014-03-13T17:54:31 +05:00', 'latitude': -36.185131, 'longitude': -37.774906, 'tags': ['aute', 'occaecat', 'ea', 'pariatur', 'consectetur', 'magna', 'ea'], 'friends': [{'id': 0, 'name': 'Amber Gates'}, {'id': 1, 'name': 'Barron Walsh'}, {'id': 2, 'name': 'Nell Bolton'}], 'greeting': 'Hello, Trudy Cummings! You have 2 unread messages.', 'favoriteFruit': 'strawberry'}\n",
      "--------------------------------------------- \n",
      "\n",
      "{'_id': '54e23c3e4192cf53edd67c99', 'index': 11, 'guid': '5a5496f1-a027-4c21-85da-c399234cd9a5', 'isActive': True, 'balance': '$3,304.99', 'picture': 'http://placehold.it/32x32', 'age': 21, 'eyeColor': 'brown', 'name': 'Peggy Mayer', 'gender': 'female', 'company': 'ACCUPRINT', 'email': 'peggymayer@accuprint.com', 'phone': '+1 (854) 428-2585', 'address': '830 Willmohr Street, Crenshaw, Missouri, 6032', 'about': 'Aliqua sit enim cillum aliquip ad proident excepteur in consectetur eiusmod. Ipsum sint cillum veniam eiusmod aute sunt et do est tempor. Lorem elit dolor dolore incididunt cillum. Enim occaecat minim sunt cillum est velit cillum deserunt tempor eu.\\r\\n', 'registered': '2014-09-14T07:06:49 +05:00', 'latitude': 48.323912, 'longitude': 22.184821, 'tags': ['commodo', 'esse', 'ad', 'ullamco', 'ea', 'sint', 'ipsum'], 'friends': [{'id': 0, 'name': 'Hopkins Mccall'}, {'id': 1, 'name': 'Nielsen Weeks'}, {'id': 2, 'name': 'Dale Knowles'}], 'greeting': 'Hello, Peggy Mayer! You have 13 unread messages.', 'favoriteFruit': 'strawberry'}\n",
      "--------------------------------------------- \n",
      "\n",
      "{'_id': '54e23c3eedcc65f0ec3a5496', 'index': 12, 'guid': '759a21c4-5f9c-4189-9c50-c9d8a9f31037', 'isActive': False, 'balance': '$3,844.42', 'picture': 'http://placehold.it/32x32', 'age': 40, 'eyeColor': 'brown', 'name': 'Chan Hurley', 'gender': 'male', 'company': 'ZEAM', 'email': 'chanhurley@zeam.com', 'phone': '+1 (917) 475-3705', 'address': '915 Channel Avenue, Clinton, North Dakota, 6244', 'about': 'Voluptate exercitation ut anim ex adipisicing ut do officia incididunt fugiat cupidatat aliqua. Cillum ullamco irure dolore est consectetur non consequat. Nulla ullamco eu irure qui dolor magna ipsum id in enim voluptate aute. Officia aliqua dolore ut reprehenderit Lorem cillum. Cillum reprehenderit eu cillum aliqua sint eiusmod cupidatat culpa elit in. Fugiat voluptate reprehenderit amet anim qui nisi velit aliqua proident anim.\\r\\n', 'registered': '2014-03-01T14:51:23 +06:00', 'latitude': 85.901051, 'longitude': -74.986179, 'tags': ['minim', 'veniam', 'sit', 'aute', 'irure', 'non', 'eiusmod'], 'friends': [{'id': 0, 'name': 'Reese Grant'}, {'id': 1, 'name': 'Jenna Kinney'}, {'id': 2, 'name': 'Rhea May'}], 'greeting': 'Hello, Chan Hurley! You have 7 unread messages.', 'favoriteFruit': 'apple'}\n",
      "--------------------------------------------- \n",
      "\n",
      "{'_id': '54e23c3eb813e66c6d33aa82', 'index': 13, 'guid': '6fd14a8e-3158-48eb-a7e1-93fe57b74746', 'isActive': True, 'balance': '$3,594.99', 'picture': 'http://placehold.it/32x32', 'age': 40, 'eyeColor': 'blue', 'name': 'Diaz Pena', 'gender': 'male', 'company': 'SUREPLEX', 'email': 'diazpena@sureplex.com', 'phone': '+1 (986) 511-3050', 'address': '184 Kingsway Place, Grantville, Michigan, 2421', 'about': 'Enim elit amet officia consectetur do Lorem reprehenderit cupidatat exercitation velit. Ex tempor esse consectetur dolore aute et. Cupidatat duis nulla in incididunt nulla ullamco non magna officia commodo anim. Labore quis ullamco est deserunt excepteur duis nostrud deserunt cillum proident. Non eiusmod consectetur pariatur deserunt irure quis exercitation ex incididunt quis dolore pariatur sunt irure. Eu do fugiat laboris tempor culpa.\\r\\n', 'registered': '2014-04-19T20:43:12 +05:00', 'latitude': 6.606991, 'longitude': 81.593748, 'tags': ['excepteur', 'elit', 'ullamco', 'excepteur', 'ad', 'quis', 'dolore'], 'friends': [{'id': 0, 'name': 'Mcmillan Knox'}, {'id': 1, 'name': 'Flossie Dixon'}, {'id': 2, 'name': 'Sears Carson'}], 'greeting': 'Hello, Diaz Pena! You have 13 unread messages.', 'favoriteFruit': 'strawberry'}\n",
      "--------------------------------------------- \n",
      "\n",
      "{'_id': '54e23c3e502a2f526b689c3e', 'index': 14, 'guid': '459cc82d-7878-42cb-b9c6-073506380036', 'isActive': True, 'balance': '$2,940.24', 'picture': 'http://placehold.it/32x32', 'age': 40, 'eyeColor': 'brown', 'name': 'Heath Castaneda', 'gender': 'male', 'company': 'NETPLODE', 'email': 'heathcastaneda@netplode.com', 'phone': '+1 (944) 478-3741', 'address': '278 Village Road, Sunnyside, Massachusetts, 7496', 'about': 'Consectetur mollit cupidatat ex consectetur eiusmod ut. Cupidatat anim cupidatat cupidatat minim ipsum et quis amet proident pariatur. Do consectetur fugiat quis nisi non. Ut eu consequat consequat in ullamco eiusmod quis cillum sunt dolore anim. Non irure aliqua aliqua enim elit labore consequat.\\r\\n', 'registered': '2014-07-30T21:38:43 +05:00', 'latitude': 69.928876, 'longitude': 33.649878, 'tags': ['elit', 'commodo', 'ut', 'ullamco', 'ullamco', 'velit', 'ullamco'], 'friends': [{'id': 0, 'name': 'Dora Mack'}, {'id': 1, 'name': 'Christensen Camacho'}, {'id': 2, 'name': 'Castro Kelly'}], 'greeting': 'Hello, Heath Castaneda! You have 12 unread messages.', 'favoriteFruit': 'strawberry'}\n",
      "--------------------------------------------- \n",
      "\n",
      "{'_id': '54e23c3e69d22e49c7fe62de', 'index': 15, 'guid': '33d2bbe5-d6f7-4844-88fc-b9f6af63b373', 'isActive': False, 'balance': '$3,062.41', 'picture': 'http://placehold.it/32x32', 'age': 38, 'eyeColor': 'brown', 'name': 'Greer Blankenship', 'gender': 'male', 'company': 'QUALITERN', 'email': 'greerblankenship@qualitern.com', 'phone': '+1 (957) 482-3874', 'address': '557 Ingraham Street, Brambleton, South Dakota, 8482', 'about': 'Non in excepteur nostrud consectetur. Qui non consectetur officia incididunt elit laboris exercitation exercitation est minim veniam ullamco dolore. Eu sit aute culpa ex sunt amet. Ut et amet Lorem sunt anim pariatur.\\r\\n', 'registered': '2014-03-30T21:39:41 +05:00', 'latitude': -71.093388, 'longitude': 65.740255, 'tags': ['enim', 'eiusmod', 'Lorem', 'reprehenderit', 'nisi', 'anim', 'sunt'], 'friends': [{'id': 0, 'name': 'Woods Norman'}, {'id': 1, 'name': 'Marilyn Haney'}, {'id': 2, 'name': 'Webster Nielsen'}], 'greeting': 'Hello, Greer Blankenship! You have 7 unread messages.', 'favoriteFruit': 'banana'}\n",
      "--------------------------------------------- \n",
      "\n",
      "{'_id': '54e23c3e42676228c442a669', 'index': 16, 'guid': 'e44604f0-c7a8-4b89-bda3-0f4710ebe28a', 'isActive': False, 'balance': '$3,067.82', 'picture': 'http://placehold.it/32x32', 'age': 32, 'eyeColor': 'green', 'name': 'Coffey Hayes', 'gender': 'male', 'company': 'INQUALA', 'email': 'coffeyhayes@inquala.com', 'phone': '+1 (880) 451-3490', 'address': '490 Durland Place, Craig, Tennessee, 5034', 'about': 'Est esse irure Lorem ullamco veniam fugiat laborum veniam excepteur. Ad enim pariatur nostrud excepteur et nostrud velit dolore ex enim cillum in aliquip fugiat. Nulla laborum exercitation irure magna elit laborum magna ad excepteur. Cillum pariatur Lorem eiusmod ad dolore eiusmod veniam do minim laborum in dolor. Reprehenderit elit ad id voluptate Lorem Lorem dolor cupidatat excepteur. Proident minim ea aute nulla.\\r\\n', 'registered': '2014-04-01T23:04:39 +05:00', 'latitude': -30.662644, 'longitude': 59.806684, 'tags': ['duis', 'est', 'in', 'officia', 'nostrud', 'occaecat', 'mollit'], 'friends': [{'id': 0, 'name': 'Suarez Perry'}, {'id': 1, 'name': 'Marlene Sheppard'}, {'id': 2, 'name': 'Cohen Yates'}], 'greeting': 'Hello, Coffey Hayes! You have 19 unread messages.', 'favoriteFruit': 'strawberry'}\n",
      "--------------------------------------------- \n",
      "\n",
      "{'_id': '54e23c3e4ac5969958013235', 'index': 17, 'guid': 'fa7e26df-d239-41e8-9aa9-be5e808b6f89', 'isActive': True, 'balance': '$2,646.76', 'picture': 'http://placehold.it/32x32', 'age': 24, 'eyeColor': 'brown', 'name': 'Leanne Hurst', 'gender': 'female', 'company': 'ACCIDENCY', 'email': 'leannehurst@accidency.com', 'phone': '+1 (820) 420-3317', 'address': '196 Columbus Place, Carbonville, New Jersey, 7513', 'about': 'Dolor occaecat dolore ut tempor. Veniam elit anim duis do pariatur. Qui excepteur nisi eiusmod mollit laboris fugiat commodo ipsum reprehenderit labore cillum. Aliquip laborum commodo nisi cupidatat labore nostrud exercitation adipisicing mollit eu magna proident ex Lorem. Nostrud magna sint sint consequat consectetur et sint.\\r\\n', 'registered': '2014-11-10T01:25:55 +06:00', 'latitude': 16.671695, 'longitude': 139.707959, 'tags': ['culpa', 'deserunt', 'tempor', 'quis', 'reprehenderit', 'incididunt', 'est'], 'friends': [{'id': 0, 'name': 'Farley Frank'}, {'id': 1, 'name': 'Pruitt Frye'}, {'id': 2, 'name': 'Simpson Cardenas'}], 'greeting': 'Hello, Leanne Hurst! You have 5 unread messages.', 'favoriteFruit': 'banana'}\n",
      "--------------------------------------------- \n",
      "\n",
      "{'_id': '54e23c3ed945981ba2580614', 'index': 18, 'guid': 'e608dc5c-fee4-4086-971b-3ebd37bfa137', 'isActive': True, 'balance': '$2,227.79', 'picture': 'http://placehold.it/32x32', 'age': 22, 'eyeColor': 'brown', 'name': 'Ewing Larson', 'gender': 'male', 'company': 'ESCENTA', 'email': 'ewinglarson@escenta.com', 'phone': '+1 (943) 439-3760', 'address': '136 Beard Street, Wattsville, New Hampshire, 2803', 'about': 'Veniam eiusmod exercitation culpa mollit reprehenderit ullamco voluptate voluptate irure qui duis anim et. Laborum dolor quis do voluptate. In pariatur dolor id mollit et enim. Qui ex qui in cillum irure enim non reprehenderit irure et excepteur aliquip eu eu.\\r\\n', 'registered': '2014-07-21T19:17:41 +05:00', 'latitude': 15.903555, 'longitude': -159.721203, 'tags': ['Lorem', 'magna', 'dolor', 'aliquip', 'reprehenderit', 'eu', 'voluptate'], 'friends': [{'id': 0, 'name': 'Suzette Huffman'}, {'id': 1, 'name': 'Paige Santiago'}, {'id': 2, 'name': 'Dollie Fernandez'}], 'greeting': 'Hello, Ewing Larson! You have 16 unread messages.', 'favoriteFruit': 'strawberry'}\n",
      "--------------------------------------------- \n",
      "\n"
     ]
    }
   ],
   "source": [
    "# how to print with visual distinction amongst profiles.\n",
    "\n",
    "for profile in json_profile:\n",
    "    print(profile)\n",
    "    print('---------------------------------------------', '\\n')"
   ]
  },
  {
   "cell_type": "code",
   "execution_count": null,
   "id": "7d149054",
   "metadata": {},
   "outputs": [],
   "source": []
  },
  {
   "cell_type": "code",
   "execution_count": 95,
   "id": "6a9333e0",
   "metadata": {},
   "outputs": [],
   "source": [
    "# 3a \n",
    "# Total number of users\n",
    "\n",
    "# for entry in json_profile:\n",
    "   # print(entry.get('index'))\n",
    "    \n",
    "\n",
    "def jsonkeys(json_profile):\n",
    "    list = []\n",
    "    for entry in json_profile:\n",
    "        list.append(json_profile)\n",
    "         \n",
    "    return list\n",
    "\n",
    "# this returns all of the json profiles, in a readable dictionary format\n"
   ]
  },
  {
   "cell_type": "code",
   "execution_count": 97,
   "id": "f5880a47",
   "metadata": {},
   "outputs": [
    {
     "data": {
      "text/plain": [
       "19"
      ]
     },
     "execution_count": 97,
     "metadata": {},
     "output_type": "execute_result"
    }
   ],
   "source": [
    "# len(jsonkeys(json_profile))\n",
    "\n",
    "jsonkeys(json_profile)\n",
    "\n",
    "# this returns all of the json profiles\n"
   ]
  },
  {
   "cell_type": "code",
   "execution_count": 12,
   "id": "7ced076f",
   "metadata": {},
   "outputs": [
    {
     "data": {
      "text/plain": [
       "19"
      ]
     },
     "execution_count": 12,
     "metadata": {},
     "output_type": "execute_result"
    }
   ],
   "source": [
    "# 3a\n",
    "# Total number of users\n",
    "\n",
    "len(json_profile)"
   ]
  },
  {
   "cell_type": "code",
   "execution_count": 99,
   "id": "cd6c0d51",
   "metadata": {},
   "outputs": [
    {
     "data": {
      "text/plain": [
       "['54e23c3e46ab53a440b580e8',\n",
       " '54e23c3ef5cc0d250968c212',\n",
       " '54e23c3e09cc6875638cd36b',\n",
       " '54e23c3e54e4094147a3b1da',\n",
       " '54e23c3e177caf5567ba87ac',\n",
       " '54e23c3eaffbb506aa15ec1c',\n",
       " '54e23c3e0fd8074c2ca52667',\n",
       " '54e23c3eb112d96e4204914d',\n",
       " '54e23c3ef30f14d0e5afddf3',\n",
       " '54e23c3ebd80e9c26b057fa3',\n",
       " '54e23c3e6d89c09f5507e7dd',\n",
       " '54e23c3e4192cf53edd67c99',\n",
       " '54e23c3eedcc65f0ec3a5496',\n",
       " '54e23c3eb813e66c6d33aa82',\n",
       " '54e23c3e502a2f526b689c3e',\n",
       " '54e23c3e69d22e49c7fe62de',\n",
       " '54e23c3e42676228c442a669',\n",
       " '54e23c3e4ac5969958013235',\n",
       " '54e23c3ed945981ba2580614']"
      ]
     },
     "execution_count": 99,
     "metadata": {},
     "output_type": "execute_result"
    }
   ],
   "source": [
    "# 3a in-class\n",
    "profile_ids = [profile['_id'] for profile in json_profile]\n",
    "profile_ids\n",
    "\n",
    "# this prints all the individual ids"
   ]
  },
  {
   "cell_type": "code",
   "execution_count": null,
   "id": "956cc667",
   "metadata": {},
   "outputs": [],
   "source": []
  },
  {
   "cell_type": "code",
   "execution_count": 13,
   "id": "84a8906b",
   "metadata": {},
   "outputs": [
    {
     "data": {
      "text/plain": [
       "9"
      ]
     },
     "execution_count": 13,
     "metadata": {},
     "output_type": "execute_result"
    }
   ],
   "source": [
    "# 3b\n",
    "# Number of active users\n",
    "\n",
    "active_users = 0\n",
    "for entry in json_profile:\n",
    "    if entry['isActive'] == True:\n",
    "        active_users += 1\n",
    "\n",
    "active_users\n"
   ]
  },
  {
   "cell_type": "code",
   "execution_count": 101,
   "id": "6807caa2",
   "metadata": {},
   "outputs": [
    {
     "data": {
      "text/plain": [
       "9"
      ]
     },
     "execution_count": 101,
     "metadata": {},
     "output_type": "execute_result"
    }
   ],
   "source": [
    "# 3b in-class\n",
    "\n",
    "ctive_users = [profile for profile in json_profile if profile['isActive']]\n",
    "len(ctive_users)"
   ]
  },
  {
   "cell_type": "code",
   "execution_count": null,
   "id": "5731b0cb",
   "metadata": {},
   "outputs": [],
   "source": []
  },
  {
   "cell_type": "code",
   "execution_count": 14,
   "id": "3b4d091e",
   "metadata": {},
   "outputs": [
    {
     "data": {
      "text/plain": [
       "10"
      ]
     },
     "execution_count": 14,
     "metadata": {},
     "output_type": "execute_result"
    }
   ],
   "source": [
    "# 3c\n",
    "# Number of inactive users\n",
    "\n",
    "\n",
    "inactive_users = 0\n",
    "for entry in json_profile:\n",
    "    if entry['isActive'] != True:\n",
    "        inactive_users += 1\n",
    "\n",
    "inactive_users"
   ]
  },
  {
   "cell_type": "code",
   "execution_count": 105,
   "id": "7de0883a",
   "metadata": {},
   "outputs": [
    {
     "data": {
      "text/plain": [
       "10"
      ]
     },
     "execution_count": 105,
     "metadata": {},
     "output_type": "execute_result"
    }
   ],
   "source": [
    "# 3c in-class\n",
    "\n",
    "inact_users = [profile for profile in json_profile if (not profile ['isActive'])]\n",
    "len(inact_users)\n",
    "\n",
    "# the parentheses around (not...']) are optional"
   ]
  },
  {
   "cell_type": "code",
   "execution_count": null,
   "id": "8dbeb5b2",
   "metadata": {},
   "outputs": [],
   "source": []
  },
  {
   "cell_type": "code",
   "execution_count": 15,
   "id": "5c463042",
   "metadata": {},
   "outputs": [],
   "source": [
    "# 3d \n",
    "# -- this is not the answer, simply how to clean up the data --\n",
    "\n",
    "## in-class clean-up of json_profile :\n",
    "###### function to remove dollar sign, remove commas, turn 'balance' into float\n",
    "\n",
    "def clean_balance(balance):\n",
    "    balance = balance.replace('$','')\n",
    "    balance = balance.replace(',','')\n",
    "    return float(balance)\n",
    "    \n",
    "\n",
    "# this cleaned the 'balance' entry to turn it into float and strip all save the digits."
   ]
  },
  {
   "cell_type": "code",
   "execution_count": 16,
   "id": "3d14b327",
   "metadata": {},
   "outputs": [],
   "source": [
    "clean = clean_balance(\"$10,213.44\")"
   ]
  },
  {
   "cell_type": "code",
   "execution_count": 17,
   "id": "5c79ad10",
   "metadata": {},
   "outputs": [
    {
     "data": {
      "text/plain": [
       "float"
      ]
     },
     "execution_count": 17,
     "metadata": {},
     "output_type": "execute_result"
    }
   ],
   "source": [
    "type(clean)"
   ]
  },
  {
   "cell_type": "code",
   "execution_count": 18,
   "id": "15b30ba2",
   "metadata": {},
   "outputs": [],
   "source": [
    "for profile in json_profile:\n",
    "    profile['balance'] = clean_balance(profile['balance'])\n",
    "    \n",
    "    # this cleaned the 'balance' entry to turn it into float and strip all save the digits."
   ]
  },
  {
   "cell_type": "code",
   "execution_count": 19,
   "id": "17ece932",
   "metadata": {},
   "outputs": [
    {
     "name": "stdout",
     "output_type": "stream",
     "text": [
      "{'_id': '54e23c3e46ab53a440b580e8', 'index': 0, 'guid': '9962b468-ef3e-4993-b677-617469bc3008', 'isActive': False, 'balance': 2097.02, 'picture': 'http://placehold.it/32x32', 'age': 39, 'eyeColor': 'blue', 'name': 'Hebert Estes', 'gender': 'male', 'company': 'ANDRYX', 'email': 'hebertestes@andryx.com', 'phone': '+1 (866) 456-2268', 'address': '121 Emmons Avenue, Klondike, Kentucky, 5975', 'about': 'Sit cillum deserunt irure laboris tempor fugiat laboris. Amet commodo amet est incididunt. Dolore qui fugiat cillum pariatur dolore excepteur elit ipsum.\\r\\n', 'registered': '2014-11-10T01:44:03 +06:00', 'latitude': -80.157843, 'longitude': 161.93016, 'tags': ['sit', 'occaecat', 'non', 'ea', 'sit', 'laboris', 'exercitation'], 'friends': [{'id': 0, 'name': 'Tanisha Leonard'}, {'id': 1, 'name': 'Dennis Wilson'}, {'id': 2, 'name': 'Lupe Howe'}], 'greeting': 'Hello, Hebert Estes! You have 4 unread messages.', 'favoriteFruit': 'strawberry'}\n",
      "--------------------------------------------- \n",
      "\n",
      "{'_id': '54e23c3ef5cc0d250968c212', 'index': 1, 'guid': '905f849d-49bf-4a57-b4f3-5d6e4bf1b04c', 'isActive': False, 'balance': 3654.02, 'picture': 'http://placehold.it/32x32', 'age': 30, 'eyeColor': 'green', 'name': 'Allison Wynn', 'gender': 'male', 'company': 'PHARMACON', 'email': 'allisonwynn@pharmacon.com', 'phone': '+1 (926) 525-3131', 'address': '724 Brevoort Place, Lodoga, Indiana, 3880', 'about': 'Esse quis cillum sunt occaecat ad et eu incididunt aliquip dolor. Adipisicing labore magna anim cillum nisi. Elit mollit consequat velit nulla cillum excepteur elit ullamco deserunt. Anim aliquip Lorem excepteur ad veniam et labore in qui ullamco. Occaecat sit do incididunt voluptate id magna ea amet.\\r\\n', 'registered': '2014-06-10T13:41:26 +05:00', 'latitude': 55.737207, 'longitude': -167.177561, 'tags': ['enim', 'officia', 'laboris', 'irure', 'veniam', 'occaecat', 'pariatur'], 'friends': [{'id': 0, 'name': 'Curry Cox'}, {'id': 1, 'name': 'Alma Dale'}, {'id': 2, 'name': 'Barbara Mayo'}], 'greeting': 'Hello, Allison Wynn! You have 19 unread messages.', 'favoriteFruit': 'apple'}\n",
      "--------------------------------------------- \n",
      "\n",
      "{'_id': '54e23c3e09cc6875638cd36b', 'index': 2, 'guid': '1b042d48-9cfa-4db5-8b60-4104165591c3', 'isActive': True, 'balance': 1536.02, 'picture': 'http://placehold.it/32x32', 'age': 31, 'eyeColor': 'brown', 'name': 'Jacobs Floyd', 'gender': 'male', 'company': 'QUONK', 'email': 'jacobsfloyd@quonk.com', 'phone': '+1 (853) 537-3315', 'address': '941 Cox Place, Bluffview, Georgia, 5882', 'about': 'Deserunt adipisicing proident exercitation cillum anim consectetur labore exercitation. Commodo reprehenderit laborum enim exercitation. Ullamco nulla culpa aliqua nisi fugiat consectetur deserunt nostrud in eu.\\r\\n', 'registered': '2014-07-30T03:17:32 +05:00', 'latitude': 30.215667, 'longitude': 68.831905, 'tags': ['est', 'aute', 'laborum', 'sint', 'anim', 'sit', 'consectetur'], 'friends': [{'id': 0, 'name': 'Robles Chan'}, {'id': 1, 'name': 'Whitfield Strickland'}, {'id': 2, 'name': 'Lina Melton'}], 'greeting': 'Hello, Jacobs Floyd! You have 5 unread messages.', 'favoriteFruit': 'banana'}\n",
      "--------------------------------------------- \n",
      "\n",
      "{'_id': '54e23c3e54e4094147a3b1da', 'index': 3, 'guid': '69eb3454-8acc-46f1-a636-c6df00dfb542', 'isActive': False, 'balance': 3919.64, 'picture': 'http://placehold.it/32x32', 'age': 20, 'eyeColor': 'green', 'name': 'Fay Hammond', 'gender': 'female', 'company': 'INRT', 'email': 'fayhammond@inrt.com', 'phone': '+1 (922) 429-2592', 'address': '518 Randolph Street, Whitestone, Arizona, 8189', 'about': 'Aliqua sunt exercitation quis cupidatat fugiat nulla laboris occaecat ut reprehenderit qui incididunt. Amet excepteur qui amet mollit sint enim velit est dolor eu. Velit labore ea aute ipsum consequat culpa cupidatat excepteur aliqua. Sit commodo id est deserunt commodo. Labore sit deserunt enim in dolore incididunt. Officia qui est veniam cillum consequat minim duis Lorem esse magna culpa cupidatat cupidatat enim. Amet eiusmod elit qui reprehenderit commodo quis.\\r\\n', 'registered': '2015-01-30T08:05:38 +06:00', 'latitude': 33.825844, 'longitude': -65.969538, 'tags': ['aliqua', 'esse', 'sint', 'pariatur', 'commodo', 'do', 'anim'], 'friends': [{'id': 0, 'name': 'Dudley Booker'}, {'id': 1, 'name': 'Esmeralda Tyler'}, {'id': 2, 'name': 'Rosa Hampton'}], 'greeting': 'Hello, Fay Hammond! You have 10 unread messages.', 'favoriteFruit': 'banana'}\n",
      "--------------------------------------------- \n",
      "\n",
      "{'_id': '54e23c3e177caf5567ba87ac', 'index': 4, 'guid': '97962c85-7700-4ffa-a01e-2fcbc147fd81', 'isActive': False, 'balance': 3681.39, 'picture': 'http://placehold.it/32x32', 'age': 39, 'eyeColor': 'green', 'name': 'Chasity Marsh', 'gender': 'female', 'company': 'WAZZU', 'email': 'chasitymarsh@wazzu.com', 'phone': '+1 (976) 425-2362', 'address': '604 Just Court, Eastvale, Federated States Of Micronesia, 8644', 'about': 'Irure excepteur consequat esse qui tempor deserunt nulla fugiat. Ut excepteur do veniam dolore dolor proident sunt voluptate ad ipsum nisi. Lorem proident deserunt Lorem cupidatat dolor nulla qui id aliqua. Et nulla laborum deserunt tempor ad culpa. Ullamco occaecat adipisicing dolore laborum laborum duis aliqua nisi irure ex. Incididunt tempor Lorem quis dolore.\\r\\n', 'registered': '2014-07-31T06:03:19 +05:00', 'latitude': -31.660978, 'longitude': 37.559095, 'tags': ['aliquip', 'duis', 'irure', 'amet', 'aliquip', 'dolore', 'esse'], 'friends': [{'id': 0, 'name': 'Kristina Glover'}, {'id': 1, 'name': 'Ora Christian'}, {'id': 2, 'name': 'Jacklyn Joseph'}], 'greeting': 'Hello, Chasity Marsh! You have 9 unread messages.', 'favoriteFruit': 'apple'}\n",
      "--------------------------------------------- \n",
      "\n",
      "{'_id': '54e23c3eaffbb506aa15ec1c', 'index': 5, 'guid': 'fc3e04d1-44c2-449e-891a-d4f8053d14a4', 'isActive': True, 'balance': 1694.42, 'picture': 'http://placehold.it/32x32', 'age': 30, 'eyeColor': 'brown', 'name': 'Camacho Cortez', 'gender': 'male', 'company': 'EARTHWAX', 'email': 'camachocortez@earthwax.com', 'phone': '+1 (869) 528-2019', 'address': '101 Haring Street, Nicut, Louisiana, 1473', 'about': 'Qui ad commodo elit voluptate cupidatat exercitation amet ea laborum sunt aliquip nisi irure. Veniam voluptate eiusmod sint aliquip ea. Voluptate voluptate Lorem nulla laborum eiusmod occaecat et nostrud sint in cillum reprehenderit magna nulla. Lorem id fugiat laborum qui mollit amet. Culpa officia ipsum nisi culpa in. Fugiat quis eu cupidatat non culpa in ea velit pariatur non in excepteur.\\r\\n', 'registered': '2014-03-17T12:04:00 +05:00', 'latitude': 74.434627, 'longitude': 69.527088, 'tags': ['et', 'sit', 'in', 'id', 'ullamco', 'elit', 'laborum'], 'friends': [{'id': 0, 'name': 'Sexton Tillman'}, {'id': 1, 'name': 'Boone Steele'}, {'id': 2, 'name': 'Elvia Ward'}], 'greeting': 'Hello, Camacho Cortez! You have 19 unread messages.', 'favoriteFruit': 'apple'}\n",
      "--------------------------------------------- \n",
      "\n",
      "{'_id': '54e23c3e0fd8074c2ca52667', 'index': 6, 'guid': 'af8d9a03-fde9-4039-b20c-c4708d4cfc3c', 'isActive': False, 'balance': 1214.1, 'picture': 'http://placehold.it/32x32', 'age': 35, 'eyeColor': 'green', 'name': 'Avery Flynn', 'gender': 'male', 'company': 'TERSANKI', 'email': 'averyflynn@tersanki.com', 'phone': '+1 (966) 404-2471', 'address': '569 Oakland Place, Beyerville, Puerto Rico, 2395', 'about': 'Minim consequat anim ad et tempor et pariatur cillum ut. Ea Lorem consectetur sunt aliquip ea minim minim id dolore incididunt qui magna. Magna velit labore dolore voluptate ut aliquip esse qui est ipsum cupidatat duis enim. Sunt esse eiusmod cupidatat duis quis sunt anim dolore adipisicing enim dolore aliqua mollit. Commodo sit ad eiusmod reprehenderit.\\r\\n', 'registered': '2014-04-13T10:25:03 +05:00', 'latitude': -89.879409, 'longitude': 143.441709, 'tags': ['quis', 'esse', 'Lorem', 'minim', 'nostrud', 'voluptate', 'laborum'], 'friends': [{'id': 0, 'name': 'Ball Henson'}, {'id': 1, 'name': 'Dalton Mccoy'}, {'id': 2, 'name': 'Carolina Sharp'}], 'greeting': 'Hello, Avery Flynn! You have 13 unread messages.', 'favoriteFruit': 'banana'}\n",
      "--------------------------------------------- \n",
      "\n",
      "{'_id': '54e23c3eb112d96e4204914d', 'index': 7, 'guid': '95f1c020-f9eb-4a29-b236-e766759d89d0', 'isActive': False, 'balance': 2930.31, 'picture': 'http://placehold.it/32x32', 'age': 23, 'eyeColor': 'blue', 'name': 'Michael Cash', 'gender': 'male', 'company': 'ORBIXTAR', 'email': 'michaelcash@orbixtar.com', 'phone': '+1 (996) 439-3660', 'address': '808 Duryea Court, Downsville, Northern Mariana Islands, 2154', 'about': 'Minim proident minim consectetur nostrud dolor reprehenderit. Ea est proident non do cillum eu est dolor Lorem id. Tempor enim incididunt consequat voluptate nulla ipsum voluptate id. Incididunt enim laboris nostrud in exercitation est culpa nulla velit.\\r\\n', 'registered': '2014-05-24T17:56:54 +05:00', 'latitude': -86.621367, 'longitude': -4.06197, 'tags': ['eu', 'sit', 'dolore', 'culpa', 'Lorem', 'in', 'esse'], 'friends': [{'id': 0, 'name': 'Rodgers Nolan'}, {'id': 1, 'name': 'Jewel Marks'}, {'id': 2, 'name': 'Sue Mejia'}], 'greeting': 'Hello, Michael Cash! You have 17 unread messages.', 'favoriteFruit': 'strawberry'}\n",
      "--------------------------------------------- \n",
      "\n",
      "{'_id': '54e23c3ef30f14d0e5afddf3', 'index': 8, 'guid': 'bde2d56f-2488-40d0-a7d2-21019ee8a18b', 'isActive': False, 'balance': 1944.15, 'picture': 'http://placehold.it/32x32', 'age': 25, 'eyeColor': 'green', 'name': 'Madeleine Bray', 'gender': 'female', 'company': 'KIDSTOCK', 'email': 'madeleinebray@kidstock.com', 'phone': '+1 (820) 541-2969', 'address': '684 Stratford Road, Rosine, District Of Columbia, 7177', 'about': 'Ullamco ea esse ullamco commodo quis amet ut ad. Sint eiusmod ullamco minim nostrud amet in ex adipisicing velit cillum Lorem enim nostrud. Deserunt esse incididunt eiusmod commodo ullamco id pariatur tempor duis laboris Lorem. Laboris magna Lorem quis laborum ullamco. Dolor minim magna ut occaecat in consequat consequat in commodo pariatur voluptate pariatur dolore. Quis exercitation cillum labore cillum laborum. Dolore est reprehenderit anim reprehenderit consectetur sit quis ea ut veniam.\\r\\n', 'registered': '2014-08-11T08:54:06 +05:00', 'latitude': 45.118798, 'longitude': -7.698707, 'tags': ['id', 'magna', 'excepteur', 'excepteur', 'excepteur', 'duis', 'excepteur'], 'friends': [{'id': 0, 'name': 'Herrera Doyle'}, {'id': 1, 'name': 'Berger Fisher'}, {'id': 2, 'name': 'Chang Coffey'}], 'greeting': 'Hello, Madeleine Bray! You have 2 unread messages.', 'favoriteFruit': 'strawberry'}\n",
      "--------------------------------------------- \n",
      "\n",
      "{'_id': '54e23c3ebd80e9c26b057fa3', 'index': 9, 'guid': '75991ca5-05ed-499e-bbb5-f057f86d05d7', 'isActive': True, 'balance': 2839.22, 'picture': 'http://placehold.it/32x32', 'age': 37, 'eyeColor': 'blue', 'name': 'Corine French', 'gender': 'female', 'company': 'INTRAWEAR', 'email': 'corinefrench@intrawear.com', 'phone': '+1 (987) 573-3164', 'address': '964 Clara Street, Snyderville, Oklahoma, 3627', 'about': 'Sint cillum laborum labore duis fugiat voluptate adipisicing. Ad culpa et et ea incididunt nulla excepteur officia. Cillum veniam amet ipsum reprehenderit do eiusmod aliqua aute nisi Lorem consectetur esse in incididunt.\\r\\n', 'registered': '2014-06-25T20:17:13 +05:00', 'latitude': -37.637422, 'longitude': 154.195523, 'tags': ['laboris', 'in', 'dolore', 'mollit', 'velit', 'laboris', 'excepteur'], 'friends': [{'id': 0, 'name': 'Greta Hill'}, {'id': 1, 'name': 'Cline Curry'}, {'id': 2, 'name': 'Branch Sawyer'}], 'greeting': 'Hello, Corine French! You have 18 unread messages.', 'favoriteFruit': 'banana'}\n",
      "--------------------------------------------- \n",
      "\n",
      "{'_id': '54e23c3e6d89c09f5507e7dd', 'index': 10, 'guid': '87cffc18-3acf-40c5-8708-1bb93f1b68de', 'isActive': True, 'balance': 2467.31, 'picture': 'http://placehold.it/32x32', 'age': 29, 'eyeColor': 'blue', 'name': 'Trudy Cummings', 'gender': 'female', 'company': 'SPLINX', 'email': 'trudycummings@splinx.com', 'phone': '+1 (925) 403-2797', 'address': '558 Charles Place, Tedrow, California, 9832', 'about': 'Non id adipisicing deserunt non magna ex adipisicing sint esse sint. Laborum ea nostrud Lorem voluptate quis proident eu nisi exercitation in. Consequat occaecat proident officia anim.\\r\\n', 'registered': '2014-03-13T17:54:31 +05:00', 'latitude': -36.185131, 'longitude': -37.774906, 'tags': ['aute', 'occaecat', 'ea', 'pariatur', 'consectetur', 'magna', 'ea'], 'friends': [{'id': 0, 'name': 'Amber Gates'}, {'id': 1, 'name': 'Barron Walsh'}, {'id': 2, 'name': 'Nell Bolton'}], 'greeting': 'Hello, Trudy Cummings! You have 2 unread messages.', 'favoriteFruit': 'strawberry'}\n",
      "--------------------------------------------- \n",
      "\n",
      "{'_id': '54e23c3e4192cf53edd67c99', 'index': 11, 'guid': '5a5496f1-a027-4c21-85da-c399234cd9a5', 'isActive': True, 'balance': 3304.99, 'picture': 'http://placehold.it/32x32', 'age': 21, 'eyeColor': 'brown', 'name': 'Peggy Mayer', 'gender': 'female', 'company': 'ACCUPRINT', 'email': 'peggymayer@accuprint.com', 'phone': '+1 (854) 428-2585', 'address': '830 Willmohr Street, Crenshaw, Missouri, 6032', 'about': 'Aliqua sit enim cillum aliquip ad proident excepteur in consectetur eiusmod. Ipsum sint cillum veniam eiusmod aute sunt et do est tempor. Lorem elit dolor dolore incididunt cillum. Enim occaecat minim sunt cillum est velit cillum deserunt tempor eu.\\r\\n', 'registered': '2014-09-14T07:06:49 +05:00', 'latitude': 48.323912, 'longitude': 22.184821, 'tags': ['commodo', 'esse', 'ad', 'ullamco', 'ea', 'sint', 'ipsum'], 'friends': [{'id': 0, 'name': 'Hopkins Mccall'}, {'id': 1, 'name': 'Nielsen Weeks'}, {'id': 2, 'name': 'Dale Knowles'}], 'greeting': 'Hello, Peggy Mayer! You have 13 unread messages.', 'favoriteFruit': 'strawberry'}\n",
      "--------------------------------------------- \n",
      "\n",
      "{'_id': '54e23c3eedcc65f0ec3a5496', 'index': 12, 'guid': '759a21c4-5f9c-4189-9c50-c9d8a9f31037', 'isActive': False, 'balance': 3844.42, 'picture': 'http://placehold.it/32x32', 'age': 40, 'eyeColor': 'brown', 'name': 'Chan Hurley', 'gender': 'male', 'company': 'ZEAM', 'email': 'chanhurley@zeam.com', 'phone': '+1 (917) 475-3705', 'address': '915 Channel Avenue, Clinton, North Dakota, 6244', 'about': 'Voluptate exercitation ut anim ex adipisicing ut do officia incididunt fugiat cupidatat aliqua. Cillum ullamco irure dolore est consectetur non consequat. Nulla ullamco eu irure qui dolor magna ipsum id in enim voluptate aute. Officia aliqua dolore ut reprehenderit Lorem cillum. Cillum reprehenderit eu cillum aliqua sint eiusmod cupidatat culpa elit in. Fugiat voluptate reprehenderit amet anim qui nisi velit aliqua proident anim.\\r\\n', 'registered': '2014-03-01T14:51:23 +06:00', 'latitude': 85.901051, 'longitude': -74.986179, 'tags': ['minim', 'veniam', 'sit', 'aute', 'irure', 'non', 'eiusmod'], 'friends': [{'id': 0, 'name': 'Reese Grant'}, {'id': 1, 'name': 'Jenna Kinney'}, {'id': 2, 'name': 'Rhea May'}], 'greeting': 'Hello, Chan Hurley! You have 7 unread messages.', 'favoriteFruit': 'apple'}\n",
      "--------------------------------------------- \n",
      "\n",
      "{'_id': '54e23c3eb813e66c6d33aa82', 'index': 13, 'guid': '6fd14a8e-3158-48eb-a7e1-93fe57b74746', 'isActive': True, 'balance': 3594.99, 'picture': 'http://placehold.it/32x32', 'age': 40, 'eyeColor': 'blue', 'name': 'Diaz Pena', 'gender': 'male', 'company': 'SUREPLEX', 'email': 'diazpena@sureplex.com', 'phone': '+1 (986) 511-3050', 'address': '184 Kingsway Place, Grantville, Michigan, 2421', 'about': 'Enim elit amet officia consectetur do Lorem reprehenderit cupidatat exercitation velit. Ex tempor esse consectetur dolore aute et. Cupidatat duis nulla in incididunt nulla ullamco non magna officia commodo anim. Labore quis ullamco est deserunt excepteur duis nostrud deserunt cillum proident. Non eiusmod consectetur pariatur deserunt irure quis exercitation ex incididunt quis dolore pariatur sunt irure. Eu do fugiat laboris tempor culpa.\\r\\n', 'registered': '2014-04-19T20:43:12 +05:00', 'latitude': 6.606991, 'longitude': 81.593748, 'tags': ['excepteur', 'elit', 'ullamco', 'excepteur', 'ad', 'quis', 'dolore'], 'friends': [{'id': 0, 'name': 'Mcmillan Knox'}, {'id': 1, 'name': 'Flossie Dixon'}, {'id': 2, 'name': 'Sears Carson'}], 'greeting': 'Hello, Diaz Pena! You have 13 unread messages.', 'favoriteFruit': 'strawberry'}\n",
      "--------------------------------------------- \n",
      "\n",
      "{'_id': '54e23c3e502a2f526b689c3e', 'index': 14, 'guid': '459cc82d-7878-42cb-b9c6-073506380036', 'isActive': True, 'balance': 2940.24, 'picture': 'http://placehold.it/32x32', 'age': 40, 'eyeColor': 'brown', 'name': 'Heath Castaneda', 'gender': 'male', 'company': 'NETPLODE', 'email': 'heathcastaneda@netplode.com', 'phone': '+1 (944) 478-3741', 'address': '278 Village Road, Sunnyside, Massachusetts, 7496', 'about': 'Consectetur mollit cupidatat ex consectetur eiusmod ut. Cupidatat anim cupidatat cupidatat minim ipsum et quis amet proident pariatur. Do consectetur fugiat quis nisi non. Ut eu consequat consequat in ullamco eiusmod quis cillum sunt dolore anim. Non irure aliqua aliqua enim elit labore consequat.\\r\\n', 'registered': '2014-07-30T21:38:43 +05:00', 'latitude': 69.928876, 'longitude': 33.649878, 'tags': ['elit', 'commodo', 'ut', 'ullamco', 'ullamco', 'velit', 'ullamco'], 'friends': [{'id': 0, 'name': 'Dora Mack'}, {'id': 1, 'name': 'Christensen Camacho'}, {'id': 2, 'name': 'Castro Kelly'}], 'greeting': 'Hello, Heath Castaneda! You have 12 unread messages.', 'favoriteFruit': 'strawberry'}\n",
      "--------------------------------------------- \n",
      "\n",
      "{'_id': '54e23c3e69d22e49c7fe62de', 'index': 15, 'guid': '33d2bbe5-d6f7-4844-88fc-b9f6af63b373', 'isActive': False, 'balance': 3062.41, 'picture': 'http://placehold.it/32x32', 'age': 38, 'eyeColor': 'brown', 'name': 'Greer Blankenship', 'gender': 'male', 'company': 'QUALITERN', 'email': 'greerblankenship@qualitern.com', 'phone': '+1 (957) 482-3874', 'address': '557 Ingraham Street, Brambleton, South Dakota, 8482', 'about': 'Non in excepteur nostrud consectetur. Qui non consectetur officia incididunt elit laboris exercitation exercitation est minim veniam ullamco dolore. Eu sit aute culpa ex sunt amet. Ut et amet Lorem sunt anim pariatur.\\r\\n', 'registered': '2014-03-30T21:39:41 +05:00', 'latitude': -71.093388, 'longitude': 65.740255, 'tags': ['enim', 'eiusmod', 'Lorem', 'reprehenderit', 'nisi', 'anim', 'sunt'], 'friends': [{'id': 0, 'name': 'Woods Norman'}, {'id': 1, 'name': 'Marilyn Haney'}, {'id': 2, 'name': 'Webster Nielsen'}], 'greeting': 'Hello, Greer Blankenship! You have 7 unread messages.', 'favoriteFruit': 'banana'}\n",
      "--------------------------------------------- \n",
      "\n",
      "{'_id': '54e23c3e42676228c442a669', 'index': 16, 'guid': 'e44604f0-c7a8-4b89-bda3-0f4710ebe28a', 'isActive': False, 'balance': 3067.82, 'picture': 'http://placehold.it/32x32', 'age': 32, 'eyeColor': 'green', 'name': 'Coffey Hayes', 'gender': 'male', 'company': 'INQUALA', 'email': 'coffeyhayes@inquala.com', 'phone': '+1 (880) 451-3490', 'address': '490 Durland Place, Craig, Tennessee, 5034', 'about': 'Est esse irure Lorem ullamco veniam fugiat laborum veniam excepteur. Ad enim pariatur nostrud excepteur et nostrud velit dolore ex enim cillum in aliquip fugiat. Nulla laborum exercitation irure magna elit laborum magna ad excepteur. Cillum pariatur Lorem eiusmod ad dolore eiusmod veniam do minim laborum in dolor. Reprehenderit elit ad id voluptate Lorem Lorem dolor cupidatat excepteur. Proident minim ea aute nulla.\\r\\n', 'registered': '2014-04-01T23:04:39 +05:00', 'latitude': -30.662644, 'longitude': 59.806684, 'tags': ['duis', 'est', 'in', 'officia', 'nostrud', 'occaecat', 'mollit'], 'friends': [{'id': 0, 'name': 'Suarez Perry'}, {'id': 1, 'name': 'Marlene Sheppard'}, {'id': 2, 'name': 'Cohen Yates'}], 'greeting': 'Hello, Coffey Hayes! You have 19 unread messages.', 'favoriteFruit': 'strawberry'}\n",
      "--------------------------------------------- \n",
      "\n",
      "{'_id': '54e23c3e4ac5969958013235', 'index': 17, 'guid': 'fa7e26df-d239-41e8-9aa9-be5e808b6f89', 'isActive': True, 'balance': 2646.76, 'picture': 'http://placehold.it/32x32', 'age': 24, 'eyeColor': 'brown', 'name': 'Leanne Hurst', 'gender': 'female', 'company': 'ACCIDENCY', 'email': 'leannehurst@accidency.com', 'phone': '+1 (820) 420-3317', 'address': '196 Columbus Place, Carbonville, New Jersey, 7513', 'about': 'Dolor occaecat dolore ut tempor. Veniam elit anim duis do pariatur. Qui excepteur nisi eiusmod mollit laboris fugiat commodo ipsum reprehenderit labore cillum. Aliquip laborum commodo nisi cupidatat labore nostrud exercitation adipisicing mollit eu magna proident ex Lorem. Nostrud magna sint sint consequat consectetur et sint.\\r\\n', 'registered': '2014-11-10T01:25:55 +06:00', 'latitude': 16.671695, 'longitude': 139.707959, 'tags': ['culpa', 'deserunt', 'tempor', 'quis', 'reprehenderit', 'incididunt', 'est'], 'friends': [{'id': 0, 'name': 'Farley Frank'}, {'id': 1, 'name': 'Pruitt Frye'}, {'id': 2, 'name': 'Simpson Cardenas'}], 'greeting': 'Hello, Leanne Hurst! You have 5 unread messages.', 'favoriteFruit': 'banana'}\n",
      "--------------------------------------------- \n",
      "\n",
      "{'_id': '54e23c3ed945981ba2580614', 'index': 18, 'guid': 'e608dc5c-fee4-4086-971b-3ebd37bfa137', 'isActive': True, 'balance': 2227.79, 'picture': 'http://placehold.it/32x32', 'age': 22, 'eyeColor': 'brown', 'name': 'Ewing Larson', 'gender': 'male', 'company': 'ESCENTA', 'email': 'ewinglarson@escenta.com', 'phone': '+1 (943) 439-3760', 'address': '136 Beard Street, Wattsville, New Hampshire, 2803', 'about': 'Veniam eiusmod exercitation culpa mollit reprehenderit ullamco voluptate voluptate irure qui duis anim et. Laborum dolor quis do voluptate. In pariatur dolor id mollit et enim. Qui ex qui in cillum irure enim non reprehenderit irure et excepteur aliquip eu eu.\\r\\n', 'registered': '2014-07-21T19:17:41 +05:00', 'latitude': 15.903555, 'longitude': -159.721203, 'tags': ['Lorem', 'magna', 'dolor', 'aliquip', 'reprehenderit', 'eu', 'voluptate'], 'friends': [{'id': 0, 'name': 'Suzette Huffman'}, {'id': 1, 'name': 'Paige Santiago'}, {'id': 2, 'name': 'Dollie Fernandez'}], 'greeting': 'Hello, Ewing Larson! You have 16 unread messages.', 'favoriteFruit': 'strawberry'}\n",
      "--------------------------------------------- \n",
      "\n"
     ]
    }
   ],
   "source": [
    "for profile in json_profile:\n",
    "    print(profile)\n",
    "    print('---------------------------------------------', '\\n')\n",
    "    \n",
    " # reprints json_profile with the 'balance' turned into floats.   "
   ]
  },
  {
   "cell_type": "code",
   "execution_count": 106,
   "id": "b033cc06",
   "metadata": {},
   "outputs": [
    {
     "name": "stdout",
     "output_type": "stream",
     "text": [
      "52667.02\n"
     ]
    }
   ],
   "source": [
    "# 3d\n",
    "# Grand total of balances for all users\n",
    "\n",
    "count = 0\n",
    "\n",
    "for entry in json_profile:\n",
    "    count += entry['balance']\n",
    "    \n",
    "print(count)\n",
    "\n",
    "\n",
    "    "
   ]
  },
  {
   "cell_type": "code",
   "execution_count": 108,
   "id": "cd0bdf45",
   "metadata": {},
   "outputs": [
    {
     "data": {
      "text/plain": [
       "2771.9484210526316"
      ]
     },
     "execution_count": 108,
     "metadata": {},
     "output_type": "execute_result"
    }
   ],
   "source": [
    "# 3e\n",
    "# Average balance per user\n",
    "\n",
    "avg_bal = 0\n",
    "\n",
    "for entry in json_profile:\n",
    "    avg_bal += entry['balance']\n",
    "    \n",
    "avg_bal / len(json_profile)                # this divides the total balance by the number of users\n"
   ]
  },
  {
   "cell_type": "code",
   "execution_count": 112,
   "id": "778e5cbe",
   "metadata": {},
   "outputs": [
    {
     "data": {
      "text/plain": [
       "19"
      ]
     },
     "execution_count": 112,
     "metadata": {},
     "output_type": "execute_result"
    }
   ],
   "source": [
    "total_users = len(json_profile)\n",
    "total_users"
   ]
  },
  {
   "cell_type": "code",
   "execution_count": 115,
   "id": "225e602e",
   "metadata": {},
   "outputs": [
    {
     "data": {
      "text/plain": [
       "2771.95"
      ]
     },
     "execution_count": 115,
     "metadata": {},
     "output_type": "execute_result"
    }
   ],
   "source": [
    "# in-class\n",
    "\n",
    "avg_bala = round(count / total_users, 2)\n",
    "avg_bala"
   ]
  },
  {
   "cell_type": "code",
   "execution_count": null,
   "id": "2882066c",
   "metadata": {},
   "outputs": [],
   "source": []
  },
  {
   "cell_type": "code",
   "execution_count": 74,
   "id": "5ab42f6d",
   "metadata": {},
   "outputs": [
    {
     "data": {
      "text/plain": [
       "{'_id': '54e23c3e0fd8074c2ca52667',\n",
       " 'index': 6,\n",
       " 'guid': 'af8d9a03-fde9-4039-b20c-c4708d4cfc3c',\n",
       " 'isActive': False,\n",
       " 'balance': 1214.1,\n",
       " 'picture': 'http://placehold.it/32x32',\n",
       " 'age': 35,\n",
       " 'eyeColor': 'green',\n",
       " 'name': 'Avery Flynn',\n",
       " 'gender': 'male',\n",
       " 'company': 'TERSANKI',\n",
       " 'email': 'averyflynn@tersanki.com',\n",
       " 'phone': '+1 (966) 404-2471',\n",
       " 'address': '569 Oakland Place, Beyerville, Puerto Rico, 2395',\n",
       " 'about': 'Minim consequat anim ad et tempor et pariatur cillum ut. Ea Lorem consectetur sunt aliquip ea minim minim id dolore incididunt qui magna. Magna velit labore dolore voluptate ut aliquip esse qui est ipsum cupidatat duis enim. Sunt esse eiusmod cupidatat duis quis sunt anim dolore adipisicing enim dolore aliqua mollit. Commodo sit ad eiusmod reprehenderit.\\r\\n',\n",
       " 'registered': '2014-04-13T10:25:03 +05:00',\n",
       " 'latitude': -89.879409,\n",
       " 'longitude': 143.441709,\n",
       " 'tags': ['quis', 'esse', 'Lorem', 'minim', 'nostrud', 'voluptate', 'laborum'],\n",
       " 'friends': [{'id': 0, 'name': 'Ball Henson'},\n",
       "  {'id': 1, 'name': 'Dalton Mccoy'},\n",
       "  {'id': 2, 'name': 'Carolina Sharp'}],\n",
       " 'greeting': 'Hello, Avery Flynn! You have 13 unread messages.',\n",
       " 'favoriteFruit': 'banana'}"
      ]
     },
     "execution_count": 74,
     "metadata": {},
     "output_type": "execute_result"
    }
   ],
   "source": [
    "# 3f\n",
    "# User with the lowest balance\n",
    "\n",
    "cur_lowest_balance = 400000\n",
    "cur_lowest_user = 0\n",
    "\n",
    "for user in json_profile:\n",
    "    if user['balance'] < cur_lowest_balance:\n",
    "        cur_lowest_balance = user['balance']\n",
    "        cur_lowest_user = user\n",
    "    \n",
    "    else:\n",
    "        pass\n",
    "    \n",
    "cur_lowest_user"
   ]
  },
  {
   "cell_type": "code",
   "execution_count": 78,
   "id": "7f611b7b",
   "metadata": {},
   "outputs": [
    {
     "ename": "TypeError",
     "evalue": "list indices must be integers or slices, not str",
     "output_type": "error",
     "traceback": [
      "\u001b[0;31m---------------------------------------------------------------------------\u001b[0m",
      "\u001b[0;31mTypeError\u001b[0m                                 Traceback (most recent call last)",
      "Input \u001b[0;32mIn [78]\u001b[0m, in \u001b[0;36m<cell line: 1>\u001b[0;34m()\u001b[0m\n\u001b[0;32m----> 1\u001b[0m \u001b[38;5;28mmax\u001b[39m(\u001b[43mjson_profile\u001b[49m\u001b[43m[\u001b[49m\u001b[38;5;124;43m'\u001b[39;49m\u001b[38;5;124;43mbalance\u001b[39;49m\u001b[38;5;124;43m'\u001b[39;49m\u001b[43m]\u001b[49m)\n",
      "\u001b[0;31mTypeError\u001b[0m: list indices must be integers or slices, not str"
     ]
    }
   ],
   "source": [
    "## haven't yet got a way to use the max() funciton on this. Below is one of many formatting attempt?.≤s.\n",
    "\n",
    "max(json_profile['balance'])"
   ]
  },
  {
   "cell_type": "code",
   "execution_count": 118,
   "id": "22d19343",
   "metadata": {},
   "outputs": [
    {
     "data": {
      "text/plain": [
       "[2097.02,\n",
       " 3654.02,\n",
       " 1536.02,\n",
       " 3919.64,\n",
       " 3681.39,\n",
       " 1694.42,\n",
       " 1214.1,\n",
       " 2930.31,\n",
       " 1944.15,\n",
       " 2839.22,\n",
       " 2467.31,\n",
       " 3304.99,\n",
       " 3844.42,\n",
       " 3594.99,\n",
       " 2940.24,\n",
       " 3062.41,\n",
       " 3067.82,\n",
       " 2646.76,\n",
       " 2227.79]"
      ]
     },
     "execution_count": 118,
     "metadata": {},
     "output_type": "execute_result"
    }
   ],
   "source": [
    "## 3f in-class\n",
    "\n",
    "list_of_balances = [profile['balance'] for profile in json_profile]\n",
    "# making a variable that will give a list of the balances\n",
    "\n",
    "list_of_balances"
   ]
  },
  {
   "cell_type": "code",
   "execution_count": 119,
   "id": "4a195def",
   "metadata": {},
   "outputs": [
    {
     "data": {
      "text/plain": [
       "1214.1"
      ]
     },
     "execution_count": 119,
     "metadata": {},
     "output_type": "execute_result"
    }
   ],
   "source": [
    "min(list_of_balances)"
   ]
  },
  {
   "cell_type": "code",
   "execution_count": 132,
   "id": "4ebd6fc9",
   "metadata": {},
   "outputs": [
    {
     "name": "stdout",
     "output_type": "stream",
     "text": [
      "User Avery Flynn has the lowest balanace, at 1214.10 dollars\n"
     ]
    }
   ],
   "source": [
    "for profile in json_profile:\n",
    "    if profile['balance'] == min(list_of_balances):\n",
    "        print(f'User {profile[\"name\"]} has the lowest balanace, at {profile[\"balance\"]:.2f} dollars')\n",
    "        \n",
    "        # the 2f gives two decimal places"
   ]
  },
  {
   "cell_type": "code",
   "execution_count": 121,
   "id": "eb7078ba",
   "metadata": {},
   "outputs": [
    {
     "data": {
      "text/plain": [
       "{'_id': '54e23c3e54e4094147a3b1da',\n",
       " 'index': 3,\n",
       " 'guid': '69eb3454-8acc-46f1-a636-c6df00dfb542',\n",
       " 'isActive': False,\n",
       " 'balance': 3919.64,\n",
       " 'picture': 'http://placehold.it/32x32',\n",
       " 'age': 20,\n",
       " 'eyeColor': 'green',\n",
       " 'name': 'Fay Hammond',\n",
       " 'gender': 'female',\n",
       " 'company': 'INRT',\n",
       " 'email': 'fayhammond@inrt.com',\n",
       " 'phone': '+1 (922) 429-2592',\n",
       " 'address': '518 Randolph Street, Whitestone, Arizona, 8189',\n",
       " 'about': 'Aliqua sunt exercitation quis cupidatat fugiat nulla laboris occaecat ut reprehenderit qui incididunt. Amet excepteur qui amet mollit sint enim velit est dolor eu. Velit labore ea aute ipsum consequat culpa cupidatat excepteur aliqua. Sit commodo id est deserunt commodo. Labore sit deserunt enim in dolore incididunt. Officia qui est veniam cillum consequat minim duis Lorem esse magna culpa cupidatat cupidatat enim. Amet eiusmod elit qui reprehenderit commodo quis.\\r\\n',\n",
       " 'registered': '2015-01-30T08:05:38 +06:00',\n",
       " 'latitude': 33.825844,\n",
       " 'longitude': -65.969538,\n",
       " 'tags': ['aliqua', 'esse', 'sint', 'pariatur', 'commodo', 'do', 'anim'],\n",
       " 'friends': [{'id': 0, 'name': 'Dudley Booker'},\n",
       "  {'id': 1, 'name': 'Esmeralda Tyler'},\n",
       "  {'id': 2, 'name': 'Rosa Hampton'}],\n",
       " 'greeting': 'Hello, Fay Hammond! You have 10 unread messages.',\n",
       " 'favoriteFruit': 'banana'}"
      ]
     },
     "execution_count": 121,
     "metadata": {},
     "output_type": "execute_result"
    }
   ],
   "source": [
    "# 3g\n",
    "# User with the highest balance\n",
    "\n",
    "\n",
    "cur_lowest_balance = 0\n",
    "cur_highest_user = 0\n",
    "\n",
    "for user in json_profile:\n",
    "    if user['balance'] > cur_lowest_balance:\n",
    "        cur_lowest_balance = user['balance']\n",
    "        cur_highest_user = user\n",
    "    \n",
    "    else:\n",
    "        pass\n",
    "    \n",
    "cur_highest_user"
   ]
  },
  {
   "cell_type": "code",
   "execution_count": 120,
   "id": "52a656c8",
   "metadata": {},
   "outputs": [
    {
     "data": {
      "text/plain": [
       "3919.64"
      ]
     },
     "execution_count": 120,
     "metadata": {},
     "output_type": "execute_result"
    }
   ],
   "source": [
    "max(list_of_balances)"
   ]
  },
  {
   "cell_type": "code",
   "execution_count": 133,
   "id": "de9065a3",
   "metadata": {},
   "outputs": [
    {
     "name": "stdout",
     "output_type": "stream",
     "text": [
      "User Fay Hammond has the highest balanace, at 3919.64 dollars\n"
     ]
    }
   ],
   "source": [
    "for profile in json_profile:\n",
    "    if profile['balance'] == max(list_of_balances):\n",
    "        print(f'User {profile[\"name\"]} has the highest balanace, at {profile[\"balance\"]:.2f} dollars')"
   ]
  },
  {
   "cell_type": "code",
   "execution_count": 136,
   "id": "ab8835c4",
   "metadata": {},
   "outputs": [
    {
     "data": {
      "text/plain": [
       "['strawberry',\n",
       " 'apple',\n",
       " 'banana',\n",
       " 'banana',\n",
       " 'apple',\n",
       " 'apple',\n",
       " 'banana',\n",
       " 'strawberry',\n",
       " 'strawberry',\n",
       " 'banana',\n",
       " 'strawberry',\n",
       " 'strawberry',\n",
       " 'apple',\n",
       " 'strawberry',\n",
       " 'strawberry',\n",
       " 'banana',\n",
       " 'strawberry',\n",
       " 'banana',\n",
       " 'strawberry']"
      ]
     },
     "execution_count": 136,
     "metadata": {},
     "output_type": "execute_result"
    }
   ],
   "source": [
    "# 3h\n",
    "# Most common favorite fruit\n",
    "fruits = []\n",
    "for profile in json_profile:\n",
    "    fruits.append(profile['favoriteFruit'])\n",
    "fruits\n",
    "\n",
    "## this gives all of the favourite fruits listed"
   ]
  },
  {
   "cell_type": "code",
   "execution_count": 137,
   "id": "6515595a",
   "metadata": {},
   "outputs": [
    {
     "data": {
      "text/plain": [
       "'strawberry'"
      ]
     },
     "execution_count": 137,
     "metadata": {},
     "output_type": "execute_result"
    }
   ],
   "source": [
    "# 3h\n",
    "# Most common favorite fruit\n",
    "\n",
    "max(fruits)"
   ]
  },
  {
   "cell_type": "code",
   "execution_count": 139,
   "id": "959170f0",
   "metadata": {},
   "outputs": [
    {
     "data": {
      "text/plain": [
       "{'apple', 'banana', 'strawberry'}"
      ]
     },
     "execution_count": 139,
     "metadata": {},
     "output_type": "execute_result"
    }
   ],
   "source": [
    "# 3i\n",
    "# Least most common favorite fruit\n",
    "\n",
    "min(fruits) # gives min of number of fruits \n",
    "\n",
    "set(fruits) # this gives all of the fruits listed"
   ]
  },
  {
   "cell_type": "code",
   "execution_count": 141,
   "id": "0d3e6a65",
   "metadata": {},
   "outputs": [
    {
     "data": {
      "text/plain": [
       "6"
      ]
     },
     "execution_count": 141,
     "metadata": {},
     "output_type": "execute_result"
    }
   ],
   "source": [
    "fruits.count('banana')"
   ]
  },
  {
   "cell_type": "code",
   "execution_count": 142,
   "id": "1c72de84",
   "metadata": {},
   "outputs": [
    {
     "data": {
      "text/plain": [
       "['Hello,', 'Ewing', 'Larson!', 'You', 'have', '16', 'unread', 'messages.']"
      ]
     },
     "execution_count": 142,
     "metadata": {},
     "output_type": "execute_result"
    }
   ],
   "source": [
    "# 3j\n",
    "# Total number of unread messages for all users\n",
    "\n",
    "message = profile['greeting'].split(' ') # gives a list of all the words, spaced apart, in the 'greeting'\n",
    "\n",
    "message "
   ]
  },
  {
   "cell_type": "code",
   "execution_count": 143,
   "id": "d072f7b8",
   "metadata": {},
   "outputs": [
    {
     "name": "stdout",
     "output_type": "stream",
     "text": [
      "This is a number :  16\n"
     ]
    }
   ],
   "source": [
    "for word in message:\n",
    "    if word.isdigit():\n",
    "        print('This is a number : ', word)\n",
    "\n",
    "# this extracts the key of specific unread messages, allowing it to be added in the next step"
   ]
  },
  {
   "cell_type": "code",
   "execution_count": 147,
   "id": "d7cb95fd",
   "metadata": {},
   "outputs": [
    {
     "data": {
      "text/plain": [
       "210"
      ]
     },
     "execution_count": 147,
     "metadata": {},
     "output_type": "execute_result"
    }
   ],
   "source": [
    "# 3j\n",
    "# Total number of unread messages for all users\n",
    "\n",
    "sum_msgs = 0\n",
    "\n",
    "for profile in json_profile:\n",
    "    \n",
    "    message = profile['greeting'].split(' ')\n",
    "    for word in message:\n",
    "        if word.isdigit():\n",
    "            sum_msgs = sum_msgs + int(word)\n",
    "sum_msgs"
   ]
  }
 ],
 "metadata": {
  "kernelspec": {
   "display_name": "Python 3 (ipykernel)",
   "language": "python",
   "name": "python3"
  },
  "language_info": {
   "codemirror_mode": {
    "name": "ipython",
    "version": 3
   },
   "file_extension": ".py",
   "mimetype": "text/x-python",
   "name": "python",
   "nbconvert_exporter": "python",
   "pygments_lexer": "ipython3",
   "version": "3.9.13"
  }
 },
 "nbformat": 4,
 "nbformat_minor": 5
}
