{
 "cells": [
  {
   "cell_type": "code",
   "execution_count": 2,
   "id": "9ba7b9e2",
   "metadata": {},
   "outputs": [
    {
     "name": "stdout",
     "output_type": "stream",
     "text": [
      "Enter the length of the first wall in feet : 4\n",
      "Enter the width of the second wall in feet : 4\n",
      "Enter the height in feet : 4\n",
      "Enter the preferred paint grade (standard, premium or professional) : premium\n",
      "Enter the number of coats desired : 3\n",
      "55.0 sq ft, 1 buckets, $ 167.97 ,  5.11 sq m\n"
     ]
    }
   ],
   "source": [
    "import math\n",
    "stdprice = 42.99\n",
    "'''standard paint price'''\n",
    "premprice = 55.99\n",
    "'''premuim paint price'''\n",
    "proprice = 74.99\n",
    "'''professional paint price'''\n",
    "\n",
    "stdft = 400\n",
    "'''sqft that one can of standard paint will cover'''\n",
    "premft = 500\n",
    "'''sqft that one can of premium paint will cover'''\n",
    "proft = 600\n",
    "'''sqft that one can of professional paint will cover'''\n",
    "\n",
    "l = input('Enter the length of the first wall in feet : ')\n",
    "w = input('Enter the width of the second wall in feet : ')\n",
    "h = input('Enter the height in feet : ')\n",
    "pg = input('Enter the preferred paint grade (standard, premium or professional) : ')\n",
    "coats = input('Enter the number of coats desired : ')\n",
    "l = float(l)\n",
    "w = float(w)\n",
    "h = float(h)\n",
    "coats = int(coats)\n",
    "door = 9\n",
    "\n",
    "def area(length, width, height, door):\n",
    "    final_area = length * height * 2 + width * height * 2 - door\n",
    "    return final_area\n",
    "\n",
    "def buckets(area, sqft):\n",
    "    final_buckets = math.ceil(area(l, w, h, door) / sqft)\n",
    "    return final_buckets\n",
    "\n",
    "def cost(area, sqft, price, coats):\n",
    "    final_cost = math.ceil(area(l, w, h, door) / sqft) * price * coats\n",
    "    return round(final_cost, 2)\n",
    "\n",
    "def meter(area):\n",
    "    total_meter = area(l, w, h, door) / 10.7639\n",
    "    # the float 10.7639 is used to convert square feet to square metres\n",
    "    return round(total_meter, 3)\n",
    "\n",
    "if pg == 'standard':\n",
    "    print(area(l, w, h, door), 'sq ft,', buckets(area, stdft), 'buckets,', \n",
    "          '$', cost(area, stdft, stdprice, coats),', ', meter(area), 'sq m')\n",
    "elif pg == 'premium':\n",
    "    print(area(l, w, h, door), 'sq ft,', buckets(area, premft), 'buckets,',\n",
    "          '$', cost(area, premft, premprice, coats),', ', meter(area), 'sq m')\n",
    "elif pg == 'professional':\n",
    "    print(area(l, w, h, door), 'sq ft,', buckets(area, proft), 'buckets,',\n",
    "          '$', cost(area, proft, proprice, coats),', ', meter(area), 'sq m')\n",
    "else:\n",
    "    print('Please try again; enter an available grade of paint.')"
   ]
  },
  {
   "cell_type": "code",
   "execution_count": null,
   "id": "dec63481",
   "metadata": {},
   "outputs": [],
   "source": [
    "def area(length, width, height, door):\n",
    "    final_area = length * height * 2 + width * height * 2 - door\n",
    "    return final_area\n"
   ]
  },
  {
   "cell_type": "code",
   "execution_count": null,
   "id": "d4e009fd",
   "metadata": {},
   "outputs": [],
   "source": [
    "def cost(area, sqft, price, coats):\n",
    "    final_cost = math.ceil(area(l, w, h, door) / sqft) * price * coats\n",
    "    return final_cost"
   ]
  },
  {
   "cell_type": "code",
   "execution_count": null,
   "id": "0de35e0f",
   "metadata": {},
   "outputs": [],
   "source": [
    "if pg == 'standard':\n",
    "    print(area(l, w, h, door), cost(area, stdft, stdprice, coats))\n",
    "elif pg == 'premium':\n",
    "    print(area(l, w, h, door), cost(area, premft, premprice, coats))\n",
    "elif pg == 'professional':\n",
    "    print(area(l, w, h, door), cost(area, proft, proprice, coats))\n",
    "else:\n",
    "    print('Please try again; enter an available grade of paint.')\n"
   ]
  },
  {
   "cell_type": "code",
   "execution_count": null,
   "id": "1757aab1",
   "metadata": {},
   "outputs": [],
   "source": []
  }
 ],
 "metadata": {
  "kernelspec": {
   "display_name": "Python 3 (ipykernel)",
   "language": "python",
   "name": "python3"
  },
  "language_info": {
   "codemirror_mode": {
    "name": "ipython",
    "version": 3
   },
   "file_extension": ".py",
   "mimetype": "text/x-python",
   "name": "python",
   "nbconvert_exporter": "python",
   "pygments_lexer": "ipython3",
   "version": "3.9.13"
  }
 },
 "nbformat": 4,
 "nbformat_minor": 5
}
