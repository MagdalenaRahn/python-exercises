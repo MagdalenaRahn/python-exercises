{
 "cells": [
  {
   "cell_type": "code",
   "execution_count": 1,
   "id": "bbaa6459",
   "metadata": {},
   "outputs": [
    {
     "name": "stdout",
     "output_type": "stream",
     "text": [
      "Enter a digit : 3\n"
     ]
    },
    {
     "data": {
      "text/plain": [
       "False"
      ]
     },
     "execution_count": 1,
     "metadata": {},
     "output_type": "execute_result"
    }
   ],
   "source": [
    "# 1\n",
    "# Define a function named is_two. It should accept one input and return True if the passed \n",
    "    # input is either the number or the string 2, False otherwise.\n",
    "\n",
    "num = input('Enter a digit : ')\n",
    "\n",
    "def is_two(num):\n",
    "    '''\n",
    "    This function accepts number or string 2 \n",
    "    and returns True\n",
    "    otherwise, it will return False\n",
    "    '''\n",
    "    if num == 2 or num == '2':\n",
    "        return True\n",
    "    else:\n",
    "        return False\n",
    "    \n",
    "is_two(num)"
   ]
  },
  {
   "cell_type": "code",
   "execution_count": 2,
   "id": "8eb9dce9",
   "metadata": {},
   "outputs": [
    {
     "data": {
      "text/plain": [
       "True"
      ]
     },
     "execution_count": 2,
     "metadata": {},
     "output_type": "execute_result"
    }
   ],
   "source": [
    "# 1 in-class\n",
    "def is_two_alt(num):\n",
    "    return num == 2 or num == '2'\n",
    "\n",
    "is_two_alt('2')"
   ]
  },
  {
   "cell_type": "code",
   "execution_count": 3,
   "id": "a0363dc1",
   "metadata": {},
   "outputs": [
    {
     "name": "stdout",
     "output_type": "stream",
     "text": [
      "Enter a letter of the alphabet : r\n"
     ]
    },
    {
     "data": {
      "text/plain": [
       "False"
      ]
     },
     "execution_count": 3,
     "metadata": {},
     "output_type": "execute_result"
    }
   ],
   "source": [
    "# 2\n",
    "\n",
    "letter = input(str('Enter a letter of the alphabet : '))\n",
    "\n",
    "def is_vowel(letter):\n",
    "    if letter == ['a' or 'e' or 'i' or'o' or 'u' or 'A' or 'E' or 'I' or 'O' or 'U']:\n",
    "        return True\n",
    "    else:\n",
    "        return False\n",
    "    \n",
    "is_vowel(letter)\n",
    "\n",
    "## This function always returns 'False'"
   ]
  },
  {
   "cell_type": "code",
   "execution_count": 4,
   "id": "960a1fda",
   "metadata": {},
   "outputs": [],
   "source": [
    "# 2 in-class\n",
    "\n",
    "def is_vowel_alt(string):\n",
    "    vowel = 0\n",
    "    for n in string:\n",
    "        if string in 'aeiouAEIOU':\n",
    "            vowel = vowel + 1\n",
    "        else:\n",
    "            vowel = vowel\n",
    "    if vowel != 0:\n",
    "        return True\n",
    "    else:\n",
    "        False\n",
    "    \n",
    "# this also works for typing in a word (not sure what that does)"
   ]
  },
  {
   "cell_type": "code",
   "execution_count": 5,
   "id": "5bf0d3ac",
   "metadata": {},
   "outputs": [
    {
     "data": {
      "text/plain": [
       "True"
      ]
     },
     "execution_count": 5,
     "metadata": {},
     "output_type": "execute_result"
    }
   ],
   "source": [
    "is_vowel_alt('a')"
   ]
  },
  {
   "cell_type": "code",
   "execution_count": 6,
   "id": "0ce330f9",
   "metadata": {},
   "outputs": [],
   "source": [
    "def is_vowel3(string):\n",
    "    return len(string) == 1 and string.lower() in 'aeiou'\n",
    "### if length of string not equal to 1, then lower case it, and if it\\'s not in the string, then it\\'s false\n"
   ]
  },
  {
   "cell_type": "code",
   "execution_count": 7,
   "id": "74b1f608",
   "metadata": {},
   "outputs": [
    {
     "data": {
      "text/plain": [
       "False"
      ]
     },
     "execution_count": 7,
     "metadata": {},
     "output_type": "execute_result"
    }
   ],
   "source": [
    "is_vowel3('q')"
   ]
  },
  {
   "cell_type": "code",
   "execution_count": 8,
   "id": "b393d9b7",
   "metadata": {},
   "outputs": [
    {
     "name": "stdout",
     "output_type": "stream",
     "text": [
      "Enter a letter of the alphabet that you think to be a vowel : e\n"
     ]
    },
    {
     "data": {
      "text/plain": [
       "True"
      ]
     },
     "execution_count": 8,
     "metadata": {},
     "output_type": "execute_result"
    }
   ],
   "source": [
    "# 2\n",
    "# This function functions correctly\n",
    "\n",
    "letter = input(str('Enter a letter of the alphabet that you think to be a vowel : '))\n",
    "\n",
    "def is_vowel(letter):\n",
    "    if letter.lower() in 'aeiou':\n",
    "        return True\n",
    "    else:\n",
    "        return False\n",
    "    \n",
    "is_vowel(letter)\n",
    "\n"
   ]
  },
  {
   "cell_type": "code",
   "execution_count": 18,
   "id": "5ef0092c",
   "metadata": {},
   "outputs": [
    {
     "name": "stdout",
     "output_type": "stream",
     "text": [
      "Enter a letter of the alphabet that you think to be a consonant : r\n"
     ]
    },
    {
     "data": {
      "text/plain": [
       "True"
      ]
     },
     "execution_count": 18,
     "metadata": {},
     "output_type": "execute_result"
    }
   ],
   "source": [
    "# 3 \n",
    "# Define a function named is_consonant. It should return True if the passed string is a consonant, \n",
    "    # False otherwise. Use your is_vowel function to accomplish this.\n",
    "\n",
    "letter = input(str('Enter a letter of the alphabet that you think to be a consonant : '))\n",
    "\n",
    "def is_consonant(letter):\n",
    "    if letter.lower() not in 'aeiou':\n",
    "        return True\n",
    "    else:\n",
    "        return False\n",
    "    \n",
    "is_consonant(letter)"
   ]
  },
  {
   "cell_type": "code",
   "execution_count": 10,
   "id": "3558b160",
   "metadata": {},
   "outputs": [],
   "source": [
    "# 3 in-class\n",
    "\n",
    "def is_conson(string):\n",
    "    return len(string) == 1 and not is_vowel3(string) and string.isalpha() # .isalpha() also works."
   ]
  },
  {
   "cell_type": "code",
   "execution_count": 11,
   "id": "cee593f7",
   "metadata": {},
   "outputs": [
    {
     "data": {
      "text/plain": [
       "False"
      ]
     },
     "execution_count": 11,
     "metadata": {},
     "output_type": "execute_result"
    }
   ],
   "source": [
    "is_conson('a')"
   ]
  },
  {
   "cell_type": "code",
   "execution_count": 12,
   "id": "71ec0a66",
   "metadata": {},
   "outputs": [
    {
     "name": "stdout",
     "output_type": "stream",
     "text": [
      "Enter the word that you would like to have capitalised : gak\n",
      "Enter the word that you would like to have capitalised : gak\n"
     ]
    },
    {
     "data": {
      "text/plain": [
       "'Gak'"
      ]
     },
     "execution_count": 12,
     "metadata": {},
     "output_type": "execute_result"
    }
   ],
   "source": [
    "# 4\n",
    "# Define a function that accepts a string that is a word. The function \n",
    "    # should capitalize the first letter of the word if the word starts with a consonant.\n",
    "\n",
    "\n",
    "word = input(str('Enter the word that you would like to have capitalised : '))\n",
    "## this is a global variable, bc it is outside of the function.\n",
    "\n",
    "# consonant = 'bcdfghjklmnpqrstvwxyz'\n",
    "\n",
    "vowel = 'a','e','i','o','u'\n",
    "\n",
    "def capitalised(word):\n",
    "    while True:\n",
    "        words = input(str('Enter the word that you would like to have capitalised : '))\n",
    "\n",
    "        if word[0] in vowel:\n",
    "            print('Please enter a word that starts with a consonant.')\n",
    "        else:\n",
    "            return word.title()\n",
    "\n",
    "\n",
    "capitalised(word)\n"
   ]
  },
  {
   "cell_type": "code",
   "execution_count": 13,
   "id": "8841d00e",
   "metadata": {},
   "outputs": [],
   "source": [
    "def capit(string):\n",
    "    first_letter = string[0]\n",
    "    if is_conson(first_letter):\n",
    "        string = string.capitalize()\n",
    "    return string"
   ]
  },
  {
   "cell_type": "code",
   "execution_count": 14,
   "id": "db4f532f",
   "metadata": {},
   "outputs": [
    {
     "data": {
      "text/plain": [
       "'Gok'"
      ]
     },
     "execution_count": 14,
     "metadata": {},
     "output_type": "execute_result"
    }
   ],
   "source": [
    "capit('gok')"
   ]
  },
  {
   "cell_type": "code",
   "execution_count": 15,
   "id": "dfde0a5e",
   "metadata": {},
   "outputs": [
    {
     "data": {
      "text/plain": [
       "'apple'"
      ]
     },
     "execution_count": 15,
     "metadata": {},
     "output_type": "execute_result"
    }
   ],
   "source": [
    "capit('apple')"
   ]
  },
  {
   "cell_type": "code",
   "execution_count": null,
   "id": "8d44296c",
   "metadata": {},
   "outputs": [],
   "source": []
  },
  {
   "cell_type": "code",
   "execution_count": 16,
   "id": "1b924e05",
   "metadata": {},
   "outputs": [
    {
     "name": "stdout",
     "output_type": "stream",
     "text": [
      "Please enter the bill amount : 55\n",
      "What precentage would you like to tip ? 3\n",
      "The amount to tip is : 165.0\n"
     ]
    }
   ],
   "source": [
    "# 5\n",
    "## Define a function named calculate_tip. It should accept a tip percentage (a number between 0 and 1) \n",
    "# and the bill total and return the amount to tip.\n",
    "\n",
    "# .strip('%')\n",
    "\n",
    "bill = float(input(str('Please enter the bill amount : ')))\n",
    "tip = float(input(str('What precentage would you like to tip ? ')))\n",
    "\n",
    "def calculate_tip(bill):\n",
    "    print(f'The amount to tip is : {(bill * tip)}')\n",
    "    return \n",
    "\n",
    "calculate_tip(bill)"
   ]
  },
  {
   "cell_type": "code",
   "execution_count": 20,
   "id": "067a3794",
   "metadata": {},
   "outputs": [
    {
     "name": "stdout",
     "output_type": "stream",
     "text": [
      "Enter total bill : 50\n",
      "Enter tip percentage : 5\n",
      "You should leave 10.0 as the tip.\n"
     ]
    }
   ],
   "source": [
    "# 5 in-class\n",
    "\n",
    "total_bill = int(input('Enter total bill : '))\n",
    "tip_pc = int(input('Enter tip percentage : '))\n",
    "leave_tip = total_bill / tip_pc\n",
    "\n",
    "print(f'You should leave {leave_tip} as the tip.')"
   ]
  },
  {
   "cell_type": "code",
   "execution_count": 22,
   "id": "4ae733a7",
   "metadata": {},
   "outputs": [],
   "source": [
    "## 6\n",
    "## Define a function named apply_discount. It should accept a original price, \n",
    "##  and a discount percentage, and return the price after the discount is applied.\n",
    "\n",
    "def apply_discount(price, disc_pc):\n",
    "    discount = price * disc_pc\n",
    "    return price - discount\n"
   ]
  },
  {
   "cell_type": "code",
   "execution_count": 23,
   "id": "f6e1f380",
   "metadata": {},
   "outputs": [
    {
     "data": {
      "text/plain": [
       "80.0"
      ]
     },
     "execution_count": 23,
     "metadata": {},
     "output_type": "execute_result"
    }
   ],
   "source": [
    "apply_discount(100, .20)"
   ]
  },
  {
   "cell_type": "code",
   "execution_count": 24,
   "id": "b69c1873",
   "metadata": {},
   "outputs": [],
   "source": [
    "# 7 \n",
    "## Define a function named handle_commas. It should accept a string that is a number that \n",
    " ## contains commas in it as input, and return a number as output.\n",
    "\n",
    "def handling_commas(string):\n",
    "    string = string.replace(',', \"\")\n",
    "    return string\n"
   ]
  },
  {
   "cell_type": "code",
   "execution_count": 25,
   "id": "188a2fb6",
   "metadata": {},
   "outputs": [
    {
     "data": {
      "text/plain": [
       "'1000'"
      ]
     },
     "execution_count": 25,
     "metadata": {},
     "output_type": "execute_result"
    }
   ],
   "source": [
    "handling_commas('1,000')"
   ]
  },
  {
   "cell_type": "code",
   "execution_count": 26,
   "id": "a28656aa",
   "metadata": {},
   "outputs": [],
   "source": [
    "# 8 \n",
    "## Define a function named get_letter_grade. It should accept a number and \n",
    "  ## return the letter grade associated with that number (A-F).\n",
    "    \n",
    "def is_letter_grade(score):\n",
    "    if(score < 60):\n",
    "        return 'F'\n",
    "    elif(score < 70):\n",
    "        return 'D'\n",
    "    elif(score < 80):\n",
    "        return 'C'\n",
    "    elif(score < 90):\n",
    "        return 'B'\n",
    "    elif(score < 101):\n",
    "        return 'A'"
   ]
  },
  {
   "cell_type": "code",
   "execution_count": 27,
   "id": "202f112e",
   "metadata": {},
   "outputs": [
    {
     "data": {
      "text/plain": [
       "'B'"
      ]
     },
     "execution_count": 27,
     "metadata": {},
     "output_type": "execute_result"
    }
   ],
   "source": [
    "is_letter_grade(85)"
   ]
  },
  {
   "cell_type": "code",
   "execution_count": 28,
   "id": "290354cc",
   "metadata": {},
   "outputs": [],
   "source": [
    "# 9\n",
    "# remove vowels and return string with vowels removed.\n",
    "\n",
    "def remove_vowels(string):\n",
    "    vowel = ('a','e','i','o','u')\n",
    "    for x in string.lower():\n",
    "        if x in vowel:\n",
    "            string = string.replace(x, \"\")\n",
    "    print(string)"
   ]
  },
  {
   "cell_type": "code",
   "execution_count": 30,
   "id": "2633d173",
   "metadata": {},
   "outputs": [
    {
     "name": "stdout",
     "output_type": "stream",
     "text": [
      "'A\n"
     ]
    }
   ],
   "source": [
    "remove_vowels('\\'Aiea')"
   ]
  },
  {
   "cell_type": "code",
   "execution_count": 31,
   "id": "2d2b5688",
   "metadata": {},
   "outputs": [],
   "source": [
    "# 10\n",
    "# Define a function named normalize_name. It should accept a string and \n",
    "  ## return a valid Python identifier:\n",
    "def normalise_name(string):\n",
    "    string = string.replace(\"$\", \"\")\n",
    "    string = string.replace(\"%\", \"\")\n",
    "    string = string.replace(\"!\", \"\")\n",
    "    string = string.replace(\"?\", \"\")\n",
    "    string = string.replace(\"&\", \"\")\n",
    "    string = string.replace(\" \", \"_\")\n",
    "    string = string.lower()\n",
    "    return(string)"
   ]
  },
  {
   "cell_type": "code",
   "execution_count": 32,
   "id": "ef69effa",
   "metadata": {},
   "outputs": [
    {
     "data": {
      "text/plain": [
       "'ga_k_'"
      ]
     },
     "execution_count": 32,
     "metadata": {},
     "output_type": "execute_result"
    }
   ],
   "source": [
    "normalise_name('ga! k& ')"
   ]
  },
  {
   "cell_type": "code",
   "execution_count": 33,
   "id": "84682d22",
   "metadata": {},
   "outputs": [],
   "source": [
    "# 11\n",
    "## Write a function named cumulative_sum that accepts a list of numbers and returns a list \n",
    "  ## that is the cumulative sum of the numbers in the list.\n",
    "    # cumulative_sum([1, 1, 1]) returns [1, 2, 3]\n",
    "    # cumulative_sum([1, 2, 3, 4]) returns [1, 3, 6, 10]\n",
    "\n",
    "    \n",
    "def cumulative_sums(nums):\n",
    "    output = []\n",
    "    total = 0\n",
    "    for num in nums:\n",
    "        total += num\n",
    "        output.append(total)\n",
    "    return output"
   ]
  },
  {
   "cell_type": "code",
   "execution_count": 34,
   "id": "15c5f381",
   "metadata": {},
   "outputs": [
    {
     "data": {
      "text/plain": [
       "[3, 5, 11, 12, 21]"
      ]
     },
     "execution_count": 34,
     "metadata": {},
     "output_type": "execute_result"
    }
   ],
   "source": [
    "cumulative_sums([3,2,6,1,9])"
   ]
  }
 ],
 "metadata": {
  "kernelspec": {
   "display_name": "Python 3 (ipykernel)",
   "language": "python",
   "name": "python3"
  },
  "language_info": {
   "codemirror_mode": {
    "name": "ipython",
    "version": 3
   },
   "file_extension": ".py",
   "mimetype": "text/x-python",
   "name": "python",
   "nbconvert_exporter": "python",
   "pygments_lexer": "ipython3",
   "version": "3.9.13"
  }
 },
 "nbformat": 4,
 "nbformat_minor": 5
}
