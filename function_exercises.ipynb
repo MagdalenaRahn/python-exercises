{
 "cells": [
  {
   "cell_type": "code",
   "execution_count": 20,
   "id": "bbaa6459",
   "metadata": {},
   "outputs": [
    {
     "data": {
      "text/plain": [
       "True"
      ]
     },
     "execution_count": 20,
     "metadata": {},
     "output_type": "execute_result"
    }
   ],
   "source": [
    "# 1\n",
    "# Define a function named is_two. It should accept one input and return True if the passed \n",
    "    # input is either the number or the string 2, False otherwise.\n",
    "\n",
    "num = 2\n",
    "\n",
    "def is_two(num):\n",
    "    if num == 2 or num == '2':\n",
    "        return True\n",
    "    else:\n",
    "        return False\n",
    "    \n",
    "is_two(num)"
   ]
  },
  {
   "cell_type": "code",
   "execution_count": 37,
   "id": "a0363dc1",
   "metadata": {},
   "outputs": [
    {
     "data": {
      "text/plain": [
       "False"
      ]
     },
     "execution_count": 37,
     "metadata": {},
     "output_type": "execute_result"
    }
   ],
   "source": [
    "# 2\n",
    "\n",
    "letter = 'e'\n",
    "\n",
    "def is_vowel(letter):\n",
    "    if letter == ['a' or 'e' or 'i' or'o' or 'u' or 'A' or 'E' or 'I' or 'O' or 'U']:\n",
    "        return True\n",
    "    else:\n",
    "        return False\n",
    "    \n",
    "is_vowel(letter)\n",
    "\n",
    "## This function always returns 'False'"
   ]
  },
  {
   "cell_type": "code",
   "execution_count": 40,
   "id": "b393d9b7",
   "metadata": {},
   "outputs": [
    {
     "data": {
      "text/plain": [
       "False"
      ]
     },
     "execution_count": 40,
     "metadata": {},
     "output_type": "execute_result"
    }
   ],
   "source": [
    "# 2\n",
    "# This function functions correctly\n",
    "\n",
    "letter = 'r'\n",
    "\n",
    "def is_vowel(letter):\n",
    "    if letter.lower() in 'aeiou':\n",
    "        return True\n",
    "    else:\n",
    "        return False\n",
    "    \n",
    "is_vowel(letter)\n",
    "\n"
   ]
  },
  {
   "cell_type": "code",
   "execution_count": 43,
   "id": "5ef0092c",
   "metadata": {},
   "outputs": [
    {
     "data": {
      "text/plain": [
       "False"
      ]
     },
     "execution_count": 43,
     "metadata": {},
     "output_type": "execute_result"
    }
   ],
   "source": [
    "# 3 \n",
    "# Define a function named is_consonant. It should return True if the passed string is a consonant, \n",
    "    # False otherwise. Use your is_vowel function to accomplish this.\n",
    "\n",
    "letter = 'e'\n",
    "\n",
    "def is_consonant(letter):\n",
    "    if letter.lower() not in 'aeiou':\n",
    "        return True\n",
    "    else:\n",
    "        return False\n",
    "    \n",
    "is_consonant(letter)"
   ]
  },
  {
   "cell_type": "code",
   "execution_count": null,
   "id": "71ec0a66",
   "metadata": {},
   "outputs": [],
   "source": [
    "# 4\n",
    "# Define a function that accepts a string that is a word. The function \n",
    "    # should capitalize the first letter of the word if the word starts with a consonant."
   ]
  },
  {
   "cell_type": "code",
   "execution_count": null,
   "id": "b3a24dbf",
   "metadata": {},
   "outputs": [],
   "source": []
  }
 ],
 "metadata": {
  "kernelspec": {
   "display_name": "Python 3 (ipykernel)",
   "language": "python",
   "name": "python3"
  },
  "language_info": {
   "codemirror_mode": {
    "name": "ipython",
    "version": 3
   },
   "file_extension": ".py",
   "mimetype": "text/x-python",
   "name": "python",
   "nbconvert_exporter": "python",
   "pygments_lexer": "ipython3",
   "version": "3.9.13"
  }
 },
 "nbformat": 4,
 "nbformat_minor": 5
}
