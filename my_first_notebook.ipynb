{
 "cells": [
  {
   "cell_type": "code",
   "execution_count": null,
   "id": "3b53a29f",
   "metadata": {},
   "outputs": [],
   "source": [
    "# this is the first line.\n",
    "# hitting 'enter' returns to the next line.\n",
    "# esc + b enters a cell below.\n",
    "# esc + a enters a cell above.\n",
    "# esc + x deletes a cell.`"
   ]
  },
  {
   "cell_type": "code",
   "execution_count": 16,
   "id": "44d1e790",
   "metadata": {},
   "outputs": [
    {
     "data": {
      "text/plain": [
       "int"
      ]
     },
     "execution_count": 16,
     "metadata": {},
     "output_type": "execute_result"
    }
   ],
   "source": [
    "type(12)"
   ]
  },
  {
   "cell_type": "code",
   "execution_count": 17,
   "id": "5be64137",
   "metadata": {},
   "outputs": [
    {
     "data": {
      "text/plain": [
       "str"
      ]
     },
     "execution_count": 17,
     "metadata": {},
     "output_type": "execute_result"
    }
   ],
   "source": [
    "type('bonjour')"
   ]
  },
  {
   "cell_type": "code",
   "execution_count": 19,
   "id": "e7fafef8",
   "metadata": {},
   "outputs": [
    {
     "data": {
      "text/plain": [
       "bool"
      ]
     },
     "execution_count": 19,
     "metadata": {},
     "output_type": "execute_result"
    }
   ],
   "source": [
    "type(True)"
   ]
  },
  {
   "cell_type": "code",
   "execution_count": 43,
   "id": "3c99bc41",
   "metadata": {},
   "outputs": [
    {
     "name": "stdout",
     "output_type": "stream",
     "text": [
      "27\n",
      "23\n"
     ]
    },
    {
     "data": {
      "text/plain": [
       "int"
      ]
     },
     "execution_count": 43,
     "metadata": {},
     "output_type": "execute_result"
    }
   ],
   "source": [
    "favourite_number = 23\n",
    "n = favourite_number + 4\n",
    "print(n)\n",
    "print(favourite_number)\n",
    "type(favourite_number)"
   ]
  },
  {
   "cell_type": "code",
   "execution_count": 33,
   "id": "11b31547",
   "metadata": {},
   "outputs": [
    {
     "name": "stdout",
     "output_type": "stream",
     "text": [
      "3\n",
      "6\n",
      "21\n"
     ]
    }
   ],
   "source": [
    "x = 3\n",
    "print(x)\n",
    "x = x + 3\n",
    "print(x)\n",
    "x = 3 + x * 3\n",
    "print(x)"
   ]
  },
  {
   "cell_type": "code",
   "execution_count": 54,
   "id": "e4d61e5d",
   "metadata": {},
   "outputs": [
    {
     "data": {
      "text/plain": [
       "False"
      ]
     },
     "execution_count": 54,
     "metadata": {},
     "output_type": "execute_result"
    }
   ],
   "source": [
    "True == True"
   ]
  },
  {
   "cell_type": "code",
   "execution_count": 47,
   "id": "f28fa271",
   "metadata": {},
   "outputs": [
    {
     "data": {
      "text/plain": [
       "False"
      ]
     },
     "execution_count": 47,
     "metadata": {},
     "output_type": "execute_result"
    }
   ],
   "source": [
    "True == False"
   ]
  },
  {
   "cell_type": "code",
   "execution_count": 48,
   "id": "8ed07d15",
   "metadata": {},
   "outputs": [
    {
     "data": {
      "text/plain": [
       "False"
      ]
     },
     "execution_count": 48,
     "metadata": {},
     "output_type": "execute_result"
    }
   ],
   "source": [
    "False == True"
   ]
  },
  {
   "cell_type": "code",
   "execution_count": 49,
   "id": "08d580fe",
   "metadata": {},
   "outputs": [
    {
     "data": {
      "text/plain": [
       "True"
      ]
     },
     "execution_count": 49,
     "metadata": {},
     "output_type": "execute_result"
    }
   ],
   "source": [
    "False == False"
   ]
  },
  {
   "cell_type": "code",
   "execution_count": 55,
   "id": "c16bdaa9",
   "metadata": {},
   "outputs": [
    {
     "data": {
      "text/plain": [
       "True"
      ]
     },
     "execution_count": 55,
     "metadata": {},
     "output_type": "execute_result"
    }
   ],
   "source": [
    "False == False == False"
   ]
  },
  {
   "cell_type": "code",
   "execution_count": 59,
   "id": "56b7c8f1",
   "metadata": {},
   "outputs": [
    {
     "data": {
      "text/plain": [
       "False"
      ]
     },
     "execution_count": 59,
     "metadata": {},
     "output_type": "execute_result"
    }
   ],
   "source": [
    "True != False\n",
    "False != True # both of these are true\n",
    "True != True # this is false\n",
    "False != False # this is false"
   ]
  },
  {
   "cell_type": "code",
   "execution_count": 72,
   "id": "5dbde37b",
   "metadata": {},
   "outputs": [
    {
     "data": {
      "text/plain": [
       "False"
      ]
     },
     "execution_count": 72,
     "metadata": {},
     "output_type": "execute_result"
    }
   ],
   "source": [
    "not False # true. 'Not' operator takes the opposite boolean value.\n",
    "not True # false\n",
    "not not True # true\n",
    "True and True # true\n",
    "True and False # false\n",
    "True and not False # true\n",
    "False and False # false \n",
    "False and not True # false\n",
    "False and not not True # false\n",
    "True and not not False # false"
   ]
  },
  {
   "cell_type": "code",
   "execution_count": 77,
   "id": "dc62b294",
   "metadata": {},
   "outputs": [
    {
     "data": {
      "text/plain": [
       "True"
      ]
     },
     "execution_count": 77,
     "metadata": {},
     "output_type": "execute_result"
    }
   ],
   "source": [
    "True or False # true\n",
    "False or not True # false\n",
    "False and True or False # false\n",
    "True and False or True # true"
   ]
  },
  {
   "cell_type": "code",
   "execution_count": 86,
   "id": "b8089808",
   "metadata": {},
   "outputs": [
    {
     "name": "stdout",
     "output_type": "stream",
     "text": [
      "True\n"
     ]
    }
   ],
   "source": [
    "is_first_of_the_month = True\n",
    "report_has_been_sent = False\n",
    "\n",
    "should_process_report = is_first_of_the_month and not report_has_been_sent\n",
    "\n",
    "print(should_process_report)\n"
   ]
  },
  {
   "cell_type": "code",
   "execution_count": 128,
   "id": "87e71761",
   "metadata": {},
   "outputs": [
    {
     "data": {
      "text/plain": [
       "'un, deux, trois'"
      ]
     },
     "execution_count": 128,
     "metadata": {},
     "output_type": "execute_result"
    }
   ],
   "source": [
    "s = '  Hello, skywindow !   ' #variable called 's' ; string called 'Hello, skywindow !'.\n",
    "s.lower() # a 'method' updates, but doesn't modify the original string's value.\n",
    "s.strip() # 'variable.strip' removes the extra space\n",
    "s.isdigit() # false\n",
    "'23'.isdigit() #true. Must have the quotes around value / string.\n",
    "s.strip().split(', ')\n",
    "', '.join(['un','deux','trois', s])\n",
    "', '.join(['un','deux','trois'])"
   ]
  },
  {
   "cell_type": "code",
   "execution_count": 19,
   "id": "ccd6863f",
   "metadata": {},
   "outputs": [
    {
     "name": "stdout",
     "output_type": "stream",
     "text": [
      "['Bonjour, fenêtre']\n",
      "['ony', 'va']\n",
      "[[1, 'deux', 3], ['quatre', 5, 6], [7, 8, 'neuf']]\n"
     ]
    }
   ],
   "source": [
    "#a list : it uses []\n",
    "fenêtre = ['Bonjour, ' 'fenêtre']\n",
    "print(fenêtre)\n",
    "\n",
    "[1,2,3]\n",
    "type([1,2,3]) # this is a list of integers\n",
    "# list with three strings\n",
    "ma_liste = ['on'  'y','va'] # the brackets contain a single list \n",
    "print(ma_liste)\n",
    "\n",
    "trois_listes = [[1, 'deux', 3], ['quatre', 5, 6], [7, 8, 'neuf']] # a list of 3 lists\n",
    "print(trois_listes)\n",
    "\n"
   ]
  },
  {
   "cell_type": "code",
   "execution_count": 11,
   "id": "8ad3fcf7",
   "metadata": {},
   "outputs": [
    {
     "data": {
      "text/plain": [
       "[0, 2, 4, 6, 8, 10, 12]"
      ]
     },
     "execution_count": 11,
     "metadata": {},
     "output_type": "execute_result"
    }
   ],
   "source": [
    "# generating lists\n",
    "[n for n in range(7)] # variable n (spaceholder) sets n for every n (spaceholder) in range 7.\n",
    "# python counting starts at zéro\n",
    "\n",
    "\n",
    "[n * 2 for n in range(7)] # multiplies each value in the range * 2."
   ]
  },
  {
   "cell_type": "code",
   "execution_count": 12,
   "id": "411b6c73",
   "metadata": {},
   "outputs": [
    {
     "data": {
      "text/plain": [
       "[0, 4, 8, 12]"
      ]
     },
     "execution_count": 12,
     "metadata": {},
     "output_type": "execute_result"
    }
   ],
   "source": [
    "[n * 2 for n in range(7) if n % 2 == 0]"
   ]
  },
  {
   "cell_type": "code",
   "execution_count": 13,
   "id": "44557a45",
   "metadata": {},
   "outputs": [
    {
     "data": {
      "text/plain": [
       "[2, 6, 10]"
      ]
     },
     "execution_count": 13,
     "metadata": {},
     "output_type": "execute_result"
    }
   ],
   "source": [
    "[n * 2 for n in range(7) if n % 2 != 0]"
   ]
  },
  {
   "cell_type": "code",
   "execution_count": 24,
   "id": "d73dd565",
   "metadata": {},
   "outputs": [
    {
     "data": {
      "text/plain": [
       "[0, 4, 8, 12]"
      ]
     },
     "execution_count": 24,
     "metadata": {},
     "output_type": "execute_result"
    }
   ],
   "source": [
    "[n * 2 for n in range(7) if n % 2 == 0]"
   ]
  },
  {
   "cell_type": "code",
   "execution_count": 6,
   "id": "fa0e2218",
   "metadata": {},
   "outputs": [
    {
     "data": {
      "text/plain": [
       "int"
      ]
     },
     "execution_count": 6,
     "metadata": {},
     "output_type": "execute_result"
    }
   ],
   "source": [
    "type(99.9) # float\n",
    "type(\"False\") # string\n",
    "type(False) # boolean\n",
    "type('0') # string\n",
    "type(0) # integer"
   ]
  },
  {
   "cell_type": "code",
   "execution_count": null,
   "id": "a4958bb5",
   "metadata": {},
   "outputs": [],
   "source": []
  },
  {
   "cell_type": "code",
   "execution_count": null,
   "id": "003fbacc",
   "metadata": {},
   "outputs": [],
   "source": []
  },
  {
   "cell_type": "code",
   "execution_count": null,
   "id": "d3aa0cd4",
   "metadata": {},
   "outputs": [],
   "source": []
  }
 ],
 "metadata": {
  "kernelspec": {
   "display_name": "Python 3 (ipykernel)",
   "language": "python",
   "name": "python3"
  },
  "language_info": {
   "codemirror_mode": {
    "name": "ipython",
    "version": 3
   },
   "file_extension": ".py",
   "mimetype": "text/x-python",
   "name": "python",
   "nbconvert_exporter": "python",
   "pygments_lexer": "ipython3",
   "version": "3.9.13"
  }
 },
 "nbformat": 4,
 "nbformat_minor": 5
}
