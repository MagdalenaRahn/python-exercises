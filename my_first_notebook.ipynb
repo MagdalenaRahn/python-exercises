{
 "cells": [
  {
   "cell_type": "code",
   "execution_count": null,
   "id": "3b53a29f",
   "metadata": {},
   "outputs": [],
   "source": [
    "# this is the first line.\n",
    "# hitting 'enter' returns to the next line.\n",
    "# esc + b enters a cell below.\n",
    "# esc + a enters a cell above.\n",
    "# esc + x deletes a cell.`"
   ]
  },
  {
   "cell_type": "code",
   "execution_count": 16,
   "id": "44d1e790",
   "metadata": {},
   "outputs": [
    {
     "data": {
      "text/plain": [
       "int"
      ]
     },
     "execution_count": 16,
     "metadata": {},
     "output_type": "execute_result"
    }
   ],
   "source": [
    "type(12)"
   ]
  },
  {
   "cell_type": "code",
   "execution_count": 17,
   "id": "5be64137",
   "metadata": {},
   "outputs": [
    {
     "data": {
      "text/plain": [
       "str"
      ]
     },
     "execution_count": 17,
     "metadata": {},
     "output_type": "execute_result"
    }
   ],
   "source": [
    "type('bonjour')"
   ]
  },
  {
   "cell_type": "code",
   "execution_count": 19,
   "id": "e7fafef8",
   "metadata": {},
   "outputs": [
    {
     "data": {
      "text/plain": [
       "bool"
      ]
     },
     "execution_count": 19,
     "metadata": {},
     "output_type": "execute_result"
    }
   ],
   "source": [
    "type(True)"
   ]
  },
  {
   "cell_type": "code",
   "execution_count": 43,
   "id": "3c99bc41",
   "metadata": {},
   "outputs": [
    {
     "name": "stdout",
     "output_type": "stream",
     "text": [
      "27\n",
      "23\n"
     ]
    },
    {
     "data": {
      "text/plain": [
       "int"
      ]
     },
     "execution_count": 43,
     "metadata": {},
     "output_type": "execute_result"
    }
   ],
   "source": [
    "favourite_number = 23\n",
    "n = favourite_number + 4\n",
    "print(n)\n",
    "print(favourite_number)\n",
    "type(favourite_number)"
   ]
  },
  {
   "cell_type": "code",
   "execution_count": 33,
   "id": "11b31547",
   "metadata": {},
   "outputs": [
    {
     "name": "stdout",
     "output_type": "stream",
     "text": [
      "3\n",
      "6\n",
      "21\n"
     ]
    }
   ],
   "source": [
    "x = 3\n",
    "print(x)\n",
    "x = x + 3\n",
    "print(x)\n",
    "x = 3 + x * 3\n",
    "print(x)"
   ]
  },
  {
   "cell_type": "code",
   "execution_count": 54,
   "id": "e4d61e5d",
   "metadata": {},
   "outputs": [
    {
     "data": {
      "text/plain": [
       "False"
      ]
     },
     "execution_count": 54,
     "metadata": {},
     "output_type": "execute_result"
    }
   ],
   "source": [
    "True == True"
   ]
  },
  {
   "cell_type": "code",
   "execution_count": 47,
   "id": "f28fa271",
   "metadata": {},
   "outputs": [
    {
     "data": {
      "text/plain": [
       "False"
      ]
     },
     "execution_count": 47,
     "metadata": {},
     "output_type": "execute_result"
    }
   ],
   "source": [
    "True == False"
   ]
  },
  {
   "cell_type": "code",
   "execution_count": 48,
   "id": "8ed07d15",
   "metadata": {},
   "outputs": [
    {
     "data": {
      "text/plain": [
       "False"
      ]
     },
     "execution_count": 48,
     "metadata": {},
     "output_type": "execute_result"
    }
   ],
   "source": [
    "False == True"
   ]
  },
  {
   "cell_type": "code",
   "execution_count": 49,
   "id": "08d580fe",
   "metadata": {},
   "outputs": [
    {
     "data": {
      "text/plain": [
       "True"
      ]
     },
     "execution_count": 49,
     "metadata": {},
     "output_type": "execute_result"
    }
   ],
   "source": [
    "False == False"
   ]
  },
  {
   "cell_type": "code",
   "execution_count": 55,
   "id": "c16bdaa9",
   "metadata": {},
   "outputs": [
    {
     "data": {
      "text/plain": [
       "True"
      ]
     },
     "execution_count": 55,
     "metadata": {},
     "output_type": "execute_result"
    }
   ],
   "source": [
    "False == False == False"
   ]
  },
  {
   "cell_type": "code",
   "execution_count": 59,
   "id": "56b7c8f1",
   "metadata": {},
   "outputs": [
    {
     "data": {
      "text/plain": [
       "False"
      ]
     },
     "execution_count": 59,
     "metadata": {},
     "output_type": "execute_result"
    }
   ],
   "source": [
    "True != False\n",
    "False != True # both of these are true\n",
    "True != True # this is false\n",
    "False != False # this is false"
   ]
  },
  {
   "cell_type": "code",
   "execution_count": 72,
   "id": "5dbde37b",
   "metadata": {},
   "outputs": [
    {
     "data": {
      "text/plain": [
       "False"
      ]
     },
     "execution_count": 72,
     "metadata": {},
     "output_type": "execute_result"
    }
   ],
   "source": [
    "not False # true. 'Not' operator takes the opposite boolean value.\n",
    "not True # false\n",
    "not not True # true\n",
    "True and True # true\n",
    "True and False # false\n",
    "True and not False # true\n",
    "False and False # false \n",
    "False and not True # false\n",
    "False and not not True # false\n",
    "True and not not False # false"
   ]
  },
  {
   "cell_type": "code",
   "execution_count": 77,
   "id": "dc62b294",
   "metadata": {},
   "outputs": [
    {
     "data": {
      "text/plain": [
       "True"
      ]
     },
     "execution_count": 77,
     "metadata": {},
     "output_type": "execute_result"
    }
   ],
   "source": [
    "True or False # true\n",
    "False or not True # false\n",
    "False and True or False # false\n",
    "True and False or True # true"
   ]
  },
  {
   "cell_type": "code",
   "execution_count": 86,
   "id": "b8089808",
   "metadata": {},
   "outputs": [
    {
     "name": "stdout",
     "output_type": "stream",
     "text": [
      "True\n"
     ]
    }
   ],
   "source": [
    "is_first_of_the_month = True\n",
    "report_has_been_sent = False\n",
    "\n",
    "should_process_report = is_first_of_the_month and not report_has_been_sent\n",
    "\n",
    "print(should_process_report)\n"
   ]
  },
  {
   "cell_type": "code",
   "execution_count": 128,
   "id": "87e71761",
   "metadata": {},
   "outputs": [
    {
     "data": {
      "text/plain": [
       "'un, deux, trois'"
      ]
     },
     "execution_count": 128,
     "metadata": {},
     "output_type": "execute_result"
    }
   ],
   "source": [
    "s = '  Hello, skywindow !   ' #variable called 's' ; string called 'Hello, skywindow !'.\n",
    "s.lower() # a 'method' updates, but doesn't modify the original string's value.\n",
    "s.strip() # 'variable.strip' removes the extra space\n",
    "s.isdigit() # false\n",
    "'23'.isdigit() #true. Must have the quotes around value / string.\n",
    "s.strip().split(', ')\n",
    "', '.join(['un','deux','trois', s])\n",
    "', '.join(['un','deux','trois'])"
   ]
  },
  {
   "cell_type": "code",
   "execution_count": 19,
   "id": "ccd6863f",
   "metadata": {},
   "outputs": [
    {
     "name": "stdout",
     "output_type": "stream",
     "text": [
      "['Bonjour, fenêtre']\n",
      "['ony', 'va']\n",
      "[[1, 'deux', 3], ['quatre', 5, 6], [7, 8, 'neuf']]\n"
     ]
    }
   ],
   "source": [
    "#a list : it uses []\n",
    "fenêtre = ['Bonjour, ' 'fenêtre']\n",
    "print(fenêtre)\n",
    "\n",
    "[1,2,3]\n",
    "type([1,2,3]) # this is a list of integers\n",
    "# list with three strings\n",
    "ma_liste = ['on'  'y','va'] # the brackets contain a single list \n",
    "print(ma_liste)\n",
    "\n",
    "trois_listes = [[1, 'deux', 3], ['quatre', 5, 6], [7, 8, 'neuf']] # a list of 3 lists\n",
    "print(trois_listes)\n",
    "\n"
   ]
  },
  {
   "cell_type": "code",
   "execution_count": 26,
   "id": "8ad3fcf7",
   "metadata": {},
   "outputs": [
    {
     "data": {
      "text/plain": [
       "[0, 1, 2, 3, 4, 5, 6]"
      ]
     },
     "execution_count": 26,
     "metadata": {},
     "output_type": "execute_result"
    }
   ],
   "source": [
    "# generating lists\n",
    "[n for n in range(7)] # variable n (spaceholder) sets n for every n (spaceholder) in range 7.\n",
    "# python counting starts at zéro\n"
   ]
  },
  {
   "cell_type": "code",
   "execution_count": 25,
   "id": "7a51b927",
   "metadata": {},
   "outputs": [
    {
     "data": {
      "text/plain": [
       "[0, 2, 4, 6, 8, 10, 12]"
      ]
     },
     "execution_count": 25,
     "metadata": {},
     "output_type": "execute_result"
    }
   ],
   "source": [
    "[n * 2 for n in range(7)] # multiplies each value in the range * 2."
   ]
  },
  {
   "cell_type": "code",
   "execution_count": 12,
   "id": "411b6c73",
   "metadata": {},
   "outputs": [
    {
     "data": {
      "text/plain": [
       "[0, 4, 8, 12]"
      ]
     },
     "execution_count": 12,
     "metadata": {},
     "output_type": "execute_result"
    }
   ],
   "source": [
    "[n * 2 for n in range(7) if n % 2 == 0]"
   ]
  },
  {
   "cell_type": "code",
   "execution_count": 13,
   "id": "44557a45",
   "metadata": {},
   "outputs": [
    {
     "data": {
      "text/plain": [
       "[2, 6, 10]"
      ]
     },
     "execution_count": 13,
     "metadata": {},
     "output_type": "execute_result"
    }
   ],
   "source": [
    "[n * 2 for n in range(7) if n % 2 != 0]"
   ]
  },
  {
   "cell_type": "code",
   "execution_count": 30,
   "id": "d73dd565",
   "metadata": {},
   "outputs": [
    {
     "data": {
      "text/plain": [
       "[0, 4, 8, 12]"
      ]
     },
     "execution_count": 30,
     "metadata": {},
     "output_type": "execute_result"
    }
   ],
   "source": [
    "[n * 2 for n in range(7) if n % 2 == 0]"
   ]
  },
  {
   "cell_type": "code",
   "execution_count": null,
   "id": "a4958bb5",
   "metadata": {},
   "outputs": [],
   "source": [
    "# strings\n",
    "# https://ds.codeup.com/python/data-types-and-variables/#string-formatting"
   ]
  },
  {
   "cell_type": "code",
   "execution_count": 2,
   "id": "003fbacc",
   "metadata": {},
   "outputs": [
    {
     "name": "stdout",
     "output_type": "stream",
     "text": [
      "Here is a single quote --> ' <-- \n",
      "Here is a single quote --> ' <-- \n",
      "\n",
      "Here is a double quote --> \" <--\n",
      "Here is a double quote --> \" <--\n",
      "\n",
      "Newlines are indicated by the character \"n\" preceded by a backslash, like so :\n",
      "\n",
      "This string\n",
      "contains a newline\n"
     ]
    }
   ],
   "source": [
    "# string operations\n",
    "# must specify how strings are to appear visually : How do we want them to look ?\n",
    "\n",
    "print('Here is a single quote --> \\' <-- ') \n",
    "# this makes the ' a distinct character, not something that wraps a string.'\n",
    "print(\"Here is a single quote --> ' <-- \")\n",
    "# this has double quotes, so the computer is not confused about the single quote.\n",
    "\n",
    "print()\n",
    "print(\"Here is a double quote --> \\\" <--\")\n",
    "print('Here is a double quote --> \" <--')\n",
    "print()\n",
    "print('Newlines are indicated by the character \"n\" preceded by a backslash, like so :')\n",
    "print()\n",
    "print('This string\\ncontains a newline')\n"
   ]
  },
  {
   "cell_type": "code",
   "execution_count": 3,
   "id": "d3aa0cd4",
   "metadata": {},
   "outputs": [
    {
     "data": {
      "text/plain": [
       "'\\nThis string\\ncan contain\\na lot of\\ntext!\\n'"
      ]
     },
     "execution_count": 3,
     "metadata": {},
     "output_type": "execute_result"
    }
   ],
   "source": [
    "'''\n",
    "This string\n",
    "can contain\n",
    "a lot of\n",
    "text!\n",
    "'''\n",
    "# ''' ''' allows to keep entered formatting."
   ]
  },
  {
   "cell_type": "code",
   "execution_count": 8,
   "id": "dec2bbe3",
   "metadata": {},
   "outputs": [
    {
     "name": "stdout",
     "output_type": "stream",
     "text": [
      "This string\n",
      "can contain\n",
      "a lot of\n",
      "text!\n",
      "\n"
     ]
    }
   ],
   "source": [
    "print(\"This string\\ncan contain\\na lot of\\ntext!\\n\")"
   ]
  },
  {
   "cell_type": "code",
   "execution_count": 16,
   "id": "0327f809",
   "metadata": {},
   "outputs": [
    {
     "data": {
      "text/plain": [
       "'green green green '"
      ]
     },
     "execution_count": 16,
     "metadata": {},
     "output_type": "execute_result"
    }
   ],
   "source": [
    "# string operations \n",
    "# adding strings is concatenation\n",
    "\n",
    "'hello' == 'hello' # True\n",
    "'abc' != 'qwe' # True\n",
    "'green' + 'cup' # greencup\n",
    "'green ' + '1' # green 1\n",
    "'green ' * 3 # 'green green green '"
   ]
  },
  {
   "cell_type": "code",
   "execution_count": 18,
   "id": "ec457fc4",
   "metadata": {},
   "outputs": [
    {
     "data": {
      "text/plain": [
       "'Bonjour, le monde !'"
      ]
     },
     "execution_count": 18,
     "metadata": {},
     "output_type": "execute_result"
    }
   ],
   "source": [
    "# STRONG FORMATTING, or, HOW TO ADD VARIABLES INTO A STRING.\n",
    "\n",
    "name = \"le monde\"\n",
    "# variable named 'name'. Stores string to the variable name\n",
    "\n",
    "# use this variable in another string\n",
    "'Bonjour, %s !' % name\n",
    "# the '%s' is a spaceholder for the variable's content. Find-and-replace."
   ]
  },
  {
   "cell_type": "code",
   "execution_count": 19,
   "id": "9e04e25d",
   "metadata": {},
   "outputs": [
    {
     "data": {
      "text/plain": [
       "'Hello, le monde !'"
      ]
     },
     "execution_count": 19,
     "metadata": {},
     "output_type": "execute_result"
    }
   ],
   "source": [
    "'Hello, {} !'.format(name)\n",
    "# the {} represents the variable name. A different way to placehold."
   ]
  },
  {
   "cell_type": "code",
   "execution_count": 21,
   "id": "b75336c7",
   "metadata": {},
   "outputs": [
    {
     "data": {
      "text/plain": [
       "'Bonjour, le monde.'"
      ]
     },
     "execution_count": 21,
     "metadata": {},
     "output_type": "execute_result"
    }
   ],
   "source": [
    "f'Bonjour, {name}.'\n",
    "# 'f' = 'formatting'\n",
    "# { } contains the variable name"
   ]
  },
  {
   "cell_type": "code",
   "execution_count": 24,
   "id": "f386d007",
   "metadata": {},
   "outputs": [
    {
     "ename": "NameError",
     "evalue": "name 's' is not defined",
     "output_type": "error",
     "traceback": [
      "\u001b[0;31m---------------------------------------------------------------------------\u001b[0m",
      "\u001b[0;31mNameError\u001b[0m                                 Traceback (most recent call last)",
      "Input \u001b[0;32mIn [24]\u001b[0m, in \u001b[0;36m<cell line: 2>\u001b[0;34m()\u001b[0m\n\u001b[1;32m      1\u001b[0m \u001b[38;5;124m'\u001b[39m\u001b[38;5;124m123\u001b[39m\u001b[38;5;124m'\u001b[39m\u001b[38;5;241m.\u001b[39misdigit() \u001b[38;5;66;03m# true\u001b[39;00m\n\u001b[0;32m----> 2\u001b[0m \u001b[43ms\u001b[49m\u001b[38;5;241m.\u001b[39mstrip()\u001b[38;5;241m.\u001b[39msplit(\u001b[38;5;124m'\u001b[39m\u001b[38;5;124m, \u001b[39m\u001b[38;5;124m'\u001b[39m)\n",
      "\u001b[0;31mNameError\u001b[0m: name 's' is not defined"
     ]
    }
   ],
   "source": [
    "'123'.isdigit() # true\n",
    "s.strip().split(', ')"
   ]
  },
  {
   "cell_type": "code",
   "execution_count": 76,
   "id": "e45dec6a",
   "metadata": {},
   "outputs": [
    {
     "data": {
      "text/plain": [
       "[1, 2, 3]"
      ]
     },
     "execution_count": 76,
     "metadata": {},
     "output_type": "execute_result"
    }
   ],
   "source": [
    "numbers = [1,2,3] # assigning values to a list\n",
    "numbers"
   ]
  },
  {
   "cell_type": "code",
   "execution_count": 77,
   "id": "5d1a4b4b",
   "metadata": {},
   "outputs": [
    {
     "data": {
      "text/plain": [
       "[1, 2, 3, 37]"
      ]
     },
     "execution_count": 77,
     "metadata": {},
     "output_type": "execute_result"
    }
   ],
   "source": [
    "numbers.append(37) # adds the integers in () to the original list\n",
    "numbers"
   ]
  },
  {
   "cell_type": "code",
   "execution_count": 78,
   "id": "31789bd4",
   "metadata": {},
   "outputs": [
    {
     "data": {
      "text/plain": [
       "[1, 2, 3]"
      ]
     },
     "execution_count": 78,
     "metadata": {},
     "output_type": "execute_result"
    }
   ],
   "source": [
    "numbers.pop()\n",
    "numbers"
   ]
  },
  {
   "cell_type": "code",
   "execution_count": 79,
   "id": "61e13ab0",
   "metadata": {},
   "outputs": [
    {
     "data": {
      "text/plain": [
       "3"
      ]
     },
     "execution_count": 79,
     "metadata": {},
     "output_type": "execute_result"
    }
   ],
   "source": [
    "len(numbers)"
   ]
  },
  {
   "cell_type": "code",
   "execution_count": 80,
   "id": "802029d9",
   "metadata": {},
   "outputs": [
    {
     "data": {
      "text/plain": [
       "1"
      ]
     },
     "execution_count": 80,
     "metadata": {},
     "output_type": "execute_result"
    }
   ],
   "source": [
    "numbers[0] # gives the first numbers in the list. List has index of 0 (starts with 0)."
   ]
  },
  {
   "cell_type": "code",
   "execution_count": 85,
   "id": "0ee7228c",
   "metadata": {},
   "outputs": [
    {
     "data": {
      "text/plain": [
       "[1, 2, 3]"
      ]
     },
     "execution_count": 85,
     "metadata": {},
     "output_type": "execute_result"
    }
   ],
   "source": [
    "numbers[-1] # gives full list\n",
    "numbers[:] # gives full list"
   ]
  },
  {
   "cell_type": "code",
   "execution_count": 86,
   "id": "43b5eec7",
   "metadata": {},
   "outputs": [
    {
     "data": {
      "text/plain": [
       "[1, 2]"
      ]
     },
     "execution_count": 86,
     "metadata": {},
     "output_type": "execute_result"
    }
   ],
   "source": [
    "numbers[:2] # gives up to, but not including, the index number (ie, up to, but not including, \n",
    "# what is in the position of '2')."
   ]
  },
  {
   "cell_type": "code",
   "execution_count": 87,
   "id": "760a7d33",
   "metadata": {},
   "outputs": [
    {
     "data": {
      "text/plain": [
       "[2]"
      ]
     },
     "execution_count": 87,
     "metadata": {},
     "output_type": "execute_result"
    }
   ],
   "source": [
    "numbers[1:2] # starts at the first index and stops at the penultimate to the final index."
   ]
  },
  {
   "cell_type": "code",
   "execution_count": 88,
   "id": "8cced1fc",
   "metadata": {},
   "outputs": [
    {
     "data": {
      "text/plain": [
       "[2, 3]"
      ]
     },
     "execution_count": 88,
     "metadata": {},
     "output_type": "execute_result"
    }
   ],
   "source": [
    "numbers[1:] # starts at the index of 1"
   ]
  },
  {
   "cell_type": "code",
   "execution_count": 90,
   "id": "c86e1d96",
   "metadata": {},
   "outputs": [
    {
     "data": {
      "text/plain": [
       "[0, 1, 2, 3, 4, 5, 6, 7, 8, 9, 10, 11, 12, 13]"
      ]
     },
     "execution_count": 90,
     "metadata": {},
     "output_type": "execute_result"
    }
   ],
   "source": [
    "list(range(14))\n",
    "# create a zéro-indexed list"
   ]
  },
  {
   "cell_type": "code",
   "execution_count": 98,
   "id": "a8a9da83",
   "metadata": {},
   "outputs": [
    {
     "data": {
      "text/plain": [
       "[0, 1, 2, 3, 4, 5, 6, 7, 8, 9, 10, 11, 12, 13]"
      ]
     },
     "execution_count": 98,
     "metadata": {},
     "output_type": "execute_result"
    }
   ],
   "source": [
    "my_no_list = list(range(14))\n",
    "my_no_list # variable stores the list for future use."
   ]
  },
  {
   "cell_type": "code",
   "execution_count": 92,
   "id": "8b5a6d48",
   "metadata": {},
   "outputs": [
    {
     "data": {
      "text/plain": [
       "['a', 's', 'b', ' ', 'd', 'f']"
      ]
     },
     "execution_count": 92,
     "metadata": {},
     "output_type": "execute_result"
    }
   ],
   "source": [
    "list('asb df') \n",
    "# separates each character into its own entity"
   ]
  },
  {
   "cell_type": "code",
   "execution_count": 96,
   "id": "7cf59735",
   "metadata": {},
   "outputs": [
    {
     "data": {
      "text/plain": [
       "['1', '2', '3', '4', '45']"
      ]
     },
     "execution_count": 96,
     "metadata": {},
     "output_type": "execute_result"
    }
   ],
   "source": [
    "list(map(str, [1,2,3,4,45]))\n",
    "# this takes each integer and makes it a string \n",
    "# (what the map function does : applies opperation of string to all the integers)"
   ]
  },
  {
   "cell_type": "code",
   "execution_count": 101,
   "id": "06038cc5",
   "metadata": {},
   "outputs": [
    {
     "data": {
      "text/plain": [
       "(2, 'trois', ['t', 'we', 'ef'])"
      ]
     },
     "execution_count": 101,
     "metadata": {},
     "output_type": "execute_result"
    }
   ],
   "source": [
    "# LIST syntax : []\n",
    "    # lists for elements of same type\n",
    "    \n",
    "# TUPLES are : \n",
    "    # immutable (unlike lists, which are mutable), use ('tuple') instead of ['list']\n",
    "    # elements of different types\n",
    "(2, 'trois', ['t','we','ef'])"
   ]
  },
  {
   "cell_type": "code",
   "execution_count": 103,
   "id": "4ef9fd4e",
   "metadata": {},
   "outputs": [
    {
     "data": {
      "text/plain": [
       "3"
      ]
     },
     "execution_count": 103,
     "metadata": {},
     "output_type": "execute_result"
    }
   ],
   "source": [
    "my_tuple = (12,3)\n",
    "my_tuple[1]"
   ]
  },
  {
   "cell_type": "code",
   "execution_count": 118,
   "id": "60cb2f41",
   "metadata": {},
   "outputs": [
    {
     "data": {
      "text/plain": [
       "{'name': 'Codeup', 'age': 4}"
      ]
     },
     "execution_count": 118,
     "metadata": {},
     "output_type": "execute_result"
    }
   ],
   "source": [
    "# DICTIONAIRES\n",
    "    # where to 'look up' something, or retrieve a piece of info.\n",
    "    # paired entries : value (key-value pair)\n",
    "    # enclosed by {}\n",
    "{'name' : 'Codeup', 'age' : 4} # name is key, Codeup is value"
   ]
  },
  {
   "cell_type": "code",
   "execution_count": 114,
   "id": "3200a76c",
   "metadata": {},
   "outputs": [
    {
     "data": {
      "text/plain": [
       "{'name': 'Codeup', 'age': 4}"
      ]
     },
     "execution_count": 114,
     "metadata": {},
     "output_type": "execute_result"
    }
   ],
   "source": [
    "# DICTIONAIRES\n",
    "    # another dict function creation : \n",
    "dict (name = 'Codeup', age = 4)\n",
    "# this does not work : dict {name = 'Codeup', age = 4}\n",
    "# value can be accessed in a dictionary with the name (key) associated with it."
   ]
  },
  {
   "cell_type": "code",
   "execution_count": 126,
   "id": "4cdae217",
   "metadata": {},
   "outputs": [
    {
     "data": {
      "text/plain": [
       "{'name': 'Codeup', 'age': 4}"
      ]
     },
     "execution_count": 126,
     "metadata": {},
     "output_type": "execute_result"
    }
   ],
   "source": [
    "school = dict(name = 'Codeup', age = 4) #assigning a variable to the dictionary\n",
    "school"
   ]
  },
  {
   "cell_type": "code",
   "execution_count": 127,
   "id": "66aa8885",
   "metadata": {},
   "outputs": [
    {
     "data": {
      "text/plain": [
       "'Codeup'"
      ]
     },
     "execution_count": 127,
     "metadata": {},
     "output_type": "execute_result"
    }
   ],
   "source": [
    "school['name'] # pulls out value of the key. [] tells value to which access is wanted"
   ]
  },
  {
   "cell_type": "code",
   "execution_count": 138,
   "id": "1f51ad50",
   "metadata": {},
   "outputs": [
    {
     "data": {
      "text/plain": [
       "{'name': 'Codeup', 'age': 13}"
      ]
     },
     "execution_count": 138,
     "metadata": {},
     "output_type": "execute_result"
    }
   ],
   "source": [
    "school['age'] += 1\n",
    "# variable 'school' with pull for string 'age' value ; adds 1 to string 'age'\n",
    "school"
   ]
  },
  {
   "cell_type": "markdown",
   "id": "acd00bf3",
   "metadata": {},
   "source": [
    "# headings\n",
    "**bold** ('**word**')\n",
    "# '#' makes heading\n",
    "## '##' makes smaller heading\n",
    "### '###' makes even smaller heaing\n",
    " "
   ]
  },
  {
   "cell_type": "code",
   "execution_count": 149,
   "id": "f66cdc5c",
   "metadata": {},
   "outputs": [
    {
     "data": {
      "text/plain": [
       "{'a': []}"
      ]
     },
     "execution_count": 149,
     "metadata": {},
     "output_type": "execute_result"
    }
   ],
   "source": [
    "# EXERCISES\n",
    "\n",
    "# https://ds.codeup.com/python/data-types-and-variables/#exercises\n",
    "\n",
    "type(99.9) # float\n",
    "type(\"False\") # string\n",
    "type(False) # boolean\n",
    "type('0') # string\n",
    "type(0) # integer\n",
    "type(True) #boolean\n",
    "type('True') # string\n",
    "type([{}]) # list\n",
    "{'a': []} # {'a': []} is this a dictionary ? or a ty\n"
   ]
  },
  {
   "cell_type": "markdown",
   "id": "f9125e61",
   "metadata": {},
   "source": [
    "**What data type would best represent:**\n",
    "\n",
    "\n",
    "    A term or phrase typed into a search box? -- string\n",
    "    \n",
    "    If a user is logged in? -- boolean\n",
    "    \n",
    "    A discount amount to apply to a user's shopping cart? -- integer\n",
    "    \n",
    "    Whether or not a coupon code is valid? -- boolean\n",
    "    \n",
    "    An email address typed into a registration form? -- string\n",
    "    \n",
    "    The price of a product? -- float\n",
    "    \n",
    "    A Matrix? -- integers and floats ??? a list ???\n",
    "    \n",
    "    The email addresses collected from a registration form? -- string\n",
    "    \n",
    "    Information about applicants to Codeup's data science program? -- string\n",
    "\n"
   ]
  },
  {
   "cell_type": "code",
   "execution_count": 150,
   "id": "57c99f05",
   "metadata": {},
   "outputs": [
    {
     "ename": "TypeError",
     "evalue": "can only concatenate str (not \"int\") to str",
     "output_type": "error",
     "traceback": [
      "\u001b[0;31m---------------------------------------------------------------------------\u001b[0m",
      "\u001b[0;31mTypeError\u001b[0m                                 Traceback (most recent call last)",
      "Input \u001b[0;32mIn [150]\u001b[0m, in \u001b[0;36m<cell line: 5>\u001b[0;34m()\u001b[0m\n\u001b[1;32m      1\u001b[0m \u001b[38;5;66;03m# For each of the following code blocks, read the expression and predict what the result of evaluating it \u001b[39;00m\n\u001b[1;32m      2\u001b[0m \u001b[38;5;66;03m#  would be, then execute the expression in your Python REPL.\u001b[39;00m\n\u001b[1;32m      3\u001b[0m \n\u001b[1;32m      4\u001b[0m \u001b[38;5;66;03m# this will not work\u001b[39;00m\n\u001b[0;32m----> 5\u001b[0m \u001b[38;5;124;43m'\u001b[39;49m\u001b[38;5;124;43m1\u001b[39;49m\u001b[38;5;124;43m'\u001b[39;49m\u001b[43m \u001b[49m\u001b[38;5;241;43m+\u001b[39;49m\u001b[43m \u001b[49m\u001b[38;5;241;43m2\u001b[39;49m\n",
      "\u001b[0;31mTypeError\u001b[0m: can only concatenate str (not \"int\") to str"
     ]
    }
   ],
   "source": [
    "# For each of the following code blocks, read the expression and predict what the result of evaluating it \n",
    "#  would be, then execute the expression in your Python REPL.\n",
    "\n",
    "# this will not work\n",
    "'1' + 2\n",
    "# this did not work"
   ]
  },
  {
   "cell_type": "code",
   "execution_count": 151,
   "id": "a911a906",
   "metadata": {},
   "outputs": [
    {
     "data": {
      "text/plain": [
       "2"
      ]
     },
     "execution_count": 151,
     "metadata": {},
     "output_type": "execute_result"
    }
   ],
   "source": [
    "# this will give the remainer of 6 divided by 4\n",
    "6 % 4\n",
    "# this gave the remaineder of 6 divided by 4, which was 2."
   ]
  },
  {
   "cell_type": "code",
   "execution_count": 152,
   "id": "e3b8c2c8",
   "metadata": {},
   "outputs": [
    {
     "data": {
      "text/plain": [
       "int"
      ]
     },
     "execution_count": 152,
     "metadata": {},
     "output_type": "execute_result"
    }
   ],
   "source": [
    "# this will tell what type the function is (6 % 4)\n",
    "type(6 % 4)\n",
    "# this told what type the function was : integer\n",
    "\n"
   ]
  },
  {
   "cell_type": "code",
   "execution_count": null,
   "id": "b722d4ab",
   "metadata": {},
   "outputs": [],
   "source": [
    "# adding a list\n",
    "'3 + 4 is ' + 3 + 4"
   ]
  },
  {
   "cell_type": "code",
   "execution_count": null,
   "id": "31a7efb4",
   "metadata": {},
   "outputs": [],
   "source": [
    "# adding a string and integers does not work\n",
    "'3 + 4 is ' + 3 + 4\n",
    "# adding a string and integers does not work\n"
   ]
  },
  {
   "cell_type": "code",
   "execution_count": 155,
   "id": "8d6367a9",
   "metadata": {},
   "outputs": [
    {
     "data": {
      "text/plain": [
       "False"
      ]
     },
     "execution_count": 155,
     "metadata": {},
     "output_type": "execute_result"
    }
   ],
   "source": [
    "# boolean will say 'false'\n",
    "0 < 0\n",
    "# boolean said 'false'"
   ]
  },
  {
   "cell_type": "code",
   "execution_count": 156,
   "id": "bd540579",
   "metadata": {},
   "outputs": [
    {
     "data": {
      "text/plain": [
       "False"
      ]
     },
     "execution_count": 156,
     "metadata": {},
     "output_type": "execute_result"
    }
   ],
   "source": [
    "# boolean will say 'false' (string vs boolean operator)\n",
    "'False' == False\n",
    "# boolean said 'false'"
   ]
  },
  {
   "cell_type": "code",
   "execution_count": 157,
   "id": "864ba039",
   "metadata": {},
   "outputs": [
    {
     "data": {
      "text/plain": [
       "False"
      ]
     },
     "execution_count": 157,
     "metadata": {},
     "output_type": "execute_result"
    }
   ],
   "source": [
    "# boolean will say 'false' (string vs boolean operator)rue == 'True'\n",
    "True == 'True'\n",
    "# boolean will say 'false' (string vs boolean operator)rue == 'True'"
   ]
  },
  {
   "cell_type": "code",
   "execution_count": 158,
   "id": "a4e914bc",
   "metadata": {},
   "outputs": [
    {
     "data": {
      "text/plain": [
       "True"
      ]
     },
     "execution_count": 158,
     "metadata": {},
     "output_type": "execute_result"
    }
   ],
   "source": [
    "# comparing two integers : True\n",
    "5 >= -5\n",
    "# compared two integers : True"
   ]
  },
  {
   "cell_type": "code",
   "execution_count": 159,
   "id": "8a173366",
   "metadata": {},
   "outputs": [
    {
     "data": {
      "text/plain": [
       "True"
      ]
     },
     "execution_count": 159,
     "metadata": {},
     "output_type": "execute_result"
    }
   ],
   "source": [
    "# boolean is not a string\n",
    "True or \"42\"\n",
    "# boolean has a 'true' because of the 'or'"
   ]
  },
  {
   "cell_type": "code",
   "execution_count": 160,
   "id": "b8e9cd02",
   "metadata": {},
   "outputs": [
    {
     "data": {
      "text/plain": [
       "1"
      ]
     },
     "execution_count": 160,
     "metadata": {},
     "output_type": "execute_result"
    }
   ],
   "source": [
    "# will give remaineder of 6 divided by 5\n",
    "6 % 5\n",
    "# gave remaineder of 6 divided by 5"
   ]
  },
  {
   "cell_type": "code",
   "execution_count": 161,
   "id": "d8a55a0c",
   "metadata": {},
   "outputs": [
    {
     "data": {
      "text/plain": [
       "False"
      ]
     },
     "execution_count": 161,
     "metadata": {},
     "output_type": "execute_result"
    }
   ],
   "source": [
    "# comparing two sides : True\n",
    "5 < 4 and 1 == 1\n",
    "# Ugh, my misreading of < : False"
   ]
  },
  {
   "cell_type": "code",
   "execution_count": 162,
   "id": "be8af871",
   "metadata": {},
   "outputs": [
    {
     "data": {
      "text/plain": [
       "False"
      ]
     },
     "execution_count": 162,
     "metadata": {},
     "output_type": "execute_result"
    }
   ],
   "source": [
    "# will comparare the sides of 'and' : False\n",
    "'codeup' == 'codeup' and 'codeup' == 'Codeup'\n",
    "# compared the sides of 'and' : False"
   ]
  },
  {
   "cell_type": "code",
   "execution_count": 164,
   "id": "0bf0ed0e",
   "metadata": {},
   "outputs": [
    {
     "data": {
      "text/plain": [
       "True"
      ]
     },
     "execution_count": 164,
     "metadata": {},
     "output_type": "execute_result"
    }
   ],
   "source": [
    "# boolean comparing the two sides : True\n",
    "4 >= 0 and 1 !== '1'\n",
    "# True... if the extra = had not been there"
   ]
  },
  {
   "cell_type": "code",
   "execution_count": 165,
   "id": "fbefa7fb",
   "metadata": {},
   "outputs": [
    {
     "data": {
      "text/plain": [
       "True"
      ]
     },
     "execution_count": 165,
     "metadata": {},
     "output_type": "execute_result"
    }
   ],
   "source": [
    "# boolean of the remainder of 6 divided by 3 being 0 : True\n",
    "6 % 3 == 0\n",
    "# boolean of the remainder of 6 divided by 3 being 0 : True"
   ]
  },
  {
   "cell_type": "code",
   "execution_count": 166,
   "id": "4f5a64fa",
   "metadata": {},
   "outputs": [
    {
     "data": {
      "text/plain": [
       "True"
      ]
     },
     "execution_count": 166,
     "metadata": {},
     "output_type": "execute_result"
    }
   ],
   "source": [
    "# boolean of the remainder of 5 divided by 2 NOT being 0 : True\n",
    "5 % 2 != 0\n",
    "# boolean of the remainder of 5 divided by 2 NOT being 0 : True"
   ]
  },
  {
   "cell_type": "code",
   "execution_count": 168,
   "id": "28ca4a0d",
   "metadata": {},
   "outputs": [
    {
     "data": {
      "text/plain": [
       "[1, 2]"
      ]
     },
     "execution_count": 168,
     "metadata": {},
     "output_type": "execute_result"
    }
   ],
   "source": [
    "# list of [1] being added to integer 2. Not sure\n",
    "[1] + 2\n",
    "# TypeError: can only concatenate list (not \"int\") to list"
   ]
  },
  {
   "cell_type": "code",
   "execution_count": 169,
   "id": "01c61eb7",
   "metadata": {},
   "outputs": [
    {
     "data": {
      "text/plain": [
       "[1, 2]"
      ]
     },
     "execution_count": 169,
     "metadata": {},
     "output_type": "execute_result"
    }
   ],
   "source": [
    "# this will give a list of [1, 2]\n",
    "[1] + [2]\n",
    "# this gave a list of [1, 2]"
   ]
  },
  {
   "cell_type": "code",
   "execution_count": 170,
   "id": "6328f722",
   "metadata": {},
   "outputs": [
    {
     "data": {
      "text/plain": [
       "[1, 1]"
      ]
     },
     "execution_count": 170,
     "metadata": {},
     "output_type": "execute_result"
    }
   ],
   "source": [
    "# this will list [1] twice\n",
    "[1] * 2\n",
    "# this listed [1] twice : [1, 1]"
   ]
  },
  {
   "cell_type": "code",
   "execution_count": 171,
   "id": "95da2549",
   "metadata": {},
   "outputs": [
    {
     "ename": "TypeError",
     "evalue": "can't multiply sequence by non-int of type 'list'",
     "output_type": "error",
     "traceback": [
      "\u001b[0;31m---------------------------------------------------------------------------\u001b[0m",
      "\u001b[0;31mTypeError\u001b[0m                                 Traceback (most recent call last)",
      "Input \u001b[0;32mIn [171]\u001b[0m, in \u001b[0;36m<cell line: 2>\u001b[0;34m()\u001b[0m\n\u001b[1;32m      1\u001b[0m \u001b[38;5;66;03m# this will muptiply 1 * 2\u001b[39;00m\n\u001b[0;32m----> 2\u001b[0m \u001b[43m[\u001b[49m\u001b[38;5;241;43m1\u001b[39;49m\u001b[43m]\u001b[49m\u001b[43m \u001b[49m\u001b[38;5;241;43m*\u001b[39;49m\u001b[43m \u001b[49m\u001b[43m[\u001b[49m\u001b[38;5;241;43m2\u001b[39;49m\u001b[43m]\u001b[49m\n",
      "\u001b[0;31mTypeError\u001b[0m: can't multiply sequence by non-int of type 'list'"
     ]
    }
   ],
   "source": [
    "# this will muptiply 1 * 2\n",
    "[1] * [2]\n",
    "# or not : TypeError: can't multiply sequence by non-int of type 'list'"
   ]
  },
  {
   "cell_type": "code",
   "execution_count": 172,
   "id": "10f2f273",
   "metadata": {},
   "outputs": [
    {
     "data": {
      "text/plain": [
       "True"
      ]
     },
     "execution_count": 172,
     "metadata": {},
     "output_type": "execute_result"
    }
   ],
   "source": [
    "# not sure\n",
    "[] + [] == []\n",
    "# True"
   ]
  },
  {
   "cell_type": "code",
   "execution_count": 173,
   "id": "dc664883",
   "metadata": {},
   "outputs": [
    {
     "ename": "TypeError",
     "evalue": "unsupported operand type(s) for +: 'dict' and 'dict'",
     "output_type": "error",
     "traceback": [
      "\u001b[0;31m---------------------------------------------------------------------------\u001b[0m",
      "\u001b[0;31mTypeError\u001b[0m                                 Traceback (most recent call last)",
      "Input \u001b[0;32mIn [173]\u001b[0m, in \u001b[0;36m<cell line: 2>\u001b[0;34m()\u001b[0m\n\u001b[1;32m      1\u001b[0m \u001b[38;5;66;03m# will add the two {} ??\u001b[39;00m\n\u001b[0;32m----> 2\u001b[0m \u001b[43m{\u001b[49m\u001b[43m}\u001b[49m\u001b[43m \u001b[49m\u001b[38;5;241;43m+\u001b[39;49m\u001b[43m \u001b[49m\u001b[43m{\u001b[49m\u001b[43m}\u001b[49m\n",
      "\u001b[0;31mTypeError\u001b[0m: unsupported operand type(s) for +: 'dict' and 'dict'"
     ]
    }
   ],
   "source": [
    "# will add the two {} ??\n",
    "{} + {}\n",
    "# will not add the two : TypeError: unsupported operand type(s) for +: 'dict' and 'dict'"
   ]
  }
 ],
 "metadata": {
  "kernelspec": {
   "display_name": "Python 3 (ipykernel)",
   "language": "python",
   "name": "python3"
  },
  "language_info": {
   "codemirror_mode": {
    "name": "ipython",
    "version": 3
   },
   "file_extension": ".py",
   "mimetype": "text/x-python",
   "name": "python",
   "nbconvert_exporter": "python",
   "pygments_lexer": "ipython3",
   "version": "3.9.13"
  }
 },
 "nbformat": 4,
 "nbformat_minor": 5
}
