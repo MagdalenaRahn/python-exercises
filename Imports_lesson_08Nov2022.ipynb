{
 "cells": [
  {
   "cell_type": "code",
   "execution_count": 1,
   "id": "dd9c4445",
   "metadata": {},
   "outputs": [],
   "source": [
    "## Module : \n",
    "    ## a .py file that contains functions that can be accessed (imported) later for use. \n",
    "    ## For example, exercises that we've done in .py (only) can be imported as modules. \n",
    "    ## (Save an .ipynb to text file as .py to get this done.)\n",
    "    \n",
    "## Package :\n",
    "    ## A collection of modules : a collection of code.\n",
    "    ## A package can also contain libraries.\n",
    "    \n",
    "## Library :\n",
    "    ## Many packages.\n",
    "    ## A collection of code, what it does and how to utilise it.\n",
    "    \n",
    "\n",
    "    # See : https://ds.codeup.com/python/imports\n",
    "    "
   ]
  },
  {
   "cell_type": "code",
   "execution_count": 2,
   "id": "493f67da",
   "metadata": {},
   "outputs": [],
   "source": [
    "# Ways to import :\n",
    "\n",
    "## 1/ Import math\n",
    "    # math.sqrt(25) --> libraryname.function\n",
    "\n",
    "## 2/ From math import sqrt\n",
    "    # sqrt(25)\n",
    "    \n",
    "## 3/ Import numpy as np\n",
    "    # np.mean()\n",
    "    \n",
    "## 4/ Import pandas as pd 熊貓\n",
    "    # pd.DataFrame()\n",
    "\n",
    "## 5/ Import seaborn as sns\n",
    "    # sns._____\n",
    "    # https://seaborn.pydata.org/tutorial/introduction\n",
    "    # \"[A] library for making statistical graphics in Python. \n",
    "      # \"It builds on top of matplotlib and integrates closely with pandas data structures.\"\n",
    "\n",
    "        \n",
    "## Put all imports at the top of the document\n"
   ]
  },
  {
   "cell_type": "code",
   "execution_count": 4,
   "id": "093bd11f",
   "metadata": {},
   "outputs": [],
   "source": [
    "import numpy as np\n",
    "import pandas as pd\n",
    "import matplotlib.pyplot as plt\n",
    "import seaborn as sns"
   ]
  },
  {
   "cell_type": "code",
   "execution_count": 3,
   "id": "75930cbb",
   "metadata": {},
   "outputs": [],
   "source": [
    "from math import sqrt"
   ]
  },
  {
   "cell_type": "code",
   "execution_count": 5,
   "id": "c2aab29c",
   "metadata": {},
   "outputs": [
    {
     "data": {
      "text/plain": [
       "5.0"
      ]
     },
     "execution_count": 5,
     "metadata": {},
     "output_type": "execute_result"
    }
   ],
   "source": [
    "sqrt(25)"
   ]
  },
  {
   "cell_type": "code",
   "execution_count": 8,
   "id": "34b66b13",
   "metadata": {},
   "outputs": [],
   "source": [
    "# created a .py text file in jupyter notebook\n",
    "# bc my .py file starts with a capital lettre, the import must also\n",
    "\n",
    "import Imports_less_module as ilm\n"
   ]
  },
  {
   "cell_type": "code",
   "execution_count": 15,
   "id": "3646f8e2",
   "metadata": {},
   "outputs": [
    {
     "data": {
      "text/plain": [
       "9"
      ]
     },
     "execution_count": 15,
     "metadata": {},
     "output_type": "execute_result"
    }
   ],
   "source": [
    "ilm.arg_function(4)\n",
    "\n",
    "# this returns the equasion as written in the ilm file.\n",
    "# 'x' in the ilm file 'arg_function' holds the place until user enters a number, like done above."
   ]
  },
  {
   "cell_type": "code",
   "execution_count": 16,
   "id": "1723c930",
   "metadata": {
    "scrolled": true
   },
   "outputs": [
    {
     "ename": "TypeError",
     "evalue": "no_arg_function() takes 0 positional arguments but 1 was given",
     "output_type": "error",
     "traceback": [
      "\u001b[0;31m---------------------------------------------------------------------------\u001b[0m",
      "\u001b[0;31mTypeError\u001b[0m                                 Traceback (most recent call last)",
      "Input \u001b[0;32mIn [16]\u001b[0m, in \u001b[0;36m<cell line: 1>\u001b[0;34m()\u001b[0m\n\u001b[0;32m----> 1\u001b[0m \u001b[43milm\u001b[49m\u001b[38;5;241;43m.\u001b[39;49m\u001b[43mno_arg_function\u001b[49m\u001b[43m(\u001b[49m\u001b[38;5;241;43m3\u001b[39;49m\u001b[43m)\u001b[49m\n",
      "\u001b[0;31mTypeError\u001b[0m: no_arg_function() takes 0 positional arguments but 1 was given"
     ]
    }
   ],
   "source": [
    "ilm.no_arg_function(3)\n",
    "\n",
    "# functions need arguments, as seen here. \n",
    "# The ilm file's ''no_arg_function'' had no idea what to do in this case, bc it had no arg\n",
    "        # \"TypeError: no_arg_function() takes 0 positional arguments but 1 was given\""
   ]
  },
  {
   "cell_type": "code",
   "execution_count": null,
   "id": "49c9ae11",
   "metadata": {},
   "outputs": [],
   "source": [
    "## When a module is imported from a .py file into a notebook, ALL of the code is imported and will run."
   ]
  },
  {
   "cell_type": "code",
   "execution_count": 17,
   "id": "edfc595c",
   "metadata": {},
   "outputs": [],
   "source": [
    "\n",
    "## if \"\" __name__ == '__main__' \"\": \n",
    "    \n",
    "    ## A conditional.\n",
    "\n",
    "    ## Expirminetal code : tests to see if it's being run as a file or as a module.\n",
    "    ## The underscores around the words are necessary.\n",
    "    \n",
    "    ## This specific 'if' statement allows for all code / functions under this statement to be tested \n",
    "        ## for debugging without actually running all of the code."
   ]
  },
  {
   "cell_type": "code",
   "execution_count": null,
   "id": "426a2c71",
   "metadata": {},
   "outputs": [],
   "source": []
  }
 ],
 "metadata": {
  "kernelspec": {
   "display_name": "Python 3 (ipykernel)",
   "language": "python",
   "name": "python3"
  },
  "language_info": {
   "codemirror_mode": {
    "name": "ipython",
    "version": 3
   },
   "file_extension": ".py",
   "mimetype": "text/x-python",
   "name": "python",
   "nbconvert_exporter": "python",
   "pygments_lexer": "ipython3",
   "version": "3.9.13"
  }
 },
 "nbformat": 4,
 "nbformat_minor": 5
}
