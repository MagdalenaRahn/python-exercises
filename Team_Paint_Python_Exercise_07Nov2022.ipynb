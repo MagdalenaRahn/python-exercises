{
 "cells": [
  {
   "cell_type": "code",
   "execution_count": 88,
   "id": "fe6c2c9d",
   "metadata": {},
   "outputs": [
    {
     "ename": "TypeError",
     "evalue": "unsupported operand type(s) for /: 'function' and 'int'",
     "output_type": "error",
     "traceback": [
      "\u001b[0;31m---------------------------------------------------------------------------\u001b[0m",
      "\u001b[0;31mTypeError\u001b[0m                                 Traceback (most recent call last)",
      "Input \u001b[0;32mIn [88]\u001b[0m, in \u001b[0;36m<cell line: 7>\u001b[0;34m()\u001b[0m\n\u001b[1;32m      5\u001b[0m     \u001b[38;5;28;01mreturn\u001b[39;00m final_cost\n\u001b[1;32m      6\u001b[0m     \u001b[38;5;66;03m# return the value from the function, not the function itself\u001b[39;00m\n\u001b[0;32m----> 7\u001b[0m \u001b[43mstandard_cost\u001b[49m\u001b[43m(\u001b[49m\u001b[43m)\u001b[49m\n",
      "Input \u001b[0;32mIn [88]\u001b[0m, in \u001b[0;36mstandard_cost\u001b[0;34m()\u001b[0m\n\u001b[1;32m      3\u001b[0m \u001b[38;5;28;01mdef\u001b[39;00m \u001b[38;5;21mstandard_cost\u001b[39m():\n\u001b[0;32m----> 4\u001b[0m     final_cost \u001b[38;5;241m=\u001b[39m math\u001b[38;5;241m.\u001b[39mceil(\u001b[43marea\u001b[49m\u001b[43m \u001b[49m\u001b[38;5;241;43m/\u001b[39;49m\u001b[43m \u001b[49m\u001b[43mstd_feet\u001b[49m) \u001b[38;5;241m*\u001b[39m std_price\n\u001b[1;32m      5\u001b[0m     \u001b[38;5;28;01mreturn\u001b[39;00m final_cost\n",
      "\u001b[0;31mTypeError\u001b[0m: unsupported operand type(s) for /: 'function' and 'int'"
     ]
    }
   ],
   "source": [
    "## initial attempt\n",
    "## IGNORE\n",
    "\n",
    "def standard_cost():\n",
    "    final_cost = math.ceil(area / std_feet) * std_price\n",
    "    return final_cost\n",
    "    # return the value from the function, not the function itself\n",
    "standard_cost()"
   ]
  },
  {
   "cell_type": "code",
   "execution_count": 46,
   "id": "4e54f8c2",
   "metadata": {},
   "outputs": [
    {
     "name": "stdout",
     "output_type": "stream",
     "text": [
      "Enter the length of the first wall in feet : 4\n",
      "Enter the length of the second wall in feet : 3\n",
      "Enter the height in feet : 3\n",
      "Enter the preferred paint grade : sd\n",
      "Enter the number of coats desired : 1\n",
      "[]\n"
     ]
    }
   ],
   "source": [
    "import math\n",
    "\n",
    "### std_price\n",
    "# prem_price\n",
    "# pro_price\n",
    "\n",
    "# std_feet\n",
    "# prem_feet\n",
    "# pro_feet\n",
    "\n",
    "# pg = paint grade\n",
    "\n",
    "# 1. select paint grade\n",
    "# 2. calculate room area \n",
    "# 3. calculate amt of paint needed to cover space (sq feet per can), subtract 9 sqf from total area\n",
    "# 4. calculate price\n",
    "\n",
    "## what are we painting ? l x h x 2, l x w x 2\n",
    "\n",
    "## funciton area dvi by sqf std round up multiply by std price\n",
    "## if pg = std print stdfunction.\n",
    "\n",
    "l_1 = float(input('Enter the length of the first wall in feet : '))\n",
    "l_2 = float(input('Enter the length of the second wall in feet : '))\n",
    "h = float(input('Enter the height in feet : '))\n",
    "pg = input('Enter the preferred paint grade : ')\n",
    "coats = float(input('Enter the number of coats desired : '))\n",
    "door = 9\n",
    "\n",
    "std_area = []\n",
    "sq_feet = []\n",
    "price = []\n",
    "area = []\n",
    "coats = []\n",
    "print(std_area)\n",
    "std_feet = 400\n",
    "std_price = 42.99\n"
   ]
  },
  {
   "cell_type": "code",
   "execution_count": 47,
   "id": "262dfc9a",
   "metadata": {},
   "outputs": [],
   "source": [
    "## this is the way : global variables in a universal function. Arguments can be replaced with other \n",
    "## argument-words, noting that the order will be important.\n",
    "\n",
    "def standard_cost(area, sq_feet, price, coats):\n",
    "    '''this creates arguments in the standard_cost function, allowing the function to be used elsewhere.'''\n",
    "    \n",
    "    final_cost = math.ceil(area(l_1, l_2, h, door) / sq_feet) * price * coats\n",
    "    return final_cost\n",
    "\n"
   ]
  },
  {
   "cell_type": "code",
   "execution_count": 48,
   "id": "1664b429",
   "metadata": {},
   "outputs": [
    {
     "ename": "TypeError",
     "evalue": "'list' object is not callable",
     "output_type": "error",
     "traceback": [
      "\u001b[0;31m---------------------------------------------------------------------------\u001b[0m",
      "\u001b[0;31mTypeError\u001b[0m                                 Traceback (most recent call last)",
      "Input \u001b[0;32mIn [48]\u001b[0m, in \u001b[0;36m<cell line: 1>\u001b[0;34m()\u001b[0m\n\u001b[0;32m----> 1\u001b[0m \u001b[43mstandard_cost\u001b[49m\u001b[43m(\u001b[49m\u001b[43marea\u001b[49m\u001b[43m,\u001b[49m\u001b[43m \u001b[49m\u001b[43msq_feet\u001b[49m\u001b[43m,\u001b[49m\u001b[43m \u001b[49m\u001b[43mprice\u001b[49m\u001b[43m,\u001b[49m\u001b[43m \u001b[49m\u001b[43mcoats\u001b[49m\u001b[43m)\u001b[49m\n",
      "Input \u001b[0;32mIn [47]\u001b[0m, in \u001b[0;36mstandard_cost\u001b[0;34m(area, sq_feet, price, coats)\u001b[0m\n\u001b[1;32m      4\u001b[0m \u001b[38;5;28;01mdef\u001b[39;00m \u001b[38;5;21mstandard_cost\u001b[39m(area, sq_feet, price, coats):\n\u001b[1;32m      5\u001b[0m     \u001b[38;5;124;03m'''this creates arguments in the standard_cost function, allowing the function to be used elsewhere.'''\u001b[39;00m\n\u001b[0;32m----> 7\u001b[0m     final_cost \u001b[38;5;241m=\u001b[39m math\u001b[38;5;241m.\u001b[39mceil(\u001b[43marea\u001b[49m\u001b[43m(\u001b[49m\u001b[43ml_1\u001b[49m\u001b[43m,\u001b[49m\u001b[43m \u001b[49m\u001b[43ml_2\u001b[49m\u001b[43m,\u001b[49m\u001b[43m \u001b[49m\u001b[43mh\u001b[49m\u001b[43m,\u001b[49m\u001b[43m \u001b[49m\u001b[43mdoor\u001b[49m\u001b[43m)\u001b[49m \u001b[38;5;241m/\u001b[39m sq_feet) \u001b[38;5;241m*\u001b[39m price \u001b[38;5;241m*\u001b[39m coats\n\u001b[1;32m      8\u001b[0m     \u001b[38;5;28;01mreturn\u001b[39;00m final_cost\n",
      "\u001b[0;31mTypeError\u001b[0m: 'list' object is not callable"
     ]
    }
   ],
   "source": [
    "standard_cost(area, sq_feet, price, coats)\n",
    "\n",
    "# takes real variables and plugs them in to the standardised 'standard_cost' function"
   ]
  },
  {
   "cell_type": "code",
   "execution_count": 82,
   "id": "7a84a7a1",
   "metadata": {},
   "outputs": [
    {
     "data": {
      "text/plain": [
       "85.98"
      ]
     },
     "execution_count": 82,
     "metadata": {},
     "output_type": "execute_result"
    }
   ],
   "source": [
    "## global variable designed to accept any vairable input. It awaits user input\n",
    "\n",
    "def cost(area, sq_feet, price, coats):\n",
    "    final_cost = math.ceil(area / sq_feet) * price * coats\n",
    "    return final_cost \n",
    "\n",
    "cost(std_area, std_feet, std_price, coats)"
   ]
  },
  {
   "cell_type": "code",
   "execution_count": 77,
   "id": "e074b79c",
   "metadata": {},
   "outputs": [
    {
     "data": {
      "text/plain": [
       "85.98"
      ]
     },
     "execution_count": 77,
     "metadata": {},
     "output_type": "execute_result"
    }
   ],
   "source": [
    "cost(area, std_feet, std_price, coats)"
   ]
  },
  {
   "cell_type": "code",
   "execution_count": 78,
   "id": "4086c2f4",
   "metadata": {},
   "outputs": [
    {
     "ename": "NameError",
     "evalue": "name 'prem_feet' is not defined",
     "output_type": "error",
     "traceback": [
      "\u001b[0;31m---------------------------------------------------------------------------\u001b[0m",
      "\u001b[0;31mNameError\u001b[0m                                 Traceback (most recent call last)",
      "Input \u001b[0;32mIn [78]\u001b[0m, in \u001b[0;36m<cell line: 1>\u001b[0;34m()\u001b[0m\n\u001b[0;32m----> 1\u001b[0m cost(area, \u001b[43mprem_feet\u001b[49m, prem_price, coats)\n",
      "\u001b[0;31mNameError\u001b[0m: name 'prem_feet' is not defined"
     ]
    }
   ],
   "source": [
    "cost(area, prem_feet, prem_price, coats)"
   ]
  },
  {
   "cell_type": "code",
   "execution_count": null,
   "id": "6d64dea0",
   "metadata": {},
   "outputs": [],
   "source": [
    "cost(area, std_feet, pro_price, coats)"
   ]
  },
  {
   "cell_type": "code",
   "execution_count": null,
   "id": "f2a9435f",
   "metadata": {},
   "outputs": [],
   "source": [
    "def area(wall_1, wall_2, height, door):\n",
    "    final_area = (wall_1 * height * 2) + (wall_2 * height * 2) - door\n",
    "return area\n",
    "area(wall_1, wall_2, height, door)"
   ]
  },
  {
   "cell_type": "code",
   "execution_count": null,
   "id": "70364295",
   "metadata": {},
   "outputs": [],
   "source": []
  },
  {
   "cell_type": "code",
   "execution_count": null,
   "id": "7b76e6c8",
   "metadata": {},
   "outputs": [],
   "source": []
  },
  {
   "cell_type": "code",
   "execution_count": 15,
   "id": "1d45e067",
   "metadata": {},
   "outputs": [
    {
     "name": "stdout",
     "output_type": "stream",
     "text": [
      "Enter the length of the first wall in feet : 4\n",
      "Enter the width of the second wall in feet : 4\n",
      "Enter the height in feet : 4\n",
      "Enter the preferred paint grade (standard, premium or professional) : standard\n",
      "Enter the number of coats desired : 4\n",
      "55.0 sq ft, 1 buckets, $ 171.96 ,  5.11 sq m\n"
     ]
    }
   ],
   "source": [
    "import math\n",
    "stdprice = 42.99\n",
    "'''standard paint price'''\n",
    "premprice = 55.99\n",
    "'''premuim paint price'''\n",
    "proprice = 74.99\n",
    "'''professional paint price'''\n",
    "\n",
    "stdft = 400\n",
    "'''sqft that one can of standard paint will cover'''\n",
    "premft = 500\n",
    "'''sqft that one can of premium paint will cover'''\n",
    "proft = 600\n",
    "'''sqft that one can of professional paint will cover'''\n",
    "\n",
    "l = input('Enter the length of the first wall in feet : ')\n",
    "w = input('Enter the width of the second wall in feet : ')\n",
    "h = input('Enter the height in feet : ')\n",
    "pg = input('Enter the preferred paint grade (standard, premium or professional) : ')\n",
    "coats = input('Enter the number of coats desired : ')\n",
    "l = float(l)\n",
    "w = float(w)\n",
    "h = float(h)\n",
    "coats = int(coats)\n",
    "door = 9\n",
    "\n",
    "def area(length, width, height, door):\n",
    "    final_area = length * height * 2 + width * height * 2 - door\n",
    "    return final_area\n",
    "\n",
    "def buckets(area, sqft):\n",
    "    final_buckets = math.ceil(area(l, w, h, door) / sqft)\n",
    "    return final_buckets\n",
    "\n",
    "def cost(area, sqft, price, coats):\n",
    "    final_cost = math.ceil(area(l, w, h, door) / sqft) * price * coats\n",
    "    return round(final_cost, 2)\n",
    "\n",
    "def meter(area):\n",
    "    total_meter = area(l, w, h, door) / 10.7639\n",
    "    return round(total_meter, 3)\n",
    "\n",
    "if pg == 'standard':\n",
    "    print(area(l, w, h, door), 'sq ft,', buckets(area, stdft), 'buckets,', \n",
    "          '$', cost(area, stdft, stdprice, coats),', ', meter(area), 'sq m')\n",
    "elif pg == 'premium':\n",
    "    print(area(l, w, h, door), 'sq ft,', buckets(area, premft), 'buckets',\n",
    "          '$', cost(area, premft, premprice, coats),', ', meter(area), 'sq m')\n",
    "elif pg == 'professional':\n",
    "    print(area(l, w, h, door), 'sq ft,', buckets(area, proft), 'buckets,',\n",
    "          '$', cost(area, proft, proprice, coats),', ', meter(area), 'sq m')\n",
    "else:\n",
    "    print('You have entered an incorrect grade of paint.')\n",
    "        \n"
   ]
  },
  {
   "cell_type": "code",
   "execution_count": 2,
   "id": "d4578149",
   "metadata": {},
   "outputs": [],
   "source": [
    "def area(length, width, height, door):\n",
    "    final_area = length * height * 2 + width * height * 2 - door\n",
    "    return final_area\n"
   ]
  },
  {
   "cell_type": "code",
   "execution_count": 3,
   "id": "1024d3eb",
   "metadata": {},
   "outputs": [],
   "source": [
    "def cost(area, sqft, price, coats):\n",
    "    final_cost = math.ceil(area(l, w, h, door) / sqft) * price * coats\n",
    "    return final_cost\n"
   ]
  },
  {
   "cell_type": "code",
   "execution_count": 4,
   "id": "869daa44",
   "metadata": {},
   "outputs": [
    {
     "name": "stdout",
     "output_type": "stream",
     "text": [
      "27.0 42.99\n"
     ]
    }
   ],
   "source": [
    "if pg == 'standard':\n",
    "    print(area(l, w, h, door), cost(area, stdft, stdprice, coats))\n",
    "elif pg == 'premium':\n",
    "    print(area(l, w, h, door), cost(area, premft, premprice, coats))\n",
    "elif pg == 'professional':\n",
    "    print(area(l, w, h, door), cost(area, proft, proprice, coats))\n",
    "else:\n",
    "    print('You have entered an incorrect grade of paint!')\n",
    "        "
   ]
  }
 ],
 "metadata": {
  "kernelspec": {
   "display_name": "Python 3 (ipykernel)",
   "language": "python",
   "name": "python3"
  },
  "language_info": {
   "codemirror_mode": {
    "name": "ipython",
    "version": 3
   },
   "file_extension": ".py",
   "mimetype": "text/x-python",
   "name": "python",
   "nbconvert_exporter": "python",
   "pygments_lexer": "ipython3",
   "version": "3.9.13"
  }
 },
 "nbformat": 4,
 "nbformat_minor": 5
}
