{
 "cells": [
  {
   "cell_type": "code",
   "execution_count": 1,
   "id": "c05ce3d1",
   "metadata": {},
   "outputs": [],
   "source": [
    "# What are we trying to control ?\n",
    "    # Controlling the flow of the programme based on the values of the variables.\n",
    "# What are we using to exact this control ?\n",
    "    # Using conditional statements (logic) to control the flow of the programme.\n",
    "\n",
    "# Trying to get the programem to responsd to the given variables.\n",
    "    # Will take dif path whether T / F\n",
    "\n",
    "# 'If' statements must have a condition to be met and must be followed by a colon \n",
    "    # and the indentation of the subsequent line.\n",
    "    # Follow this by 'else'. No condition associated necessary.\n",
    "\n",
    "# LOOPS\n",
    "    # A **'for'** loop : For element in list, for number in range : Loop through all the provided data, \n",
    "    # without ending after finding the first matching result.\n",
    "    # The **'while'** loop : Until a condition is no longer True.\n",
    "    "
   ]
  },
  {
   "cell_type": "code",
   "execution_count": 7,
   "id": "70245c6d",
   "metadata": {},
   "outputs": [
    {
     "name": "stdout",
     "output_type": "stream",
     "text": [
      "Elles sont jolies, tes lunettes.\n"
     ]
    }
   ],
   "source": [
    "wears_specs = True\n",
    "if wears_specs:\n",
    "    print('Elles sont jolies, tes lunettes.')"
   ]
  },
  {
   "cell_type": "code",
   "execution_count": 6,
   "id": "025792d3",
   "metadata": {},
   "outputs": [],
   "source": [
    "wears_specs = False\n",
    "if wears_specs:\n",
    "    print('Elles sont jolies, tes lunettes.')\n",
    "# nothing prints bc statement False."
   ]
  },
  {
   "cell_type": "code",
   "execution_count": 10,
   "id": "e02a6197",
   "metadata": {},
   "outputs": [
    {
     "name": "stdout",
     "output_type": "stream",
     "text": [
      "Je te suggère éviter à trop regarder l'écran.\n"
     ]
    }
   ],
   "source": [
    "wears_specs = False\n",
    "if wears_specs:\n",
    "    print('Elles sont jolies, tes lunettes.')\n",
    "else:\n",
    "    print('Je te suggère éviter à trop regarder l\\'écran.')"
   ]
  },
  {
   "cell_type": "code",
   "execution_count": 18,
   "id": "32d33f0c",
   "metadata": {},
   "outputs": [
    {
     "name": "stdout",
     "output_type": "stream",
     "text": [
      "T'es certain que ce n'est pas une plaisanterie ?\n"
     ]
    }
   ],
   "source": [
    "lunch = 21\n",
    "if lunch < 10:\n",
    "    print('C\\'est rare que l\\'on trouve un prix aussi abordable.')\n",
    "elif lunch < 20:                    # else + if needs another comparison\n",
    "    print('C\\'est plutôt normal.')\n",
    "else:\n",
    "    print('T\\'es certain que ce n\\'est pas une plaisanterie ?')"
   ]
  },
  {
   "cell_type": "code",
   "execution_count": 34,
   "id": "25b12b58",
   "metadata": {},
   "outputs": [
    {
     "data": {
      "text/plain": [
       "['lunettes', 'lunettes de soleil', 'lentilles', None]"
      ]
     },
     "execution_count": 34,
     "metadata": {},
     "output_type": "execute_result"
    }
   ],
   "source": [
    "eyewear = ['lunettes', 'lunettes de soleil', 'lentilles', None] \n",
    "    # None capitalised = a none-type object, a null.\n",
    "eyewear"
   ]
  },
  {
   "cell_type": "code",
   "execution_count": 35,
   "id": "291e8bfb",
   "metadata": {},
   "outputs": [
    {
     "name": "stdout",
     "output_type": "stream",
     "text": [
      "Elle est à son mieux quand elle porte des lunettes.\n",
      "Elle est à son mieux quand elle porte des lunettes de soleil.\n",
      "Elle est à son mieux quand elle porte des lentilles.\n",
      "Elle est à son mieux quand elle porte des None.\n"
     ]
    }
   ],
   "source": [
    "for objet in eyewear:\n",
    "    print(f'Elle est à son mieux quand elle porte des {objet}.')\n",
    "\n",
    "# looks through every item in the list"
   ]
  },
  {
   "cell_type": "code",
   "execution_count": 41,
   "id": "c6c2e18e",
   "metadata": {},
   "outputs": [
    {
     "name": "stdout",
     "output_type": "stream",
     "text": [
      "Elle est à son mieux quand elle porte lunettes.\n",
      "Elle est à son mieux quand elle porte lunettes de soleil.\n",
      "Elle est à son mieux quand elle porte lentilles.\n"
     ]
    }
   ],
   "source": [
    "for objet in eyewear:\n",
    "    if objet != None:\n",
    "        print(f'Elle est à son mieux quand elle porte {objet}.')"
   ]
  },
  {
   "cell_type": "code",
   "execution_count": 44,
   "id": "8ca77d42",
   "metadata": {},
   "outputs": [
    {
     "name": "stdout",
     "output_type": "stream",
     "text": [
      "Elle est à son mieux quand elle porte lunettes.\n",
      "Elle est à son mieux quand elle porte lunettes de soleil.\n",
      "Elle est à son mieux quand elle porte lentilles.\n",
      "Pas de lunettes.\n"
     ]
    }
   ],
   "source": [
    "for objet in eyewear:\n",
    "    if objet == None: \n",
    "    # alternately, ''if objet is None: '' -- the output is the same\n",
    "        print('Pas de lunettes.')\n",
    "    else:\n",
    "        print(f'Elle est à son mieux quand elle porte {objet}.')"
   ]
  },
  {
   "cell_type": "code",
   "execution_count": 46,
   "id": "555e3ae5",
   "metadata": {},
   "outputs": [
    {
     "name": "stdout",
     "output_type": "stream",
     "text": [
      "The world is salfe today.\n",
      "The world is salfe today.\n",
      "The world is salfe today.\n",
      "The world is salfe today.\n"
     ]
    }
   ],
   "source": [
    "# WHILE LOOPS\n",
    "\n",
    "i = 3\n",
    "while i < 7:\n",
    "    print('The world is salfe today.')\n",
    "# select to left of cell and hit 'stop' button above. \n",
    "    \n",
    "    # or add the following :\n",
    "    i += 1\n",
    "    \n",
    "    # the i += 1 lines allows i to meet the condition to stop the game."
   ]
  },
  {
   "cell_type": "code",
   "execution_count": 50,
   "id": "3a292d4a",
   "metadata": {},
   "outputs": [
    {
     "name": "stdout",
     "output_type": "stream",
     "text": [
      "2\n",
      "4\n",
      "16\n",
      "256\n"
     ]
    }
   ],
   "source": [
    "i = 2\n",
    "\n",
    "while i < 257:\n",
    "    print(i)\n",
    "    i =  i ** 2"
   ]
  },
  {
   "cell_type": "code",
   "execution_count": 55,
   "id": "43eb316b",
   "metadata": {},
   "outputs": [
    {
     "name": "stdout",
     "output_type": "stream",
     "text": [
      "2\n",
      "4\n",
      "16\n",
      "256\n",
      "65536\n"
     ]
    }
   ],
   "source": [
    "i = 2\n",
    "\n",
    "while i < 257 or i > 4: #infinite loop\n",
    "    \n",
    "    print(i)\n",
    "   \n",
    "    if i > 1_000: # add this break line to stop the cycle\n",
    "        break\n",
    "    \n",
    "    i = i ** 2"
   ]
  },
  {
   "cell_type": "code",
   "execution_count": 56,
   "id": "aa27510c",
   "metadata": {},
   "outputs": [
    {
     "data": {
      "text/plain": [
       "range(0, 10)"
      ]
     },
     "execution_count": 56,
     "metadata": {},
     "output_type": "execute_result"
    }
   ],
   "source": [
    "range(10)\n",
    "# THIS IS A LIST FROM 0 TO 9\n",
    "# Nothing stored, like a variable : it's an ITERABLE.\n",
    "    # Allows for iteration through the ingeters 0 to 9\n"
   ]
  },
  {
   "cell_type": "code",
   "execution_count": 67,
   "id": "b92c6cd9",
   "metadata": {},
   "outputs": [
    {
     "name": "stdout",
     "output_type": "stream",
     "text": [
      "0\n",
      "1\n",
      "2\n",
      "3\n",
      "4\n",
      "5\n",
      "6\n",
      "7\n",
      "8\n",
      "9\n"
     ]
    }
   ],
   "source": [
    "for i in range(10):\n",
    "    print (i)"
   ]
  },
  {
   "cell_type": "code",
   "execution_count": 2,
   "id": "46f0b2fc",
   "metadata": {},
   "outputs": [
    {
     "data": {
      "text/plain": [
       "5"
      ]
     },
     "execution_count": 2,
     "metadata": {},
     "output_type": "execute_result"
    }
   ],
   "source": [
    "odd_nos_count = 0\n",
    "\n",
    "for i in range(10):\n",
    "    if i % 2 == 1:\n",
    "        \n",
    "        odd_nos_count += 1\n",
    "    \n",
    "odd_nos_count\n",
    "    "
   ]
  },
  {
   "cell_type": "code",
   "execution_count": 87,
   "id": "94151e22",
   "metadata": {},
   "outputs": [
    {
     "name": "stdout",
     "output_type": "stream",
     "text": [
      "Three is not a countable number.\n"
     ]
    },
    {
     "data": {
      "text/plain": [
       "9"
      ]
     },
     "execution_count": 87,
     "metadata": {},
     "output_type": "execute_result"
    }
   ],
   "source": [
    "for i in range(10):\n",
    "    if i % 2 == 1:\n",
    "        \n",
    "        if i == 3:\n",
    "            \n",
    "            print('Three is not a countable number.')\n",
    "            \n",
    "            continue \n",
    "                    # 'continue' keeps the cycle going\n",
    "        else: \n",
    "            \n",
    "            odd_nos_count += 1\n",
    "    \n",
    "odd_nos_count"
   ]
  },
  {
   "cell_type": "code",
   "execution_count": 3,
   "id": "60d6fa47",
   "metadata": {},
   "outputs": [
    {
     "name": "stdout",
     "output_type": "stream",
     "text": [
      "1\n",
      "5\n",
      "7\n",
      "9\n"
     ]
    },
    {
     "data": {
      "text/plain": [
       "9"
      ]
     },
     "execution_count": 3,
     "metadata": {},
     "output_type": "execute_result"
    }
   ],
   "source": [
    "for i in range(10):\n",
    "    if i % 2 == 1:\n",
    "        \n",
    "        if i == 3:\n",
    "            \n",
    "            continue \n",
    "\n",
    "        else: \n",
    "            \n",
    "            print(i)\n",
    "            \n",
    "            odd_nos_count += 1\n",
    "    \n",
    "odd_nos_count"
   ]
  },
  {
   "cell_type": "code",
   "execution_count": 4,
   "id": "1646fcad",
   "metadata": {},
   "outputs": [
    {
     "name": "stdout",
     "output_type": "stream",
     "text": [
      "1\n",
      "3\n",
      "5\n"
     ]
    },
    {
     "data": {
      "text/plain": [
       "12"
      ]
     },
     "execution_count": 4,
     "metadata": {},
     "output_type": "execute_result"
    }
   ],
   "source": [
    "for i in range(10):\n",
    "    if i % 2 == 1:\n",
    "        \n",
    "        if i == 7:\n",
    "            \n",
    "            break \n",
    "\n",
    "        else: \n",
    "            \n",
    "            print(i)\n",
    "            \n",
    "            odd_nos_count += 1\n",
    "    \n",
    "odd_nos_count"
   ]
  },
  {
   "cell_type": "code",
   "execution_count": 95,
   "id": "7456de90",
   "metadata": {},
   "outputs": [
    {
     "name": "stdout",
     "output_type": "stream",
     "text": [
      "0\n",
      "1\n",
      "2\n",
      "3\n"
     ]
    }
   ],
   "source": [
    "i = 0 \n",
    "while i < 5:\n",
    "    print(i)\n",
    "    if i == 3:\n",
    "        break\n",
    "    i += 1"
   ]
  }
 ],
 "metadata": {
  "kernelspec": {
   "display_name": "Python 3 (ipykernel)",
   "language": "python",
   "name": "python3"
  },
  "language_info": {
   "codemirror_mode": {
    "name": "ipython",
    "version": 3
   },
   "file_extension": ".py",
   "mimetype": "text/x-python",
   "name": "python",
   "nbconvert_exporter": "python",
   "pygments_lexer": "ipython3",
   "version": "3.9.13"
  }
 },
 "nbformat": 4,
 "nbformat_minor": 5
}
