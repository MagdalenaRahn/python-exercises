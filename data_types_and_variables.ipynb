{
 "cells": [
  {
   "cell_type": "code",
   "execution_count": 4,
   "id": "8e7a791a",
   "metadata": {},
   "outputs": [
    {
     "data": {
      "text/plain": [
       "27"
      ]
     },
     "execution_count": 4,
     "metadata": {},
     "output_type": "execute_result"
    }
   ],
   "source": [
    "#Create a Python script file named data_types_and_variables.py. Inside it, write some Python code, that is, \\\n",
    "#variables and operators, to describe the following scenarios. Do not worry about the real operations to \n",
    "# get the values; the goal of these exercises is to understand how real-world conditions can be \n",
    "# represented with code.\n",
    "\n",
    "# 1/  You have rented some movies for your kids: The little mermaid (for 3 days), Brother Bear (for 5 days, they love it), and Hercules\n",
    " #    (1 day, you don't know yet if they're going to like it). If price for a movie per day is 3 dollars, how much will you have to pay?\n",
    "\n",
    "Little_Mermaid = (3 * 3)\n",
    "Brother_Bear = (5 * 3)\n",
    "Hercules = (1 * 3)\n",
    "\n",
    "Little_Mermaid + Brother_Bear + Hercules # result is 27"
   ]
  },
  {
   "cell_type": "code",
   "execution_count": 13,
   "id": "09a4ff3e",
   "metadata": {},
   "outputs": [
    {
     "data": {
      "text/plain": [
       "7420"
      ]
     },
     "execution_count": 13,
     "metadata": {},
     "output_type": "execute_result"
    }
   ],
   "source": [
    "# 2/  Suppose you're working as a contractor for 3 companies: Google, Amazon and Facebook, \n",
    "    # they pay you a different rate per hour. \n",
    "    #   Google pays 400 dollars per hour, Amazon 380, and Facebook 350. How much will you receive \n",
    "    #   in payment for this week? You worked 10 hours for Facebook, 6 hours for Google and 4 hours for Amazon.\n",
    "    \n",
    "Google_Pay = (400 * 6)\n",
    "Amazon_Pay = (380 * 4)\n",
    "Facebook_Pay = (350 * 10)\n",
    "Weekly_Pay = (Google_Pay + Amazon_Pay + Facebook_Pay)\n",
    "Weekly_Pay # 7420"
   ]
  },
  {
   "cell_type": "code",
   "execution_count": 15,
   "id": "572a72ee",
   "metadata": {},
   "outputs": [
    {
     "data": {
      "text/plain": [
       "False"
      ]
     },
     "execution_count": 15,
     "metadata": {},
     "output_type": "execute_result"
    }
   ],
   "source": [
    "# 3/  A student can be enrolled to a class only if the class is not full and the class schedule does \n",
    "    # not conflict with her current schedule.\n",
    "\n",
    "class_not_full = True\n",
    "no_sched_conflict = True\n",
    "\n",
    "enrol_in_class = class_not_full and no_sched_conflict\n",
    "enrol_in_class # True\n",
    "\n",
    "\n",
    "enrol_in_class = class_not_full and not no_sched_conflict\n",
    "enrol_in_class # False"
   ]
  },
  {
   "cell_type": "code",
   "execution_count": 38,
   "id": "61f35c38",
   "metadata": {},
   "outputs": [
    {
     "data": {
      "text/plain": [
       "True"
      ]
     },
     "execution_count": 38,
     "metadata": {},
     "output_type": "execute_result"
    }
   ],
   "source": [
    "#  4/  A product offer can be applied only if people buys more than 2 items, and the offer has not expired. \n",
    "    # Premium members do not need to buy a specific amount of products.\n",
    "\n",
    "buy_more_than_2 = True # buy > 2 to make offer apply\n",
    "offer_current = True # offer not expired\n",
    "premium_member = True # can buy any number of items to receive offer\n",
    "\n",
    "get_offer = buy_more_than_2 and offer_current\n",
    "get_offer # true\n",
    "\n",
    "get_offer_all = get_offer or premium_member\n",
    "get_offer_all # true\n"
   ]
  },
  {
   "cell_type": "markdown",
   "id": "83d2abe7",
   "metadata": {},
   "source": [
    "username = 'codeup'\n",
    "password = 'notastrongpassword'\n",
    "\n",
    "Create a variable that holds a boolean value for each of the following conditions:\n",
    "\n",
    "    the password must be at least 5 characters\n",
    "    the username must be no more than 20 characters\n",
    "    the password must not be the same as the username\n",
    "    bonus neither the username or password can start or end with whitespace\n"
   ]
  },
  {
   "cell_type": "code",
   "execution_count": 56,
   "id": "54a30901",
   "metadata": {},
   "outputs": [
    {
     "name": "stdout",
     "output_type": "stream",
     "text": [
      "codeup\n",
      "codeup\n"
     ]
    }
   ],
   "source": [
    "username = 'codeup'\n",
    "print(username)\n",
    "len(username)\n",
    "\n",
    "if len(username) > 5:\n",
    "        print(username)\n",
    "else:\n",
    "        print('less than 5')\n",
    "\n",
    "        "
   ]
  },
  {
   "cell_type": "code",
   "execution_count": 59,
   "id": "5b129c06",
   "metadata": {},
   "outputs": [
    {
     "name": "stdout",
     "output_type": "stream",
     "text": [
      "codeup\n",
      "True\n"
     ]
    }
   ],
   "source": [
    "username = 'codeup'\n",
    "print(username)\n",
    "len(username)\n",
    "\n",
    "if len(username) > 5:\n",
    "        print(True)\n",
    "else:\n",
    "        print(False)"
   ]
  },
  {
   "cell_type": "code",
   "execution_count": 57,
   "id": "d18bc303",
   "metadata": {},
   "outputs": [
    {
     "name": "stdout",
     "output_type": "stream",
     "text": [
      "Good choice.\n"
     ]
    }
   ],
   "source": [
    "password = 'notastrongpassword'\n",
    "if len(password) <= 20:\n",
    "    print('Good choice.')\n",
    "else:\n",
    "    print('Try again.')"
   ]
  },
  {
   "cell_type": "code",
   "execution_count": 61,
   "id": "788f9a00",
   "metadata": {},
   "outputs": [
    {
     "name": "stdout",
     "output_type": "stream",
     "text": [
      "True\n"
     ]
    }
   ],
   "source": [
    "password = 'notastrongpassword'\n",
    "if len(password) <= 20:\n",
    "    print(True)\n",
    "else:\n",
    "    print(False)"
   ]
  },
  {
   "cell_type": "code",
   "execution_count": 58,
   "id": "c871d567",
   "metadata": {},
   "outputs": [
    {
     "name": "stdout",
     "output_type": "stream",
     "text": [
      "Accepted.\n"
     ]
    }
   ],
   "source": [
    "if password == username:\n",
    "    print('Not permitted.')\n",
    "else:\n",
    "    print('Accepted.')"
   ]
  },
  {
   "cell_type": "code",
   "execution_count": 62,
   "id": "b5aed4fa",
   "metadata": {},
   "outputs": [
    {
     "name": "stdout",
     "output_type": "stream",
     "text": [
      "True\n"
     ]
    }
   ],
   "source": [
    "if password == username:\n",
    "    print(False)\n",
    "else:\n",
    "    print(True)"
   ]
  }
 ],
 "metadata": {
  "kernelspec": {
   "display_name": "Python 3 (ipykernel)",
   "language": "python",
   "name": "python3"
  },
  "language_info": {
   "codemirror_mode": {
    "name": "ipython",
    "version": 3
   },
   "file_extension": ".py",
   "mimetype": "text/x-python",
   "name": "python",
   "nbconvert_exporter": "python",
   "pygments_lexer": "ipython3",
   "version": "3.9.13"
  }
 },
 "nbformat": 4,
 "nbformat_minor": 5
}
