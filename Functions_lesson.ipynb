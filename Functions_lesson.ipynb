{
 "cells": [
  {
   "cell_type": "code",
   "execution_count": 1,
   "id": "18c8d14c",
   "metadata": {},
   "outputs": [
    {
     "name": "stdout",
     "output_type": "stream",
     "text": [
      "4\n",
      "The max is 4 .\n",
      "7\n",
      "HEY THERE !!!\n",
      "None\n",
      "Hey there!\n"
     ]
    }
   ],
   "source": [
    "## 04 November 2022\n",
    "\n",
    "\n",
    "maximum_number = max([4, 2, 3, 1])\n",
    "print(maximum_number)\n",
    "# The value that the function produces, also called the return value, \n",
    " # can be assigned to a variable, or used as an argument to another function\n",
    "    \n",
    "print('The max is ' + str(max([4, 2, 3, 1])),'.')\n",
    "# Here, the return value of the max function is being passed as an argument to the str function.\n",
    "\n",
    "# ---\n",
    "def increment(n):\n",
    "    return n + 1\n",
    "\n",
    "adf = increment(increment(increment(increment(3))))\n",
    "print(adf)\n",
    "# ---\n",
    "\n",
    "\n",
    "# ---\n",
    "def increment(n):\n",
    "    return n + 1\n",
    "    print('You will never see this')\n",
    "    return n + 3\n",
    "\n",
    "increment(5)\n",
    "## a function only can ever execute ONE return statement; \n",
    "    # when a return statement is reached, no more code in the function will be executed.\n",
    "    # a variable assigned inside a function will only exist inside of that function. Aka a 'scope'.\n",
    "# ---\n",
    "\n",
    "\n",
    "# ---\n",
    "def add(a, b):\n",
    "    result = a + b\n",
    "    return result\n",
    "\n",
    "x = 3\n",
    "seven = add(x, 4)\n",
    "\n",
    "## a and b are the PARAMETRES of the 'add' function.\n",
    " # parameters for accepting arguments\n",
    "    \n",
    "## when the function is called, the ARGUMENTS are the value of the variable 'x', and '4'.\n",
    "    # SOME funcitons take many arguments, some are passed by possition or keyword, some are optional, etc.\n",
    "# ---\n",
    "\n",
    "\n",
    "# ---\n",
    "def shout(message):\n",
    "    print(message.upper() + ' !!!')\n",
    "\n",
    "return_value = shout('hey there')\n",
    "print(return_value)\n",
    "# ---\n",
    "\n",
    "\n",
    "# ---\n",
    "def sayhello():\n",
    "    print('Hey there!')\n",
    "\n",
    "sayhello()\n",
    "# ---"
   ]
  },
  {
   "cell_type": "code",
   "execution_count": 2,
   "id": "9b6ab609",
   "metadata": {},
   "outputs": [],
   "source": [
    "## DEFINING FUNCTIONS\n",
    "## useful in simplifying tasks\n",
    "## Acquire and prepare data from various sources : in order for it to be reproduceavble, \n",
    "    # turn it into functions that can be used on other computers\n",
    "    \n",
    "\n",
    "# LAMBDA FUNCTIONS: substitute for a fully-fledged function.\n",
    "    # Allows for one-time use.\n",
    "    # Smaller operations (mathematical, etc)"
   ]
  },
  {
   "cell_type": "code",
   "execution_count": null,
   "id": "390fa064",
   "metadata": {},
   "outputs": [],
   "source": []
  },
  {
   "cell_type": "code",
   "execution_count": 3,
   "id": "d8d9583f",
   "metadata": {},
   "outputs": [
    {
     "data": {
      "text/plain": [
       "90"
      ]
     },
     "execution_count": 3,
     "metadata": {},
     "output_type": "execute_result"
    }
   ],
   "source": [
    "#create a list\n",
    "\n",
    "num_list = [3,4,1,5,33,7,4,2,8,90]\n",
    "max(num_list) \n",
    "    #using function 'max()' to call the argument 'num_list'"
   ]
  },
  {
   "cell_type": "code",
   "execution_count": 4,
   "id": "6064def4",
   "metadata": {},
   "outputs": [
    {
     "name": "stdout",
     "output_type": "stream",
     "text": [
      "8100\n"
     ]
    },
    {
     "data": {
      "text/plain": [
       "8100"
      ]
     },
     "execution_count": 4,
     "metadata": {},
     "output_type": "execute_result"
    }
   ],
   "source": [
    "# create function to find squared of max value of list\n",
    "\n",
    "def square_max(my_list):\n",
    "        # 'my_list' is currently a placeholder. It represents the function of which it is a part.\n",
    "    \n",
    "    print(max(my_list) ** 2)\n",
    "    \n",
    "    return max(my_list) ** 2\n",
    "\n",
    "square_max(num_list)\n",
    "\n",
    "## 'return' statement required because that is what stores it in a variable (see following lines)."
   ]
  },
  {
   "cell_type": "code",
   "execution_count": 5,
   "id": "623acb5c",
   "metadata": {},
   "outputs": [
    {
     "name": "stdout",
     "output_type": "stream",
     "text": [
      "8100\n"
     ]
    }
   ],
   "source": [
    "my_number = square_max(num_list) \n",
    "# variable to save this vaule"
   ]
  },
  {
   "cell_type": "code",
   "execution_count": 6,
   "id": "d58205b8",
   "metadata": {},
   "outputs": [
    {
     "data": {
      "text/plain": [
       "8100"
      ]
     },
     "execution_count": 6,
     "metadata": {},
     "output_type": "execute_result"
    }
   ],
   "source": [
    "my_number"
   ]
  },
  {
   "cell_type": "code",
   "execution_count": 7,
   "id": "b0f1b20f",
   "metadata": {},
   "outputs": [],
   "source": [
    "\n",
    "def cube_max(my_list):\n",
    "    \n",
    "    print(max(my_list) ** 3)\n",
    "    \n",
    "    return max(my_list) ** 3 ## we exist the function at the first return, so the following line will not work\n",
    "    return 'cube' ## this will not work, bc there's already been a return statemtn."
   ]
  },
  {
   "cell_type": "code",
   "execution_count": 8,
   "id": "997ed999",
   "metadata": {},
   "outputs": [
    {
     "name": "stdout",
     "output_type": "stream",
     "text": [
      "729000\n"
     ]
    },
    {
     "data": {
      "text/plain": [
       "729000"
      ]
     },
     "execution_count": 8,
     "metadata": {},
     "output_type": "execute_result"
    }
   ],
   "source": [
    "cube_max(num_list)"
   ]
  },
  {
   "cell_type": "code",
   "execution_count": 9,
   "id": "b2533ff8",
   "metadata": {},
   "outputs": [
    {
     "name": "stdout",
     "output_type": "stream",
     "text": [
      "729000\n"
     ]
    }
   ],
   "source": [
    "my_cubed_number = cube_max(num_list)"
   ]
  },
  {
   "cell_type": "code",
   "execution_count": 10,
   "id": "fe08a34b",
   "metadata": {},
   "outputs": [],
   "source": [
    "# is it possible to return muptiple elements from one function ?\n",
    "# Yes."
   ]
  },
  {
   "cell_type": "code",
   "execution_count": 11,
   "id": "53711cff",
   "metadata": {},
   "outputs": [],
   "source": [
    "def cube_max(my_list):\n",
    "    \n",
    "    print(max(my_list) ** 3)\n",
    "    \n",
    "    return max(my_list) ** 3, 'cube'"
   ]
  },
  {
   "cell_type": "code",
   "execution_count": 12,
   "id": "f3132174",
   "metadata": {},
   "outputs": [
    {
     "name": "stdout",
     "output_type": "stream",
     "text": [
      "729000\n"
     ]
    }
   ],
   "source": [
    "my_output = cube_max(num_list)"
   ]
  },
  {
   "cell_type": "code",
   "execution_count": 13,
   "id": "64c2db20",
   "metadata": {},
   "outputs": [
    {
     "data": {
      "text/plain": [
       "(729000, 'cube')"
      ]
     },
     "execution_count": 13,
     "metadata": {},
     "output_type": "execute_result"
    }
   ],
   "source": [
    "my_output ## the parentheses in the result indicate a TUPLE output."
   ]
  },
  {
   "cell_type": "code",
   "execution_count": 14,
   "id": "d5610e71",
   "metadata": {},
   "outputs": [
    {
     "name": "stdout",
     "output_type": "stream",
     "text": [
      "729000\n"
     ]
    }
   ],
   "source": [
    "number, word = cube_max(num_list)"
   ]
  },
  {
   "cell_type": "code",
   "execution_count": 15,
   "id": "b621288c",
   "metadata": {},
   "outputs": [
    {
     "data": {
      "text/plain": [
       "'cube'"
      ]
     },
     "execution_count": 15,
     "metadata": {},
     "output_type": "execute_result"
    }
   ],
   "source": [
    "#position of variable returns value in that position.\n",
    "\n",
    "#only one return statement will be returned from the function, but \n",
    "    # multiple cvalues can be returned from that statement.\n",
    "\n",
    "# can save variables to the different values.\n",
    "word"
   ]
  },
  {
   "cell_type": "code",
   "execution_count": 16,
   "id": "c6ce71c0",
   "metadata": {},
   "outputs": [],
   "source": [
    "def list_returner(my_list):\n",
    "    return my_list"
   ]
  },
  {
   "cell_type": "code",
   "execution_count": 17,
   "id": "0add5359",
   "metadata": {},
   "outputs": [],
   "source": [
    "new_list = list_returner(num_list)"
   ]
  },
  {
   "cell_type": "code",
   "execution_count": 18,
   "id": "066baafe",
   "metadata": {},
   "outputs": [
    {
     "data": {
      "text/plain": [
       "[3, 4, 1, 5, 33, 7, 4, 2, 8, 90]"
      ]
     },
     "execution_count": 18,
     "metadata": {},
     "output_type": "execute_result"
    }
   ],
   "source": [
    "new_list"
   ]
  },
  {
   "cell_type": "code",
   "execution_count": 19,
   "id": "945239a2",
   "metadata": {},
   "outputs": [
    {
     "data": {
      "text/plain": [
       "'red'"
      ]
     },
     "execution_count": 19,
     "metadata": {},
     "output_type": "execute_result"
    }
   ],
   "source": [
    "colours = ['blue', 'red', 'green']\n",
    "max(colours)\n",
    "# this returns the alphabetical max, not the longest word"
   ]
  },
  {
   "cell_type": "markdown",
   "id": "3367b1c5",
   "metadata": {},
   "source": [
    "### ruined_list = ['blue', 'green', '2', '2333333336', 'red']\n",
    "max(ruined_list)"
   ]
  },
  {
   "cell_type": "code",
   "execution_count": 20,
   "id": "43239840",
   "metadata": {},
   "outputs": [],
   "source": [
    "def list_comparer(list_a, list_b):\n",
    "    \n",
    "    if max(list_a) > max(list_b):\n",
    "        \n",
    "        print(f'{list_a} is the grand champion !')\n",
    "        \n",
    "    else:\n",
    "        \n",
    "        print(f'{list_b} rules the galaxy !')"
   ]
  },
  {
   "cell_type": "code",
   "execution_count": 21,
   "id": "d68b6cf4",
   "metadata": {},
   "outputs": [
    {
     "data": {
      "text/plain": [
       "[3, 4, 1, 5, 33, 7, 4, 2, 8, 90]"
      ]
     },
     "execution_count": 21,
     "metadata": {},
     "output_type": "execute_result"
    }
   ],
   "source": [
    "num_list"
   ]
  },
  {
   "cell_type": "code",
   "execution_count": 22,
   "id": "b132b9df",
   "metadata": {},
   "outputs": [
    {
     "data": {
      "text/plain": [
       "[111, 337, 34, 99, 54, 38, 44]"
      ]
     },
     "execution_count": 22,
     "metadata": {},
     "output_type": "execute_result"
    }
   ],
   "source": [
    "super_num_list = [111,337,34,99,54,38,44]\n",
    "super_num_list"
   ]
  },
  {
   "cell_type": "code",
   "execution_count": 23,
   "id": "5d217b40",
   "metadata": {},
   "outputs": [
    {
     "name": "stdout",
     "output_type": "stream",
     "text": [
      "[111, 337, 34, 99, 54, 38, 44] is the grand champion !\n"
     ]
    }
   ],
   "source": [
    "list_comparer(super_num_list, num_list)"
   ]
  },
  {
   "cell_type": "code",
   "execution_count": 24,
   "id": "c18878b3",
   "metadata": {},
   "outputs": [
    {
     "name": "stdout",
     "output_type": "stream",
     "text": [
      "[111, 337, 34, 99, 54, 38, 44] rules the galaxy !\n"
     ]
    }
   ],
   "source": [
    "list_comparer(num_list, super_num_list)\n",
    "# the positions of the lists changed cf list_a and list_b : positional arguments."
   ]
  },
  {
   "cell_type": "code",
   "execution_count": 25,
   "id": "bbfae807",
   "metadata": {},
   "outputs": [],
   "source": [
    "# how, regareless of position, do we get certain variables passed in the correct slots ?\n",
    "# assign keyword arguments to the variables. "
   ]
  },
  {
   "cell_type": "code",
   "execution_count": 26,
   "id": "66f46144",
   "metadata": {},
   "outputs": [
    {
     "name": "stdout",
     "output_type": "stream",
     "text": [
      "[111, 337, 34, 99, 54, 38, 44] is the grand champion !\n"
     ]
    }
   ],
   "source": [
    "list_comparer(list_a = super_num_list, list_b = num_list)\n",
    "# this assigns values to variables : keyword argument.\n",
    "# positional arguments must come before keyword arguments"
   ]
  },
  {
   "cell_type": "markdown",
   "id": "84af541f",
   "metadata": {},
   "source": [
    "# Default values, scope, lambda"
   ]
  },
  {
   "cell_type": "code",
   "execution_count": 27,
   "id": "2ee2ad22",
   "metadata": {},
   "outputs": [
    {
     "data": {
      "text/plain": [
       "47.24409448818898"
      ]
     },
     "execution_count": 27,
     "metadata": {},
     "output_type": "execute_result"
    }
   ],
   "source": [
    "# convert between inches and centimetres\n",
    "\n",
    "def converter(meas, metric = True): # meas is a non-default argument bc no = sign. It must go first. \n",
    "                        # Metric will always have a value, bc it's been denifed by detault (True)\n",
    "    \n",
    "    if metric:\n",
    "        \n",
    "        num_inches = meas / 2.54   # measurement by default in metric\n",
    "        \n",
    "        return num_inches\n",
    "    \n",
    "    else:\n",
    "        \n",
    "        num_cm = meas * 2.54\n",
    "        \n",
    "        return num_cm\n",
    "    \n",
    "converter(120, metric = True)"
   ]
  },
  {
   "cell_type": "code",
   "execution_count": 28,
   "id": "0ee5ebf8",
   "metadata": {
    "scrolled": true
   },
   "outputs": [
    {
     "data": {
      "text/plain": [
       "47.24409448818898"
      ]
     },
     "execution_count": 28,
     "metadata": {},
     "output_type": "execute_result"
    }
   ],
   "source": [
    "converter(120) # it takes on the value of True for 'metric' wihtout it having to be stated"
   ]
  },
  {
   "cell_type": "code",
   "execution_count": 29,
   "id": "b9af946e",
   "metadata": {},
   "outputs": [
    {
     "data": {
      "text/plain": [
       "119.9999886"
      ]
     },
     "execution_count": 29,
     "metadata": {},
     "output_type": "execute_result"
    }
   ],
   "source": [
    "converter(47.24409, 0) \n",
    "# or converter(47.24409, False), or converter(47.24409, metric = False)"
   ]
  },
  {
   "cell_type": "code",
   "execution_count": 30,
   "id": "4ba7b3e5",
   "metadata": {},
   "outputs": [
    {
     "data": {
      "text/plain": [
       "[3, 4, 1, 5, 33, 7, 4, 2, 8, 90]"
      ]
     },
     "execution_count": 30,
     "metadata": {},
     "output_type": "execute_result"
    }
   ],
   "source": [
    "# SCOPE\n",
    "\n",
    "num_list"
   ]
  },
  {
   "cell_type": "code",
   "execution_count": 37,
   "id": "ea42bd30",
   "metadata": {},
   "outputs": [],
   "source": [
    "def min_finder(my_list):\n",
    "    return min(num_list)"
   ]
  },
  {
   "cell_type": "code",
   "execution_count": 34,
   "id": "9543cb32",
   "metadata": {},
   "outputs": [],
   "source": [
    "dummy_list = [2,2,2,4,7]"
   ]
  },
  {
   "cell_type": "code",
   "execution_count": 35,
   "id": "1b041ccd",
   "metadata": {},
   "outputs": [
    {
     "data": {
      "text/plain": [
       "1"
      ]
     },
     "execution_count": 35,
     "metadata": {},
     "output_type": "execute_result"
    }
   ],
   "source": [
    "min_finder(dummy_list)\n",
    "# this returns the minimum of the list in the definition, a global variable.\n",
    "# yet, 'num_list' only exists in this current environment : its SCOPE is limited to this notebook."
   ]
  },
  {
   "cell_type": "code",
   "execution_count": 38,
   "id": "316cc60f",
   "metadata": {},
   "outputs": [],
   "source": [
    "def min_finder(my_list):\n",
    "    return min(my_list)"
   ]
  },
  {
   "cell_type": "code",
   "execution_count": 54,
   "id": "2b953fcf",
   "metadata": {},
   "outputs": [
    {
     "data": {
      "text/plain": [
       "2"
      ]
     },
     "execution_count": 54,
     "metadata": {},
     "output_type": "execute_result"
    }
   ],
   "source": [
    "min_finder(dummy_list)\n",
    "# this returns the min of 'dummy_list', bc the functions accord."
   ]
  },
  {
   "cell_type": "code",
   "execution_count": 52,
   "id": "2dccc37c",
   "metadata": {},
   "outputs": [
    {
     "data": {
      "text/plain": [
       "2"
      ]
     },
     "execution_count": 52,
     "metadata": {},
     "output_type": "execute_result"
    }
   ],
   "source": [
    "x = min_finder(dummy_list)  ## this variable assures that the function will return correctly\n",
    "\n",
    "def min_finder(my_list):\n",
    "    \n",
    "    x = min(my_list)\n",
    "    \n",
    "    return x\n",
    "x"
   ]
  },
  {
   "cell_type": "code",
   "execution_count": 53,
   "id": "3af9cbd5",
   "metadata": {},
   "outputs": [
    {
     "data": {
      "text/plain": [
       "2"
      ]
     },
     "execution_count": 53,
     "metadata": {},
     "output_type": "execute_result"
    }
   ],
   "source": [
    "min_finder(dummy_list)"
   ]
  }
 ],
 "metadata": {
  "kernelspec": {
   "display_name": "Python 3 (ipykernel)",
   "language": "python",
   "name": "python3"
  },
  "language_info": {
   "codemirror_mode": {
    "name": "ipython",
    "version": 3
   },
   "file_extension": ".py",
   "mimetype": "text/x-python",
   "name": "python",
   "nbconvert_exporter": "python",
   "pygments_lexer": "ipython3",
   "version": "3.9.13"
  }
 },
 "nbformat": 4,
 "nbformat_minor": 5
}
